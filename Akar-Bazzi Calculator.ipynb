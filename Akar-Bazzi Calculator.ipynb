{
 "cells": [
  {
   "cell_type": "markdown",
   "id": "b157bb3b",
   "metadata": {},
   "source": [
    "# Akar-Bazzi Algorithmic Complexity Calculator"
   ]
  },
  {
   "cell_type": "code",
   "execution_count": null,
   "id": "b3c6fc7d",
   "metadata": {},
   "outputs": [],
   "source": []
  },
  {
   "cell_type": "markdown",
   "id": "5d340473",
   "metadata": {},
   "source": [
    "# Table of Contents\n",
    "\n",
    "* [1. Akra-Bazzi Theorem](#1.-Akra-Bazzi-Theorem)\n",
    "    * [1.1 History](#1.1-History)\n",
    "    * [1.2 Theorem Statement](#1.2-Theorem-Statement)\n",
    "    \n",
    "* [2. Recursion Depth](#2.-Recursion-Depth)\n",
    "    * [2.1 Solving $p$](#2.1-Solving-$p$)\n",
    "        * [2.1.1 Analytic Approach](#2.1.1-Analytic-Approach)\n",
    "        * [2.1.2 Numerical Approach](#2.1.2-Numerical-Approach)\n",
    "        * [2.1.3 Flaws with `sympy`](#2.1.3-Flaws-with-sympy)\n",
    "    \n",
    "* [3. Integral-Expression](#3.-Integral-Expression)\n",
    "    * [3.1 Algorithmic-Complexity](#3.1-Algorithmic-Complexity)\n",
    "        * [3.1.1 Rudimentary Complexity Calculator](#3.1.1-Rudimentary-Complexity-Calculator)\n",
    "        * [3.1.2 The-Effects-of-$p$-and-$d$](#3.1.2-The-Effects-of-$p$-and-$d$)\n",
    "        * [3.1.3 Refining the Akar-Bazzi Calculator for $p$ and $d$](#3.1.3-Refining-the-Akar-Bazzi-Calculator-for-$p$-and-$d$)\n",
    "    * [3.2 Refactoring](#3.2-Refactoring)\n",
    "\n",
    "* [4. Future Directions](#4.-Future-Directions)\n",
    "    * [4.1 Additional Features](#4.1-Additional-Features)\n",
    "    * [4.2 Possible Generalization](#4.2-Possible-Generalization)\n",
    "    \n",
    "* [5. Bibliography](#5.-Bibliography)"
   ]
  },
  {
   "cell_type": "markdown",
   "id": "7269ca82",
   "metadata": {},
   "source": [
    "## 1. Akra-Bazzi Theorem"
   ]
  },
  {
   "cell_type": "code",
   "execution_count": null,
   "id": "a54127a6",
   "metadata": {},
   "outputs": [],
   "source": []
  },
  {
   "cell_type": "markdown",
   "id": "ba56bfcd",
   "metadata": {},
   "source": [
    "### 1.1 History"
   ]
  },
  {
   "cell_type": "code",
   "execution_count": null,
   "id": "69fa6ef9",
   "metadata": {},
   "outputs": [],
   "source": []
  },
  {
   "cell_type": "markdown",
   "id": "98d35795",
   "metadata": {},
   "source": [
    "The application of the [Master Theorem](https://en.wikipedia.org/wiki/Master_theorem_(analysis_of_algorithms)) is limited to Divide & Conquer type recurrence relations for which each subproblem of a recursive invocation of an algorithm is of the same size.\n",
    "\n",
    "The [Akra-Bazzi Theorem](https://en.wikipedia.org/wiki/Akra%E2%80%93Bazzi_method#:~:text=In%20computer%20science%2C%20the%20Akra,problems%20have%20substantially%20different%20sizes.) is a generalization of the Master Theorem for algorithms that can be modelled by Divide & Conquer (DAQ) type recurrence relations having different-size subproblems."
   ]
  },
  {
   "cell_type": "code",
   "execution_count": null,
   "id": "9bf34ffe",
   "metadata": {},
   "outputs": [],
   "source": []
  },
  {
   "cell_type": "markdown",
   "id": "31908739",
   "metadata": {},
   "source": [
    "### 1.2 Theorem Statement"
   ]
  },
  {
   "cell_type": "markdown",
   "id": "98ddb8ed",
   "metadata": {},
   "source": [
    "Given a recurrence relation of the form ...\n",
    "\n",
    "$$\n",
    "    T(n) = \\sum_{i=1}^{k} {a_i T \\left( \\frac{n}{b_i} \\right)} + O(n^d)\n",
    "$$\n",
    "\n",
    "with $a_i > 1$, $b_i > 1$ $\\forall i$ and constant fixed values $k$ and $d$\n",
    "\n",
    "Then, the solution of the recurrence is given by the integral expression ...\n",
    "\n",
    "$$\n",
    "    T(n) = n^p + n^p \\int_{1}^{n} {\\frac{u^d}{u^{p+1}}} du\n",
    "$$\n",
    "\n",
    "where $p$ is obtained by solving the equation ...\n",
    "\n",
    "$$\n",
    "    \\sum_{i=1}^{k} a_i b_i^p = 1\n",
    "$$"
   ]
  },
  {
   "cell_type": "code",
   "execution_count": 7,
   "id": "b600e472",
   "metadata": {},
   "outputs": [],
   "source": [
    "from sympy import *"
   ]
  },
  {
   "cell_type": "code",
   "execution_count": 8,
   "id": "218a82d2",
   "metadata": {},
   "outputs": [],
   "source": [
    "from scipy.optimize import minimize"
   ]
  },
  {
   "cell_type": "markdown",
   "id": "f6e2dcb4",
   "metadata": {},
   "source": [
    "## 2. Recursion Depth"
   ]
  },
  {
   "cell_type": "code",
   "execution_count": null,
   "id": "234e394f",
   "metadata": {},
   "outputs": [],
   "source": []
  },
  {
   "cell_type": "markdown",
   "id": "12f367fa",
   "metadata": {},
   "source": [
    "### 2.1 Solving $p$"
   ]
  },
  {
   "cell_type": "markdown",
   "id": "4de69aae",
   "metadata": {},
   "source": [
    "The characterization for equations of the form\n",
    "\n",
    "$$\n",
    "    \\sum_{i=1}^{k} a_i b_i^p = 1\n",
    "$$\n",
    "\n",
    "is not obvious - It can be classified as a weighted sum, a power sum or a general algebraic equation."
   ]
  },
  {
   "cell_type": "markdown",
   "id": "11803fa0",
   "metadata": {},
   "source": [
    "The Theorem statement requires us to solve the equation $\\sum_{i=1}^{k} a_i b_i^p = 1$ for $p$ which, in some case, may be a dauntingly difficult task. We will first consider an analytic approach for the simple cases, for which `sympy` is a sufficient tool. Then we will consider a numerical approach, for the more complicated cases, for which `scipy` is a sufficient tool."
   ]
  },
  {
   "cell_type": "code",
   "execution_count": null,
   "id": "a80b0dd7",
   "metadata": {},
   "outputs": [],
   "source": []
  },
  {
   "cell_type": "markdown",
   "id": "01e1ca20",
   "metadata": {},
   "source": [
    "#### 2.1.1 Analytic Approach"
   ]
  },
  {
   "cell_type": "code",
   "execution_count": null,
   "id": "76dc0d09",
   "metadata": {},
   "outputs": [],
   "source": []
  },
  {
   "cell_type": "markdown",
   "id": "755ef771",
   "metadata": {},
   "source": [
    "In this section we build a python function that solves for the parameter $p$ using `sympy`"
   ]
  },
  {
   "cell_type": "code",
   "execution_count": null,
   "id": "91bbc23d",
   "metadata": {},
   "outputs": [],
   "source": []
  },
  {
   "cell_type": "code",
   "execution_count": null,
   "id": "3b252403",
   "metadata": {},
   "outputs": [],
   "source": [
    "def Rec():\n",
    "    # Base Case\n",
    "    if(n<=1):\n",
    "        #stop\n",
    "    \n",
    "    2 * Rec(n/2) + 3 * Rec(n/3) + 1/2 * Rec(2/4)"
   ]
  },
  {
   "cell_type": "code",
   "execution_count": null,
   "id": "68b8a370",
   "metadata": {},
   "outputs": [],
   "source": []
  },
  {
   "cell_type": "code",
   "execution_count": null,
   "id": "0f13940a",
   "metadata": {},
   "outputs": [],
   "source": []
  },
  {
   "cell_type": "code",
   "execution_count": null,
   "id": "ae981706",
   "metadata": {},
   "outputs": [],
   "source": []
  },
  {
   "cell_type": "markdown",
   "id": "b02b2133",
   "metadata": {},
   "source": [
    "Test Arrays ..."
   ]
  },
  {
   "cell_type": "markdown",
   "id": "78ae7b29",
   "metadata": {},
   "source": [
    "$$T(n) = T \\left( \\frac{n}{2} \\right) + O(n^d)$$"
   ]
  },
  {
   "cell_type": "code",
   "execution_count": 9,
   "id": "7a82bc05",
   "metadata": {},
   "outputs": [],
   "source": [
    "# Corresponds to the recurrence relation above\n",
    "a_i = [2]\n",
    "b_i = [2]"
   ]
  },
  {
   "cell_type": "code",
   "execution_count": 10,
   "id": "b46db061",
   "metadata": {},
   "outputs": [
    {
     "data": {
      "text/plain": [
       "[2]"
      ]
     },
     "execution_count": 10,
     "metadata": {},
     "output_type": "execute_result"
    }
   ],
   "source": [
    "a_i"
   ]
  },
  {
   "cell_type": "code",
   "execution_count": 11,
   "id": "e7ee2ab0",
   "metadata": {},
   "outputs": [
    {
     "data": {
      "text/plain": [
       "[2]"
      ]
     },
     "execution_count": 11,
     "metadata": {},
     "output_type": "execute_result"
    }
   ],
   "source": [
    "b_i"
   ]
  },
  {
   "cell_type": "markdown",
   "id": "241ae283",
   "metadata": {},
   "source": [
    "Notice that the `length` of the arrays `a_i` and `b_i` are equinumerous, since there is a *one-to-one* correspondence between them.\n",
    "\n",
    "This is a direct consequence of the form of the recurrence relation in the Theorem statement"
   ]
  },
  {
   "cell_type": "code",
   "execution_count": 12,
   "id": "9d9ad12f",
   "metadata": {},
   "outputs": [
    {
     "data": {
      "text/plain": [
       "1"
      ]
     },
     "execution_count": 12,
     "metadata": {},
     "output_type": "execute_result"
    }
   ],
   "source": [
    "length = len(a_i)\n",
    "\n",
    "length"
   ]
  },
  {
   "cell_type": "code",
   "execution_count": null,
   "id": "f6feca2b",
   "metadata": {},
   "outputs": [],
   "source": []
  },
  {
   "cell_type": "markdown",
   "id": "997aa0e4",
   "metadata": {},
   "source": [
    "Instantiate symbol for parameter $p$ in symbolic expression"
   ]
  },
  {
   "cell_type": "code",
   "execution_count": 13,
   "id": "b50f8a8d",
   "metadata": {},
   "outputs": [],
   "source": [
    "p = Symbol('p', finite=True)"
   ]
  },
  {
   "cell_type": "code",
   "execution_count": 14,
   "id": "c5d08e5b",
   "metadata": {},
   "outputs": [
    {
     "data": {
      "text/latex": [
       "$\\displaystyle p$"
      ],
      "text/plain": [
       "p"
      ]
     },
     "execution_count": 14,
     "metadata": {},
     "output_type": "execute_result"
    }
   ],
   "source": [
    "p"
   ]
  },
  {
   "cell_type": "code",
   "execution_count": null,
   "id": "62d7d82a",
   "metadata": {},
   "outputs": [],
   "source": []
  },
  {
   "cell_type": "markdown",
   "id": "1079076d",
   "metadata": {},
   "source": [
    "$$\\sum_{i=1}^{k} a_i b_i^p = \\frac{2}{2^p}$$"
   ]
  },
  {
   "cell_type": "code",
   "execution_count": null,
   "id": "8b218608",
   "metadata": {},
   "outputs": [],
   "source": []
  },
  {
   "cell_type": "code",
   "execution_count": 15,
   "id": "b2c29e32",
   "metadata": {},
   "outputs": [],
   "source": [
    "expression = 0\n",
    "\n",
    "for x in range(length):\n",
    "    expression += a_i[x] / b_i[x]**p"
   ]
  },
  {
   "cell_type": "code",
   "execution_count": 16,
   "id": "4167379b",
   "metadata": {},
   "outputs": [
    {
     "data": {
      "text/latex": [
       "$\\displaystyle 2 \\cdot 2^{- p}$"
      ],
      "text/plain": [
       "2/2**p"
      ]
     },
     "execution_count": 16,
     "metadata": {},
     "output_type": "execute_result"
    }
   ],
   "source": [
    "expression"
   ]
  },
  {
   "cell_type": "code",
   "execution_count": null,
   "id": "45177808",
   "metadata": {},
   "outputs": [],
   "source": []
  },
  {
   "cell_type": "markdown",
   "id": "f9b2fe06",
   "metadata": {},
   "source": [
    "To solve the equation, we can use sympy's `solve()` method ..."
   ]
  },
  {
   "cell_type": "code",
   "execution_count": 17,
   "id": "fc138cac",
   "metadata": {
    "scrolled": false
   },
   "outputs": [],
   "source": [
    "solution = solve(Eq(expression, 1), p)"
   ]
  },
  {
   "cell_type": "code",
   "execution_count": 18,
   "id": "49e4fdb8",
   "metadata": {},
   "outputs": [
    {
     "data": {
      "text/plain": [
       "[1]"
      ]
     },
     "execution_count": 18,
     "metadata": {},
     "output_type": "execute_result"
    }
   ],
   "source": [
    "solution"
   ]
  },
  {
   "cell_type": "markdown",
   "id": "bbb61609",
   "metadata": {},
   "source": [
    "Extract the solution ..."
   ]
  },
  {
   "cell_type": "code",
   "execution_count": 19,
   "id": "6f5a7663",
   "metadata": {},
   "outputs": [
    {
     "data": {
      "text/latex": [
       "$\\displaystyle 1$"
      ],
      "text/plain": [
       "1"
      ]
     },
     "execution_count": 19,
     "metadata": {},
     "output_type": "execute_result"
    }
   ],
   "source": [
    "solution[0]"
   ]
  },
  {
   "cell_type": "code",
   "execution_count": null,
   "id": "10fb803a",
   "metadata": {},
   "outputs": [],
   "source": []
  },
  {
   "cell_type": "markdown",
   "id": "f0e2edf3",
   "metadata": {},
   "source": [
    "Putting it all together ..."
   ]
  },
  {
   "cell_type": "code",
   "execution_count": 20,
   "id": "a4387e7a",
   "metadata": {},
   "outputs": [],
   "source": [
    "def calculate_p(array_a_i, array_b_i):\n",
    "    p = Symbol('p', finite=True)\n",
    "    length = len(array_a_i)\n",
    "    \n",
    "    expression = 0\n",
    "\n",
    "    for x in range(length):\n",
    "        expression += a_i[x] / b_i[x]**p\n",
    "    \n",
    "    solution = solve(Eq(expression, 1), p)\n",
    "    \n",
    "    return solution[0]"
   ]
  },
  {
   "cell_type": "markdown",
   "id": "1e24d53a",
   "metadata": {},
   "source": [
    "Test solution ..."
   ]
  },
  {
   "cell_type": "code",
   "execution_count": 21,
   "id": "0b788dcb",
   "metadata": {},
   "outputs": [],
   "source": [
    "a_i = [2]\n",
    "b_i = [2]"
   ]
  },
  {
   "cell_type": "code",
   "execution_count": 22,
   "id": "a4f54ed4",
   "metadata": {
    "scrolled": true
   },
   "outputs": [
    {
     "data": {
      "text/latex": [
       "$\\displaystyle 1$"
      ],
      "text/plain": [
       "1"
      ]
     },
     "execution_count": 22,
     "metadata": {},
     "output_type": "execute_result"
    }
   ],
   "source": [
    "calculate_p(a_i, b_i)"
   ]
  },
  {
   "cell_type": "code",
   "execution_count": null,
   "id": "1021145f",
   "metadata": {},
   "outputs": [],
   "source": []
  },
  {
   "cell_type": "markdown",
   "id": "c2cc2935",
   "metadata": {},
   "source": [
    "#### 2.1.2 Numerical Approach"
   ]
  },
  {
   "cell_type": "markdown",
   "id": "7c691ac4",
   "metadata": {},
   "source": [
    "Sympy cannot solve all type of equations of the form\n",
    "\n",
    "$$\n",
    "    \\sum_{i=1}^{k} a_i b_i^p = 1\n",
    "$$"
   ]
  },
  {
   "cell_type": "markdown",
   "id": "f58149cc",
   "metadata": {},
   "source": [
    "##### Example"
   ]
  },
  {
   "cell_type": "markdown",
   "id": "ce36fff3",
   "metadata": {},
   "source": [
    "No algorithm exists for solving the equation analytically/algebraically ...\n",
    "\n",
    "$$\n",
    "    \\frac{2}{2^p} + \\frac{1}{3^p} = 1\n",
    "$$\n",
    "\n",
    "because the equation *does not have an analytic solution* (as is **MOST** cases)"
   ]
  },
  {
   "cell_type": "markdown",
   "id": "81a2b257",
   "metadata": {},
   "source": [
    "Equations of the form \n",
    "\n",
    "$$\n",
    "    \\sum_{i=1}^{k} a_i b_i^p = 1\n",
    "$$\n",
    "\n",
    "are [monotonic](https://en.wikipedia.org/wiki/Monotonic_function) and thus a unique solution exists, but it does not give us insight to how it can be solved."
   ]
  },
  {
   "cell_type": "markdown",
   "id": "037fdf12",
   "metadata": {},
   "source": [
    "So the most general way in which we can approach solving equations of this type, is to employ numerical techniques to approximate the root."
   ]
  },
  {
   "cell_type": "markdown",
   "id": "a6a66f2f",
   "metadata": {},
   "source": [
    "Using `sympy` for equations of this type has dire consequences ..."
   ]
  },
  {
   "cell_type": "code",
   "execution_count": 23,
   "id": "eb617303",
   "metadata": {},
   "outputs": [],
   "source": [
    "a_i = [2, 1]\n",
    "b_i = [2, 3]"
   ]
  },
  {
   "cell_type": "code",
   "execution_count": 24,
   "id": "5248e102",
   "metadata": {
    "scrolled": false
   },
   "outputs": [
    {
     "ename": "NotImplementedError",
     "evalue": "multiple generators [2**p, 3**p, 6**p]\nNo algorithms are implemented to solve equation -1 + 3**(-p) + 2/2**p",
     "output_type": "error",
     "traceback": [
      "\u001b[1;31m---------------------------------------------------------------------------\u001b[0m",
      "\u001b[1;31mNotImplementedError\u001b[0m                       Traceback (most recent call last)",
      "Cell \u001b[1;32mIn[24], line 1\u001b[0m\n\u001b[1;32m----> 1\u001b[0m \u001b[43mcalculate_p\u001b[49m\u001b[43m(\u001b[49m\u001b[43ma_i\u001b[49m\u001b[43m,\u001b[49m\u001b[43m \u001b[49m\u001b[43mb_i\u001b[49m\u001b[43m)\u001b[49m\n",
      "Cell \u001b[1;32mIn[20], line 10\u001b[0m, in \u001b[0;36mcalculate_p\u001b[1;34m(array_a_i, array_b_i)\u001b[0m\n\u001b[0;32m      7\u001b[0m \u001b[38;5;28;01mfor\u001b[39;00m x \u001b[38;5;129;01min\u001b[39;00m \u001b[38;5;28mrange\u001b[39m(length):\n\u001b[0;32m      8\u001b[0m     expression \u001b[38;5;241m+\u001b[39m\u001b[38;5;241m=\u001b[39m a_i[x] \u001b[38;5;241m/\u001b[39m b_i[x]\u001b[38;5;241m*\u001b[39m\u001b[38;5;241m*\u001b[39mp\n\u001b[1;32m---> 10\u001b[0m solution \u001b[38;5;241m=\u001b[39m \u001b[43msolve\u001b[49m\u001b[43m(\u001b[49m\u001b[43mEq\u001b[49m\u001b[43m(\u001b[49m\u001b[43mexpression\u001b[49m\u001b[43m,\u001b[49m\u001b[43m \u001b[49m\u001b[38;5;241;43m1\u001b[39;49m\u001b[43m)\u001b[49m\u001b[43m,\u001b[49m\u001b[43m \u001b[49m\u001b[43mp\u001b[49m\u001b[43m)\u001b[49m\n\u001b[0;32m     12\u001b[0m \u001b[38;5;28;01mreturn\u001b[39;00m solution[\u001b[38;5;241m0\u001b[39m]\n",
      "File \u001b[1;32m~\\AppData\\Local\\Programs\\Python\\Python311\\Lib\\site-packages\\sympy\\solvers\\solvers.py:1112\u001b[0m, in \u001b[0;36msolve\u001b[1;34m(f, *symbols, **flags)\u001b[0m\n\u001b[0;32m   1108\u001b[0m \u001b[38;5;66;03m#\u001b[39;00m\n\u001b[0;32m   1109\u001b[0m \u001b[38;5;66;03m# try to get a solution\u001b[39;00m\n\u001b[0;32m   1110\u001b[0m \u001b[38;5;66;03m###########################################################################\u001b[39;00m\n\u001b[0;32m   1111\u001b[0m \u001b[38;5;28;01mif\u001b[39;00m bare_f:\n\u001b[1;32m-> 1112\u001b[0m     solution \u001b[38;5;241m=\u001b[39m \u001b[43m_solve\u001b[49m\u001b[43m(\u001b[49m\u001b[43mf\u001b[49m\u001b[43m[\u001b[49m\u001b[38;5;241;43m0\u001b[39;49m\u001b[43m]\u001b[49m\u001b[43m,\u001b[49m\u001b[43m \u001b[49m\u001b[38;5;241;43m*\u001b[39;49m\u001b[43msymbols\u001b[49m\u001b[43m,\u001b[49m\u001b[43m \u001b[49m\u001b[38;5;241;43m*\u001b[39;49m\u001b[38;5;241;43m*\u001b[39;49m\u001b[43mflags\u001b[49m\u001b[43m)\u001b[49m\n\u001b[0;32m   1113\u001b[0m \u001b[38;5;28;01melse\u001b[39;00m:\n\u001b[0;32m   1114\u001b[0m     solution \u001b[38;5;241m=\u001b[39m _solve_system(f, symbols, \u001b[38;5;241m*\u001b[39m\u001b[38;5;241m*\u001b[39mflags)\n",
      "File \u001b[1;32m~\\AppData\\Local\\Programs\\Python\\Python311\\Lib\\site-packages\\sympy\\solvers\\solvers.py:1744\u001b[0m, in \u001b[0;36m_solve\u001b[1;34m(f, *symbols, **flags)\u001b[0m\n\u001b[0;32m   1741\u001b[0m \u001b[38;5;66;03m# ----------- end of fallback ----------------------------\u001b[39;00m\n\u001b[0;32m   1743\u001b[0m \u001b[38;5;28;01mif\u001b[39;00m result \u001b[38;5;129;01mis\u001b[39;00m \u001b[38;5;28;01mFalse\u001b[39;00m:\n\u001b[1;32m-> 1744\u001b[0m     \u001b[38;5;28;01mraise\u001b[39;00m \u001b[38;5;167;01mNotImplementedError\u001b[39;00m(\u001b[38;5;124m'\u001b[39m\u001b[38;5;130;01m\\n\u001b[39;00m\u001b[38;5;124m'\u001b[39m\u001b[38;5;241m.\u001b[39mjoin([msg, not_impl_msg \u001b[38;5;241m%\u001b[39m f]))\n\u001b[0;32m   1746\u001b[0m \u001b[38;5;28;01mif\u001b[39;00m flags\u001b[38;5;241m.\u001b[39mget(\u001b[38;5;124m'\u001b[39m\u001b[38;5;124msimplify\u001b[39m\u001b[38;5;124m'\u001b[39m, \u001b[38;5;28;01mTrue\u001b[39;00m):\n\u001b[0;32m   1747\u001b[0m     result \u001b[38;5;241m=\u001b[39m \u001b[38;5;28mlist\u001b[39m(\u001b[38;5;28mmap\u001b[39m(simplify, result))\n",
      "\u001b[1;31mNotImplementedError\u001b[0m: multiple generators [2**p, 3**p, 6**p]\nNo algorithms are implemented to solve equation -1 + 3**(-p) + 2/2**p"
     ]
    }
   ],
   "source": [
    "calculate_p(a_i, b_i)"
   ]
  },
  {
   "cell_type": "code",
   "execution_count": null,
   "id": "e3e24c25",
   "metadata": {},
   "outputs": [],
   "source": []
  },
  {
   "cell_type": "markdown",
   "id": "7c013b06",
   "metadata": {},
   "source": [
    "So we will do exception handling to treat the case for which the `calculate_p()` method does not work!"
   ]
  },
  {
   "cell_type": "code",
   "execution_count": null,
   "id": "7bd3a37a",
   "metadata": {},
   "outputs": [],
   "source": [
    "a_i = [2, 1]\n",
    "b_i = [2, 3]"
   ]
  },
  {
   "cell_type": "code",
   "execution_count": 25,
   "id": "e9e592d7",
   "metadata": {},
   "outputs": [
    {
     "data": {
      "text/plain": [
       "[2, 1]"
      ]
     },
     "execution_count": 25,
     "metadata": {},
     "output_type": "execute_result"
    }
   ],
   "source": [
    "a_i"
   ]
  },
  {
   "cell_type": "code",
   "execution_count": 26,
   "id": "568082c6",
   "metadata": {},
   "outputs": [
    {
     "data": {
      "text/plain": [
       "[2, 3]"
      ]
     },
     "execution_count": 26,
     "metadata": {},
     "output_type": "execute_result"
    }
   ],
   "source": [
    "b_i"
   ]
  },
  {
   "cell_type": "code",
   "execution_count": 27,
   "id": "bf9efb12",
   "metadata": {},
   "outputs": [
    {
     "data": {
      "text/plain": [
       "2"
      ]
     },
     "execution_count": 27,
     "metadata": {},
     "output_type": "execute_result"
    }
   ],
   "source": [
    "length = len(a_i)\n",
    "\n",
    "length"
   ]
  },
  {
   "cell_type": "code",
   "execution_count": 28,
   "id": "8b5ad275",
   "metadata": {},
   "outputs": [],
   "source": [
    "p = Symbol('p', finite=True)"
   ]
  },
  {
   "cell_type": "code",
   "execution_count": 29,
   "id": "6aa7d48b",
   "metadata": {},
   "outputs": [],
   "source": [
    "expression = 0\n",
    "\n",
    "for x in range(length):\n",
    "    expression += a_i[x] / b_i[x]**p"
   ]
  },
  {
   "cell_type": "code",
   "execution_count": 30,
   "id": "c0463820",
   "metadata": {},
   "outputs": [
    {
     "data": {
      "text/latex": [
       "$\\displaystyle 3^{- p} + 2 \\cdot 2^{- p}$"
      ],
      "text/plain": [
       "3**(-p) + 2/2**p"
      ]
     },
     "execution_count": 30,
     "metadata": {},
     "output_type": "execute_result"
    }
   ],
   "source": [
    "expression"
   ]
  },
  {
   "cell_type": "markdown",
   "id": "5700a06f",
   "metadata": {},
   "source": [
    "First we need to convert the symbolic expression to a python function so that we can use numerical metods to find the optimal solution."
   ]
  },
  {
   "cell_type": "markdown",
   "id": "ce7e0302",
   "metadata": {},
   "source": [
    "To do this, we use `sympy.lambdify(<variable>, <expression>)`"
   ]
  },
  {
   "cell_type": "code",
   "execution_count": 31,
   "id": "7f1768ba",
   "metadata": {},
   "outputs": [],
   "source": [
    "f = lambdify(p, expression) # first parameter is the variable, second parameter is the expression to convert"
   ]
  },
  {
   "cell_type": "code",
   "execution_count": 32,
   "id": "4f6f1eb8",
   "metadata": {},
   "outputs": [
    {
     "data": {
      "text/plain": [
       "<function _lambdifygenerated(p)>"
      ]
     },
     "execution_count": 32,
     "metadata": {},
     "output_type": "execute_result"
    }
   ],
   "source": [
    "f"
   ]
  },
  {
   "cell_type": "markdown",
   "id": "cc658b9d",
   "metadata": {},
   "source": [
    "Notice that we can still recover the symbolic representation ..."
   ]
  },
  {
   "cell_type": "code",
   "execution_count": 33,
   "id": "f95e9390",
   "metadata": {},
   "outputs": [
    {
     "data": {
      "text/latex": [
       "$\\displaystyle 3^{- p} + 2 \\cdot 2^{- p}$"
      ],
      "text/plain": [
       "3**(-p) + 2/2**p"
      ]
     },
     "execution_count": 33,
     "metadata": {},
     "output_type": "execute_result"
    }
   ],
   "source": [
    "f(p)"
   ]
  },
  {
   "cell_type": "markdown",
   "id": "545f2d3a",
   "metadata": {},
   "source": [
    "Test cases:"
   ]
  },
  {
   "cell_type": "markdown",
   "id": "a7c6d5e2",
   "metadata": {},
   "source": [
    "Notice that we want $f(p)$ to be as close to $1$ as possible since the equation to be solved is $\\frac{2}{2^p} + \\frac{1}{3^p} = 1$ with $f(p)$ on the Lef-Hand side!"
   ]
  },
  {
   "cell_type": "code",
   "execution_count": 34,
   "id": "e5041591",
   "metadata": {},
   "outputs": [
    {
     "data": {
      "text/plain": [
       "1.3333333333333333"
      ]
     },
     "execution_count": 34,
     "metadata": {},
     "output_type": "execute_result"
    }
   ],
   "source": [
    "f(1)"
   ]
  },
  {
   "cell_type": "code",
   "execution_count": 35,
   "id": "48f7219f",
   "metadata": {},
   "outputs": [
    {
     "data": {
      "text/plain": [
       "0.6111111111111112"
      ]
     },
     "execution_count": 35,
     "metadata": {},
     "output_type": "execute_result"
    }
   ],
   "source": [
    "f(2)"
   ]
  },
  {
   "cell_type": "markdown",
   "id": "45e53514",
   "metadata": {},
   "source": [
    "So we might \"guess\" the optimal value between 1 and 2"
   ]
  },
  {
   "cell_type": "code",
   "execution_count": 36,
   "id": "786bff44",
   "metadata": {},
   "outputs": [
    {
     "data": {
      "text/plain": [
       "1.2316858114837281"
      ]
     },
     "execution_count": 36,
     "metadata": {},
     "output_type": "execute_result"
    }
   ],
   "source": [
    "f(1.1)"
   ]
  },
  {
   "cell_type": "code",
   "execution_count": 37,
   "id": "202e0692",
   "metadata": {},
   "outputs": [
    {
     "data": {
      "text/plain": [
       "1.1381310838828678"
      ]
     },
     "execution_count": 37,
     "metadata": {},
     "output_type": "execute_result"
    }
   ],
   "source": [
    "f(1.2)"
   ]
  },
  {
   "cell_type": "code",
   "execution_count": 38,
   "id": "e68bcb4b",
   "metadata": {},
   "outputs": [
    {
     "data": {
      "text/plain": [
       "1.0519934274645235"
      ]
     },
     "execution_count": 38,
     "metadata": {},
     "output_type": "execute_result"
    }
   ],
   "source": [
    "f(1.3)"
   ]
  },
  {
   "cell_type": "code",
   "execution_count": 39,
   "id": "653cb87d",
   "metadata": {},
   "outputs": [
    {
     "data": {
      "text/plain": [
       "0.9726562882476172"
      ]
     },
     "execution_count": 39,
     "metadata": {},
     "output_type": "execute_result"
    }
   ],
   "source": [
    "f(1.4)"
   ]
  },
  {
   "cell_type": "code",
   "execution_count": 40,
   "id": "612e319a",
   "metadata": {},
   "outputs": [
    {
     "data": {
      "text/plain": [
       "1.0115111681129008"
      ]
     },
     "execution_count": 40,
     "metadata": {},
     "output_type": "execute_result"
    }
   ],
   "source": [
    "f(1.35)"
   ]
  },
  {
   "cell_type": "code",
   "execution_count": 41,
   "id": "37cd565c",
   "metadata": {},
   "outputs": [
    {
     "data": {
      "text/plain": [
       "1.0036122456542467"
      ]
     },
     "execution_count": 41,
     "metadata": {},
     "output_type": "execute_result"
    }
   ],
   "source": [
    "f(1.36)"
   ]
  },
  {
   "cell_type": "code",
   "execution_count": 42,
   "id": "d3139cf8",
   "metadata": {},
   "outputs": [
    {
     "data": {
      "text/plain": [
       "0.9957778485027282"
      ]
     },
     "execution_count": 42,
     "metadata": {},
     "output_type": "execute_result"
    }
   ],
   "source": [
    "f(1.37)"
   ]
  },
  {
   "cell_type": "code",
   "execution_count": 43,
   "id": "6047cec9",
   "metadata": {},
   "outputs": [
    {
     "data": {
      "text/plain": [
       "0.9996870161939175"
      ]
     },
     "execution_count": 43,
     "metadata": {},
     "output_type": "execute_result"
    }
   ],
   "source": [
    "f(1.365)"
   ]
  },
  {
   "cell_type": "code",
   "execution_count": 44,
   "id": "06ecf0b0",
   "metadata": {},
   "outputs": [
    {
     "data": {
      "text/plain": [
       "1.0004707749256907"
      ]
     },
     "execution_count": 44,
     "metadata": {},
     "output_type": "execute_result"
    }
   ],
   "source": [
    "f(1.364)"
   ]
  },
  {
   "cell_type": "markdown",
   "id": "89cc2464",
   "metadata": {},
   "source": [
    "The above *refinement* process was not to difficult, so let's see if we can incorporate this in the `calculate_p()` method by using `scipy`"
   ]
  },
  {
   "cell_type": "code",
   "execution_count": null,
   "id": "4f99204e",
   "metadata": {},
   "outputs": [],
   "source": []
  },
  {
   "cell_type": "code",
   "execution_count": 45,
   "id": "4133cb5b",
   "metadata": {},
   "outputs": [],
   "source": [
    "# from scipy.optimize import minimize\n",
    "# already imported at top of script"
   ]
  },
  {
   "cell_type": "markdown",
   "id": "dfbe5520",
   "metadata": {},
   "source": [
    "Use a numerical optimization library to calculate $p$"
   ]
  },
  {
   "cell_type": "code",
   "execution_count": 46,
   "id": "c8733d8d",
   "metadata": {},
   "outputs": [],
   "source": [
    "# Define the objective function to minimize\n",
    "def objective_function(p):\n",
    "    return abs(f(p) - 1.0)"
   ]
  },
  {
   "cell_type": "code",
   "execution_count": 47,
   "id": "2071a0fe",
   "metadata": {},
   "outputs": [
    {
     "data": {
      "text/latex": [
       "$\\displaystyle \\left|{-1.0 + 3^{- p} + 2 \\cdot 2^{- p}}\\right|$"
      ],
      "text/plain": [
       "Abs(-1.0 + 3**(-p) + 2/2**p)"
      ]
     },
     "execution_count": 47,
     "metadata": {},
     "output_type": "execute_result"
    }
   ],
   "source": [
    "objective_function(p)"
   ]
  },
  {
   "cell_type": "markdown",
   "id": "80241080",
   "metadata": {},
   "source": [
    "Refinement for the guess of the root was $p = 1.364$"
   ]
  },
  {
   "cell_type": "code",
   "execution_count": 48,
   "id": "c179f7e9",
   "metadata": {
    "scrolled": false
   },
   "outputs": [],
   "source": [
    "# Use scipy's minimize function to find the optimal p\n",
    "result = minimize(objective_function, [1.364]) # guess: 1.364"
   ]
  },
  {
   "cell_type": "code",
   "execution_count": 49,
   "id": "2636c53d",
   "metadata": {},
   "outputs": [],
   "source": [
    "# Extract the optimal p\n",
    "p = result.x[0]"
   ]
  },
  {
   "cell_type": "code",
   "execution_count": 50,
   "id": "3a84894a",
   "metadata": {},
   "outputs": [
    {
     "data": {
      "text/plain": [
       "1.3646005572584177"
      ]
     },
     "execution_count": 50,
     "metadata": {},
     "output_type": "execute_result"
    }
   ],
   "source": [
    "p"
   ]
  },
  {
   "cell_type": "markdown",
   "id": "120df2a7",
   "metadata": {},
   "source": [
    "Notice how good our guess was, based on observation alone ..."
   ]
  },
  {
   "cell_type": "code",
   "execution_count": null,
   "id": "1b4a61a2",
   "metadata": {},
   "outputs": [],
   "source": []
  },
  {
   "cell_type": "markdown",
   "id": "f9602a1d",
   "metadata": {},
   "source": [
    "Some basic [error analysis](https://en.wikipedia.org/wiki/Error_analysis_(mathematics)) checks for the numerical approximation ..."
   ]
  },
  {
   "cell_type": "code",
   "execution_count": 51,
   "id": "7984b3fd",
   "metadata": {},
   "outputs": [],
   "source": [
    "p_round = round(p, 2)"
   ]
  },
  {
   "cell_type": "code",
   "execution_count": 52,
   "id": "faa06c00",
   "metadata": {},
   "outputs": [
    {
     "data": {
      "text/plain": [
       "1.36"
      ]
     },
     "execution_count": 52,
     "metadata": {},
     "output_type": "execute_result"
    }
   ],
   "source": [
    "p_round"
   ]
  },
  {
   "cell_type": "code",
   "execution_count": 53,
   "id": "54c80cfd",
   "metadata": {},
   "outputs": [
    {
     "data": {
      "text/plain": [
       "0.00460055725841757"
      ]
     },
     "execution_count": 53,
     "metadata": {},
     "output_type": "execute_result"
    }
   ],
   "source": [
    "abs(p - p_round)"
   ]
  },
  {
   "cell_type": "code",
   "execution_count": 54,
   "id": "5bc69067",
   "metadata": {},
   "outputs": [
    {
     "data": {
      "text/plain": [
       "1.0000000058389757"
      ]
     },
     "execution_count": 54,
     "metadata": {},
     "output_type": "execute_result"
    }
   ],
   "source": [
    "f(p)"
   ]
  },
  {
   "cell_type": "code",
   "execution_count": 55,
   "id": "d21fe447",
   "metadata": {},
   "outputs": [
    {
     "data": {
      "text/plain": [
       "1.0036122456542467"
      ]
     },
     "execution_count": 55,
     "metadata": {},
     "output_type": "execute_result"
    }
   ],
   "source": [
    "f(p_round)"
   ]
  },
  {
   "cell_type": "code",
   "execution_count": 56,
   "id": "0db38df3",
   "metadata": {},
   "outputs": [
    {
     "data": {
      "text/plain": [
       "0.0036122398152709234"
      ]
     },
     "execution_count": 56,
     "metadata": {},
     "output_type": "execute_result"
    }
   ],
   "source": [
    "abs(f(p) - f(p_round))"
   ]
  },
  {
   "cell_type": "code",
   "execution_count": 57,
   "id": "a850a068",
   "metadata": {},
   "outputs": [],
   "source": [
    "approx_root = round(f(p_round), 2)"
   ]
  },
  {
   "cell_type": "code",
   "execution_count": 58,
   "id": "f5158fbf",
   "metadata": {},
   "outputs": [
    {
     "data": {
      "text/plain": [
       "1.0"
      ]
     },
     "execution_count": 58,
     "metadata": {},
     "output_type": "execute_result"
    }
   ],
   "source": [
    "approx_root"
   ]
  },
  {
   "cell_type": "code",
   "execution_count": 59,
   "id": "417c83f5",
   "metadata": {},
   "outputs": [
    {
     "data": {
      "text/plain": [
       "5.838975747352038e-09"
      ]
     },
     "execution_count": 59,
     "metadata": {},
     "output_type": "execute_result"
    }
   ],
   "source": [
    "abs(f(p)-approx_root)"
   ]
  },
  {
   "cell_type": "code",
   "execution_count": 60,
   "id": "b05db811",
   "metadata": {},
   "outputs": [
    {
     "data": {
      "text/plain": [
       "0.0"
      ]
     },
     "execution_count": 60,
     "metadata": {},
     "output_type": "execute_result"
    }
   ],
   "source": [
    "round(abs(f(p)-approx_root), 2)"
   ]
  },
  {
   "cell_type": "code",
   "execution_count": null,
   "id": "804023d6",
   "metadata": {},
   "outputs": [],
   "source": []
  },
  {
   "cell_type": "markdown",
   "id": "55188d0a",
   "metadata": {},
   "source": [
    "#### Refining `calculate_p()`"
   ]
  },
  {
   "cell_type": "markdown",
   "id": "b68ca024",
   "metadata": {},
   "source": [
    "$$\\sum_{i=1}^{k} a_i b_i^p = 1$$"
   ]
  },
  {
   "cell_type": "markdown",
   "id": "54bcd717",
   "metadata": {},
   "source": [
    "Setting up the exception handling (needs work)"
   ]
  },
  {
   "cell_type": "code",
   "execution_count": 61,
   "id": "6155d6bb",
   "metadata": {},
   "outputs": [],
   "source": [
    "def calculate_p(array_a_i, array_b_i):\n",
    "    p = Symbol('p', finite=True)\n",
    "    length = len(array_a_i)\n",
    "    \n",
    "    expression = 0\n",
    "\n",
    "    for x in range(length):\n",
    "        expression += a_i[x] / b_i[x]**p\n",
    "    \n",
    "    try:\n",
    "        solution = solve(Eq(expression, 1), p)\n",
    "   \n",
    "    except NotImplementedError as e:\n",
    "        print(e)\n",
    "        \n",
    "        # scipy stuff ...\n",
    "        solution = [0] # fake temporary solution for testing exception message\n",
    "    \n",
    "    return solution[0]"
   ]
  },
  {
   "cell_type": "code",
   "execution_count": null,
   "id": "ddd4de08",
   "metadata": {},
   "outputs": [],
   "source": []
  },
  {
   "cell_type": "code",
   "execution_count": 62,
   "id": "459752f2",
   "metadata": {},
   "outputs": [],
   "source": [
    "a_i = [2]\n",
    "b_i = [2]"
   ]
  },
  {
   "cell_type": "markdown",
   "id": "16fafb85",
   "metadata": {},
   "source": [
    "$$\\frac{2}{2^p} = 1$$"
   ]
  },
  {
   "cell_type": "code",
   "execution_count": 63,
   "id": "f7c4843f",
   "metadata": {},
   "outputs": [
    {
     "data": {
      "text/latex": [
       "$\\displaystyle 1$"
      ],
      "text/plain": [
       "1"
      ]
     },
     "execution_count": 63,
     "metadata": {},
     "output_type": "execute_result"
    }
   ],
   "source": [
    "calculate_p(a_i, b_i)"
   ]
  },
  {
   "cell_type": "markdown",
   "id": "87ab642e",
   "metadata": {},
   "source": [
    "The above result confirms that the `calculate_p()` method still works for simpler equations solvable by using `sympy`"
   ]
  },
  {
   "cell_type": "code",
   "execution_count": null,
   "id": "7b591de4",
   "metadata": {},
   "outputs": [],
   "source": []
  },
  {
   "cell_type": "code",
   "execution_count": 64,
   "id": "840b4e89",
   "metadata": {},
   "outputs": [],
   "source": [
    "a_i = [2, 1]\n",
    "b_i = [2, 3]"
   ]
  },
  {
   "cell_type": "markdown",
   "id": "8b2e6a7a",
   "metadata": {},
   "source": [
    "$$\\frac{2}{2^p} + \\frac{1}{3^p} = 1$$"
   ]
  },
  {
   "cell_type": "code",
   "execution_count": 65,
   "id": "89cf3e4b",
   "metadata": {},
   "outputs": [
    {
     "name": "stdout",
     "output_type": "stream",
     "text": [
      "multiple generators [2**p, 3**p, 6**p]\n",
      "No algorithms are implemented to solve equation -1 + 3**(-p) + 2/2**p\n"
     ]
    },
    {
     "data": {
      "text/plain": [
       "0"
      ]
     },
     "execution_count": 65,
     "metadata": {},
     "output_type": "execute_result"
    }
   ],
   "source": [
    "calculate_p(a_i, b_i)"
   ]
  },
  {
   "cell_type": "markdown",
   "id": "0881a620",
   "metadata": {},
   "source": [
    "Notice that the above result is not the correct approximate solution and was hard-coded for testing purposes only ..."
   ]
  },
  {
   "cell_type": "code",
   "execution_count": null,
   "id": "0800ad00",
   "metadata": {},
   "outputs": [],
   "source": []
  },
  {
   "cell_type": "markdown",
   "id": "78bb0c5e",
   "metadata": {},
   "source": [
    "The above result confirms that the `exception handling` is treated correctly followed by an alternative approach ..."
   ]
  },
  {
   "cell_type": "code",
   "execution_count": null,
   "id": "ef9d7c18",
   "metadata": {},
   "outputs": [],
   "source": []
  },
  {
   "cell_type": "markdown",
   "id": "a1fcc580",
   "metadata": {},
   "source": [
    "Defining the code inside the `excpetion block` ..."
   ]
  },
  {
   "cell_type": "code",
   "execution_count": 66,
   "id": "8d69c7cd",
   "metadata": {},
   "outputs": [],
   "source": [
    "a_i = [2, 1]\n",
    "b_i = [2, 3]"
   ]
  },
  {
   "cell_type": "code",
   "execution_count": null,
   "id": "3a7a0e0d",
   "metadata": {},
   "outputs": [],
   "source": []
  },
  {
   "cell_type": "markdown",
   "id": "1a61ec8e",
   "metadata": {},
   "source": [
    "$$\\frac{2}{2^p} + \\frac{1}{3^p} = 1$$"
   ]
  },
  {
   "cell_type": "code",
   "execution_count": 67,
   "id": "af64be61",
   "metadata": {},
   "outputs": [
    {
     "data": {
      "text/plain": [
       "1.3646005630226317"
      ]
     },
     "execution_count": 67,
     "metadata": {},
     "output_type": "execute_result"
    }
   ],
   "source": [
    "p = Symbol('p', finite=True)\n",
    "\n",
    "expression = 0\n",
    "for x in range(length):\n",
    "    expression += a_i[x] / b_i[x]**p\n",
    "\n",
    "f = lambdify(p, expression)\n",
    "\n",
    "def objective_function(p):\n",
    "    return abs(f(p) - 1.0)\n",
    "\n",
    "guess = 1\n",
    "\n",
    "result = minimize(objective_function, [guess])\n",
    "solution = result.x[0]\n",
    "\n",
    "solution"
   ]
  },
  {
   "cell_type": "code",
   "execution_count": null,
   "id": "96505d01",
   "metadata": {},
   "outputs": [],
   "source": []
  },
  {
   "cell_type": "markdown",
   "id": "e755ab42",
   "metadata": {},
   "source": [
    "The above result is the correct approximate solution as seen before ..."
   ]
  },
  {
   "cell_type": "code",
   "execution_count": null,
   "id": "b3024129",
   "metadata": {},
   "outputs": [],
   "source": []
  },
  {
   "cell_type": "code",
   "execution_count": 68,
   "id": "4c5f391a",
   "metadata": {},
   "outputs": [],
   "source": [
    "def calculate_p(array_a_i, array_b_i):\n",
    "    p = Symbol('p', finite=True)\n",
    "    length = len(array_a_i)\n",
    "    \n",
    "    expression = 0\n",
    "\n",
    "    for x in range(length):\n",
    "        expression += a_i[x] / b_i[x]**p\n",
    "    \n",
    "    try:\n",
    "        solution = solve(Eq(expression, 1), p)\n",
    "   \n",
    "    except NotImplementedError as e:\n",
    "        print(e)\n",
    "        f = lambdify(p, expression)\n",
    "\n",
    "        def objective_function(p):\n",
    "            return abs(f(p) - 1.0)\n",
    "\n",
    "        guess = 1\n",
    "\n",
    "        result = minimize(objective_function, [guess])        \n",
    "        \n",
    "        solution = result.x\n",
    "        for sol in result.x:\n",
    "            round(sol)        \n",
    "    \n",
    "    return solution[0]"
   ]
  },
  {
   "cell_type": "code",
   "execution_count": 69,
   "id": "642de02d",
   "metadata": {},
   "outputs": [],
   "source": [
    "a_i = [2, 1]\n",
    "b_i = [2, 3]"
   ]
  },
  {
   "cell_type": "code",
   "execution_count": 70,
   "id": "9562c0ba",
   "metadata": {},
   "outputs": [
    {
     "name": "stdout",
     "output_type": "stream",
     "text": [
      "multiple generators [2**p, 3**p, 6**p]\n",
      "No algorithms are implemented to solve equation -1 + 3**(-p) + 2/2**p\n"
     ]
    },
    {
     "data": {
      "text/plain": [
       "1.3646005630226317"
      ]
     },
     "execution_count": 70,
     "metadata": {},
     "output_type": "execute_result"
    }
   ],
   "source": [
    "calculate_p(a_i, b_i)"
   ]
  },
  {
   "cell_type": "code",
   "execution_count": null,
   "id": "e8db0ca7",
   "metadata": {},
   "outputs": [],
   "source": []
  },
  {
   "cell_type": "markdown",
   "id": "71eb8427",
   "metadata": {},
   "source": [
    "Add the functionality to prompt the user for an initial guess for the root of the equation - Not a strict requirement!"
   ]
  },
  {
   "cell_type": "code",
   "execution_count": 73,
   "id": "bff1f42d",
   "metadata": {
    "scrolled": false
   },
   "outputs": [
    {
     "name": "stdout",
     "output_type": "stream",
     "text": [
      "Please enter an initial guess (float) for the root of the equation ... \n",
      "2\n",
      "2.0\n"
     ]
    }
   ],
   "source": [
    "print(\"Please enter an initial guess (float) for the root of the equation ... \")\n",
    "\n",
    "guess = float(input())\n",
    "\n",
    "print(guess)"
   ]
  },
  {
   "cell_type": "code",
   "execution_count": 74,
   "id": "a4c483ee",
   "metadata": {},
   "outputs": [],
   "source": [
    "def calculate_p(array_a_i, array_b_i):\n",
    "    p = Symbol('p', finite=True)\n",
    "    length = len(array_a_i)\n",
    "    \n",
    "    expression = 0\n",
    "\n",
    "    for x in range(length):\n",
    "        expression += a_i[x] / b_i[x]**p\n",
    "    \n",
    "    try:\n",
    "        solution = solve(Eq(expression, 1), p)\n",
    "   \n",
    "    except NotImplementedError as e:\n",
    "        print(e)\n",
    "        f = lambdify(p, expression)\n",
    "\n",
    "        def objective_function(p):\n",
    "            return abs(f(p) - 1.0)\n",
    "        \n",
    "        print(\"Guess: \")\n",
    "        guess = float(input())\n",
    "        \n",
    "        result = minimize(objective_function, [guess])        \n",
    "        \n",
    "        solution = result.x\n",
    "        for sol in result.x:\n",
    "            round(sol)\n",
    "    \n",
    "    return solution[0]"
   ]
  },
  {
   "cell_type": "code",
   "execution_count": null,
   "id": "de78aa62",
   "metadata": {},
   "outputs": [],
   "source": []
  },
  {
   "cell_type": "markdown",
   "id": "8115998d",
   "metadata": {},
   "source": [
    "#### Example 1"
   ]
  },
  {
   "cell_type": "code",
   "execution_count": 75,
   "id": "c6f8a29a",
   "metadata": {},
   "outputs": [],
   "source": [
    "a_i = [2, 1]\n",
    "b_i = [2, 3]"
   ]
  },
  {
   "cell_type": "markdown",
   "id": "b3716efe",
   "metadata": {},
   "source": [
    "$$\\frac{2}{2^p} + \\frac{1}{3^p} = 1$$"
   ]
  },
  {
   "cell_type": "code",
   "execution_count": 76,
   "id": "c90bef34",
   "metadata": {},
   "outputs": [
    {
     "name": "stdout",
     "output_type": "stream",
     "text": [
      "multiple generators [2**p, 3**p, 6**p]\n",
      "No algorithms are implemented to solve equation -1 + 3**(-p) + 2/2**p\n",
      "Guess: \n",
      "1\n"
     ]
    },
    {
     "data": {
      "text/plain": [
       "1.3646005630226317"
      ]
     },
     "execution_count": 76,
     "metadata": {},
     "output_type": "execute_result"
    }
   ],
   "source": [
    "calculate_p(a_i, b_i)"
   ]
  },
  {
   "cell_type": "markdown",
   "id": "65d50680",
   "metadata": {},
   "source": [
    "#### Example 2"
   ]
  },
  {
   "cell_type": "markdown",
   "id": "55fec2db",
   "metadata": {},
   "source": [
    "$$\\frac{2}{2^p}= 1$$"
   ]
  },
  {
   "cell_type": "code",
   "execution_count": 77,
   "id": "26cebd0e",
   "metadata": {},
   "outputs": [],
   "source": [
    "a_i = [2]\n",
    "b_i = [2]"
   ]
  },
  {
   "cell_type": "code",
   "execution_count": 78,
   "id": "14580b92",
   "metadata": {},
   "outputs": [
    {
     "data": {
      "text/latex": [
       "$\\displaystyle 1$"
      ],
      "text/plain": [
       "1"
      ]
     },
     "execution_count": 78,
     "metadata": {},
     "output_type": "execute_result"
    }
   ],
   "source": [
    "calculate_p(a_i, b_i)"
   ]
  },
  {
   "cell_type": "markdown",
   "id": "e7d506a8",
   "metadata": {},
   "source": [
    "#### Example 3"
   ]
  },
  {
   "cell_type": "code",
   "execution_count": 79,
   "id": "84a30306",
   "metadata": {},
   "outputs": [],
   "source": [
    "a_i = [1]\n",
    "b_i = [2]"
   ]
  },
  {
   "cell_type": "markdown",
   "id": "2eb06c02",
   "metadata": {},
   "source": [
    "$$\\frac{1}{2^p}= 1$$"
   ]
  },
  {
   "cell_type": "code",
   "execution_count": 80,
   "id": "e9d9c23d",
   "metadata": {},
   "outputs": [
    {
     "data": {
      "text/latex": [
       "$\\displaystyle 0$"
      ],
      "text/plain": [
       "0"
      ]
     },
     "execution_count": 80,
     "metadata": {},
     "output_type": "execute_result"
    }
   ],
   "source": [
    "calculate_p(a_i, b_i)"
   ]
  },
  {
   "cell_type": "markdown",
   "id": "4da4a4a4",
   "metadata": {},
   "source": [
    "#### Example 4"
   ]
  },
  {
   "cell_type": "code",
   "execution_count": 81,
   "id": "32242a7d",
   "metadata": {},
   "outputs": [],
   "source": [
    "a_i = [3]\n",
    "b_i = [2]"
   ]
  },
  {
   "cell_type": "markdown",
   "id": "ebbede93",
   "metadata": {},
   "source": [
    "$$\\frac{3}{2^p} = 1$$"
   ]
  },
  {
   "cell_type": "code",
   "execution_count": 82,
   "id": "2fee9084",
   "metadata": {},
   "outputs": [
    {
     "data": {
      "text/latex": [
       "$\\displaystyle \\frac{\\log{\\left(3 \\right)}}{\\log{\\left(2 \\right)}}$"
      ],
      "text/plain": [
       "log(3)/log(2)"
      ]
     },
     "execution_count": 82,
     "metadata": {},
     "output_type": "execute_result"
    }
   ],
   "source": [
    "calculate_p(a_i, b_i)"
   ]
  },
  {
   "cell_type": "markdown",
   "id": "2cf10fe5",
   "metadata": {},
   "source": [
    "Notice the above solution is equivalent to $\\log_2{3}$"
   ]
  },
  {
   "cell_type": "code",
   "execution_count": null,
   "id": "8c0d9fe5",
   "metadata": {},
   "outputs": [],
   "source": []
  },
  {
   "cell_type": "markdown",
   "id": "33e86c94",
   "metadata": {},
   "source": [
    "#### Example 5"
   ]
  },
  {
   "cell_type": "code",
   "execution_count": 83,
   "id": "f9280bee",
   "metadata": {},
   "outputs": [],
   "source": [
    "a_i = [2, 1, 2]\n",
    "b_i = [2, 3, 3]"
   ]
  },
  {
   "cell_type": "markdown",
   "id": "24fc0841",
   "metadata": {},
   "source": [
    "$$\\frac{2}{2^p} + \\frac{1}{3^p} + \\frac{2}{3^p} = 1$$"
   ]
  },
  {
   "cell_type": "code",
   "execution_count": null,
   "id": "6896b4f6",
   "metadata": {},
   "outputs": [],
   "source": []
  },
  {
   "cell_type": "markdown",
   "id": "6ea189cb",
   "metadata": {},
   "source": [
    "notice that the value of the initial guess for $p$ can have a great influence on the refined result ..."
   ]
  },
  {
   "cell_type": "markdown",
   "id": "020afbd5",
   "metadata": {},
   "source": [
    "For example, the initial guess $p=1$ refines to $p = 1.7878849085670687 \\dots$"
   ]
  },
  {
   "cell_type": "code",
   "execution_count": 86,
   "id": "9968f1c9",
   "metadata": {},
   "outputs": [
    {
     "name": "stdout",
     "output_type": "stream",
     "text": [
      "multiple generators [2**p, 3**p, 6**p]\n",
      "No algorithms are implemented to solve equation -1 + 3/3**p + 2/2**p\n",
      "Guess: \n",
      "1\n"
     ]
    }
   ],
   "source": [
    "option1 = calculate_p(a_i, b_i)"
   ]
  },
  {
   "cell_type": "code",
   "execution_count": 87,
   "id": "e176d024",
   "metadata": {},
   "outputs": [
    {
     "data": {
      "text/plain": [
       "1.7878849085670687"
      ]
     },
     "execution_count": 87,
     "metadata": {},
     "output_type": "execute_result"
    }
   ],
   "source": [
    "option1"
   ]
  },
  {
   "cell_type": "markdown",
   "id": "c4cf266b",
   "metadata": {},
   "source": [
    "Whereas the initial guess $p = 12$ refines to $p = 11.647079467773438 \\dots$"
   ]
  },
  {
   "cell_type": "code",
   "execution_count": 88,
   "id": "295a3699",
   "metadata": {},
   "outputs": [
    {
     "name": "stdout",
     "output_type": "stream",
     "text": [
      "multiple generators [2**p, 3**p, 6**p]\n",
      "No algorithms are implemented to solve equation -1 + 3/3**p + 2/2**p\n",
      "Guess: \n",
      "12\n"
     ]
    }
   ],
   "source": [
    "option12 = calculate_p(a_i, b_i)"
   ]
  },
  {
   "cell_type": "code",
   "execution_count": 1414,
   "id": "481064b6",
   "metadata": {},
   "outputs": [
    {
     "data": {
      "text/plain": [
       "11.647079467773438"
      ]
     },
     "execution_count": 1414,
     "metadata": {},
     "output_type": "execute_result"
    }
   ],
   "source": [
    "option12"
   ]
  },
  {
   "cell_type": "markdown",
   "id": "f735c139",
   "metadata": {},
   "source": [
    "... so it is always important to try and make an educated guess by first to establish a reasonable interval in which the solution may be found!"
   ]
  },
  {
   "cell_type": "markdown",
   "id": "8e012016",
   "metadata": {},
   "source": [
    "The result for $p$ should always be tested when using a numerical approach as the below computations illustrate!"
   ]
  },
  {
   "cell_type": "code",
   "execution_count": 89,
   "id": "08252f92",
   "metadata": {},
   "outputs": [],
   "source": [
    "expression = 0\n",
    "\n",
    "for x in range(length):\n",
    "    expression += a_i[x] / b_i[x]**p"
   ]
  },
  {
   "cell_type": "code",
   "execution_count": 90,
   "id": "2f9913bf",
   "metadata": {},
   "outputs": [
    {
     "data": {
      "text/latex": [
       "$\\displaystyle 3^{- p} + 2 \\cdot 2^{- p}$"
      ],
      "text/plain": [
       "3**(-p) + 2/2**p"
      ]
     },
     "execution_count": 90,
     "metadata": {},
     "output_type": "execute_result"
    }
   ],
   "source": [
    "expression"
   ]
  },
  {
   "cell_type": "code",
   "execution_count": 91,
   "id": "a13e2221",
   "metadata": {},
   "outputs": [],
   "source": [
    "f = lambdify(p, expression)"
   ]
  },
  {
   "cell_type": "code",
   "execution_count": 92,
   "id": "9478e9f6",
   "metadata": {},
   "outputs": [
    {
     "data": {
      "text/plain": [
       "<function _lambdifygenerated(p)>"
      ]
     },
     "execution_count": 92,
     "metadata": {},
     "output_type": "execute_result"
    }
   ],
   "source": [
    "f"
   ]
  },
  {
   "cell_type": "code",
   "execution_count": 93,
   "id": "95813ecc",
   "metadata": {},
   "outputs": [
    {
     "data": {
      "text/latex": [
       "$\\displaystyle 3^{- p} + 2 \\cdot 2^{- p}$"
      ],
      "text/plain": [
       "3**(-p) + 2/2**p"
      ]
     },
     "execution_count": 93,
     "metadata": {},
     "output_type": "execute_result"
    }
   ],
   "source": [
    "f(p)"
   ]
  },
  {
   "cell_type": "code",
   "execution_count": 94,
   "id": "c0bd12cd",
   "metadata": {},
   "outputs": [
    {
     "data": {
      "text/plain": [
       "0.7194617383876748"
      ]
     },
     "execution_count": 94,
     "metadata": {},
     "output_type": "execute_result"
    }
   ],
   "source": [
    "f(option1)"
   ]
  },
  {
   "cell_type": "code",
   "execution_count": 95,
   "id": "ba7dc39e",
   "metadata": {},
   "outputs": [
    {
     "data": {
      "text/plain": [
       "0.0006263780583892548"
      ]
     },
     "execution_count": 95,
     "metadata": {},
     "output_type": "execute_result"
    }
   ],
   "source": [
    "f(option12)"
   ]
  },
  {
   "cell_type": "code",
   "execution_count": null,
   "id": "0ff6d928",
   "metadata": {},
   "outputs": [],
   "source": []
  },
  {
   "cell_type": "markdown",
   "id": "68ce6528",
   "metadata": {},
   "source": [
    "#### Example 6"
   ]
  },
  {
   "cell_type": "code",
   "execution_count": 1422,
   "id": "b0fae20d",
   "metadata": {},
   "outputs": [],
   "source": [
    "a_i = [1, 2, 3]\n",
    "b_i = [2, 3, 4]"
   ]
  },
  {
   "cell_type": "markdown",
   "id": "95d2b5c6",
   "metadata": {},
   "source": [
    "$$\\frac{1}{2^p} + \\frac{2}{3^p} + \\frac{3}{4^p} = 1$$"
   ]
  },
  {
   "cell_type": "markdown",
   "id": "f994317d",
   "metadata": {},
   "source": [
    "The initial guess $p=1$ refines to $p = 2.01 \\dots$"
   ]
  },
  {
   "cell_type": "code",
   "execution_count": 1423,
   "id": "e204cc4a",
   "metadata": {},
   "outputs": [
    {
     "name": "stdout",
     "output_type": "stream",
     "text": [
      "multiple generators [12**p, 24**p, 6**p, 8**p]\n",
      "No algorithms are implemented to solve equation -1 + 3/4**p + 2/3**p + 2**(-p)\n",
      "Guess: \n",
      "1\n"
     ]
    },
    {
     "data": {
      "text/plain": [
       "2.01"
      ]
     },
     "execution_count": 1423,
     "metadata": {},
     "output_type": "execute_result"
    }
   ],
   "source": [
    "calculate_p(a_i, b_i)"
   ]
  },
  {
   "cell_type": "markdown",
   "id": "424cf77d",
   "metadata": {},
   "source": [
    " ... while the initial guess $p=2$ refines to $p = 1.6011213861678517 \\dots$"
   ]
  },
  {
   "cell_type": "code",
   "execution_count": 1426,
   "id": "40f29303",
   "metadata": {},
   "outputs": [
    {
     "name": "stdout",
     "output_type": "stream",
     "text": [
      "multiple generators [12**p, 24**p, 6**p, 8**p]\n",
      "No algorithms are implemented to solve equation -1 + 3/4**p + 2/3**p + 2**(-p)\n",
      "Guess: \n",
      "2\n"
     ]
    },
    {
     "data": {
      "text/plain": [
       "1.6011213861678517"
      ]
     },
     "execution_count": 1426,
     "metadata": {},
     "output_type": "execute_result"
    }
   ],
   "source": [
    "calculate_p(a_i, b_i)"
   ]
  },
  {
   "cell_type": "code",
   "execution_count": null,
   "id": "b1768def",
   "metadata": {},
   "outputs": [],
   "source": []
  },
  {
   "cell_type": "markdown",
   "id": "05f650c5",
   "metadata": {},
   "source": [
    "#### Flaws with Sympy"
   ]
  },
  {
   "cell_type": "code",
   "execution_count": 1428,
   "id": "750990a0",
   "metadata": {},
   "outputs": [],
   "source": [
    "a_i = [1, 1]\n",
    "b_i = [2, 3]"
   ]
  },
  {
   "cell_type": "markdown",
   "id": "261e1b1f",
   "metadata": {},
   "source": [
    "$$\\frac{1}{2^p} + \\frac{1}{3^p} = 1$$"
   ]
  },
  {
   "cell_type": "code",
   "execution_count": 1429,
   "id": "1700f373",
   "metadata": {},
   "outputs": [
    {
     "name": "stdout",
     "output_type": "stream",
     "text": [
      "multiple generators [2**p, 3**p, 6**p]\n",
      "No algorithms are implemented to solve equation -1 + 3**(-p) + 2**(-p)\n",
      "Guess: \n",
      "1\n"
     ]
    },
    {
     "data": {
      "text/plain": [
       "0.7878849080302573"
      ]
     },
     "execution_count": 1429,
     "metadata": {},
     "output_type": "execute_result"
    }
   ],
   "source": [
    "calculate_p(a_i, b_i)"
   ]
  },
  {
   "cell_type": "code",
   "execution_count": null,
   "id": "2678321b",
   "metadata": {},
   "outputs": [],
   "source": []
  },
  {
   "cell_type": "markdown",
   "id": "ef399adf",
   "metadata": {},
   "source": [
    "#### 2.1.3 Flaws with `sympy`"
   ]
  },
  {
   "cell_type": "code",
   "execution_count": null,
   "id": "b9a676fd",
   "metadata": {},
   "outputs": [],
   "source": []
  },
  {
   "cell_type": "markdown",
   "id": "b0dd713f",
   "metadata": {},
   "source": [
    "Besides the \"traps\" that we have to look out for when using the `calculate_p()` method for approximating the solution numerically, we still face quite a bit of trouble with optimizing the result given by `sympy` as the following example illustrates ..."
   ]
  },
  {
   "cell_type": "markdown",
   "id": "a4677e88",
   "metadata": {},
   "source": [
    "#### Example"
   ]
  },
  {
   "cell_type": "code",
   "execution_count": 1430,
   "id": "e5e6b9b5",
   "metadata": {},
   "outputs": [],
   "source": [
    "a_i = [1, 1]\n",
    "b_i = [2, 4]"
   ]
  },
  {
   "cell_type": "markdown",
   "id": "e1d0a32a",
   "metadata": {},
   "source": [
    "$$\\frac{1}{2^p} + \\frac{1}{4^p} = 1$$"
   ]
  },
  {
   "cell_type": "markdown",
   "id": "17f79738",
   "metadata": {},
   "source": [
    "As the `calculate_p()` method is currently defined, it's still not perfect, even for those equations that *can* be solved analytically by `sympy`"
   ]
  },
  {
   "cell_type": "code",
   "execution_count": 1431,
   "id": "5582a667",
   "metadata": {
    "scrolled": true
   },
   "outputs": [
    {
     "data": {
      "text/latex": [
       "$\\displaystyle \\frac{\\log{\\left(- \\frac{1}{2} + \\frac{\\sqrt{5}}{2} \\right)} + i \\pi}{\\log{\\left(2 \\right)}}$"
      ],
      "text/plain": [
       "(log(-1/2 + sqrt(5)/2) + I*pi)/log(2)"
      ]
     },
     "execution_count": 1431,
     "metadata": {},
     "output_type": "execute_result"
    }
   ],
   "source": [
    "calculate_p(a_i, b_i)"
   ]
  },
  {
   "cell_type": "markdown",
   "id": "b934b39e",
   "metadata": {},
   "source": [
    "The result is a complex number ..."
   ]
  },
  {
   "cell_type": "code",
   "execution_count": 1432,
   "id": "67b6531a",
   "metadata": {},
   "outputs": [
    {
     "data": {
      "text/latex": [
       "$\\displaystyle -0.694241913630617 + 4.53236014182719 i$"
      ],
      "text/plain": [
       "-0.694241913630617 + 4.53236014182719*I"
      ]
     },
     "execution_count": 1432,
     "metadata": {},
     "output_type": "execute_result"
    }
   ],
   "source": [
    "N(calculate_p(a_i, b_i))"
   ]
  },
  {
   "cell_type": "code",
   "execution_count": 1433,
   "id": "e571cb17",
   "metadata": {},
   "outputs": [
    {
     "data": {
      "text/latex": [
       "$\\displaystyle -0.694241913630617$"
      ],
      "text/plain": [
       "-0.694241913630617"
      ]
     },
     "execution_count": 1433,
     "metadata": {},
     "output_type": "execute_result"
    }
   ],
   "source": [
    "re(N(calculate_p(a_i, b_i)))"
   ]
  },
  {
   "cell_type": "markdown",
   "id": "bb19fb01",
   "metadata": {},
   "source": [
    "The equation $\\frac{1}{2^p} + \\frac{1}{4^p} = 1$ actually has two solutions, one positive and the other negative as can be obtained by manipulating it as follows ..."
   ]
  },
  {
   "cell_type": "markdown",
   "id": "44fbaa13",
   "metadata": {},
   "source": [
    "$$\n",
    "\\begin{align}\n",
    "    &\\frac{1}{2^p} + \\frac{1}{4^p} = 1 \\\\\n",
    "    &\\left( \\frac{1}{2} \\right)^{p} + \\left( \\frac{1}{2} \\right)^{2p} = 1 \\\\\n",
    "\\end{align}\n",
    "$$\n",
    "\n",
    "<p style = 'text-align: center'> ... by substituting $x$ for $\\left( \\frac{1}{2} \\right)^{p}$ we get ... </p>\n",
    "\n",
    "$$\n",
    "\\begin{align}\n",
    "    x^2 + x &= 1 \\\\\n",
    "    x^2 + x -1 &= 0 \\\\\n",
    "\\end{align}\n",
    "$$\n",
    "\n",
    "<p style = 'text-align: center'> ... then using the <a href='https://en.wikipedia.org/wiki/Quadratic_formula'>quadratic formula</a> ... </p>\n",
    "\n",
    "$$\n",
    "\\begin{align}\n",
    "    x = \\frac{-b \\pm \\sqrt{b^2 - 4ac}}{2a} \\\\\n",
    "\\end{align}\n",
    "$$\n",
    "\n",
    "<p style = 'text-align: center'> ... we get ... </p>\n",
    "\n",
    "$$\n",
    "    x = \\frac{-1 + \\sqrt{5}}{2} \\quad \\text{or} \\quad x = \\frac{-1 - \\sqrt{5}}{2}\n",
    "$$\n",
    "\n",
    "<p style = 'text-align: center'> ... but $x$ is $\\left( \\frac{1}{2} \\right)^{p}$ so substituting back and solving for $p$ ... </p>\n",
    "\n",
    "<p style = 'text-align: center'> ... we get that after rationalizing the denominators ... </p>\n",
    "\n",
    "$$\n",
    "    p = \\log_2\\left(\\frac{1}{2}\\left(1+\\sqrt{5}\\right)\\right) \\quad \\text{or} \\quad p = \\log_2\\left(\\frac{1}{2}\\left(1-\\sqrt{5}\\right)\\right)\n",
    "$$"
   ]
  },
  {
   "cell_type": "code",
   "execution_count": null,
   "id": "49bdf016",
   "metadata": {},
   "outputs": [],
   "source": []
  },
  {
   "cell_type": "markdown",
   "id": "210b7687",
   "metadata": {},
   "source": [
    "But the solution for $p$ given by ...\n",
    "\n",
    "$$\n",
    "    p = \\log_2\\left(\\frac{1}{2}\\left(1-\\sqrt{5}\\right)\\right)\n",
    "$$\n",
    "\n",
    "... does not make sense in this context, because the result would be a [Complex Logarithm](https://en.wikipedia.org/wiki/Complex_logarithm#Definition_of_principal_value), hence the `sympy` result as obtained before!"
   ]
  },
  {
   "cell_type": "code",
   "execution_count": null,
   "id": "7fdb1345",
   "metadata": {},
   "outputs": [],
   "source": []
  },
  {
   "cell_type": "markdown",
   "id": "37fad46c",
   "metadata": {},
   "source": [
    "So, that being said, we are only interested in the positive values for $p$, since $p$ represents \"recursive depth\" and the steps for recursive calls are forward in \"time\" not \"backwards\""
   ]
  },
  {
   "cell_type": "markdown",
   "id": "123c5af2",
   "metadata": {},
   "source": [
    "Let's develop the formalism to incorporate this into our code for the `calculate_p()` method!"
   ]
  },
  {
   "cell_type": "code",
   "execution_count": null,
   "id": "20e852cc",
   "metadata": {},
   "outputs": [],
   "source": []
  },
  {
   "cell_type": "markdown",
   "id": "21488de5",
   "metadata": {},
   "source": [
    "To improve our `calculate_p()` method to handle this situation is not a hard task at all. Indeed, we can specify within the symbol decleration for $p$ that it must be positive, by including the attribute `nonnegative=True`"
   ]
  },
  {
   "cell_type": "code",
   "execution_count": null,
   "id": "c0264c94",
   "metadata": {},
   "outputs": [],
   "source": []
  },
  {
   "cell_type": "code",
   "execution_count": 1434,
   "id": "2d93b934",
   "metadata": {},
   "outputs": [],
   "source": [
    "def calculate_p(array_a_i, array_b_i):\n",
    "    p = Symbol('p', finite=True, nonnegative=True, imaginary=False) # Set Attribute positive = true\n",
    "    length = len(array_a_i)\n",
    "    \n",
    "    expression = 0\n",
    "\n",
    "    for x in range(length):\n",
    "        expression += a_i[x] / b_i[x]**p\n",
    "    \n",
    "    try:\n",
    "        solution = solve(Eq(expression, 1), p)\n",
    "   \n",
    "    except NotImplementedError as e:\n",
    "        print(e)\n",
    "        f = lambdify(p, expression)\n",
    "\n",
    "        def objective_function(p):\n",
    "            return abs(f(p) - 1.0)\n",
    "        \n",
    "        print(\"Guess: \")\n",
    "        guess = float(input())\n",
    "        \n",
    "        result = minimize(objective_function, [guess])\n",
    "        \n",
    "        solution = result.x\n",
    "        for sol in result.x:\n",
    "            round(sol)\n",
    "    \n",
    "    return solution[0]"
   ]
  },
  {
   "cell_type": "code",
   "execution_count": 1435,
   "id": "62581737",
   "metadata": {},
   "outputs": [],
   "source": [
    "a_i = [1, 1]\n",
    "b_i = [2, 4]"
   ]
  },
  {
   "cell_type": "code",
   "execution_count": 1436,
   "id": "af0dc8fc",
   "metadata": {},
   "outputs": [
    {
     "data": {
      "text/latex": [
       "$\\displaystyle -1 + \\frac{\\log{\\left(1 + \\sqrt{5} \\right)}}{\\log{\\left(2 \\right)}}$"
      ],
      "text/plain": [
       "-1 + log(1 + sqrt(5))/log(2)"
      ]
     },
     "execution_count": 1436,
     "metadata": {},
     "output_type": "execute_result"
    }
   ],
   "source": [
    "calculate_p(a_i, b_i)"
   ]
  },
  {
   "cell_type": "markdown",
   "id": "f36ce16d",
   "metadata": {},
   "source": [
    "Thus we get out beautiful result, just as expected!"
   ]
  },
  {
   "cell_type": "code",
   "execution_count": 1437,
   "id": "b0003126",
   "metadata": {},
   "outputs": [
    {
     "data": {
      "text/latex": [
       "$\\displaystyle 0.694241913630617$"
      ],
      "text/plain": [
       "0.694241913630617"
      ]
     },
     "execution_count": 1437,
     "metadata": {},
     "output_type": "execute_result"
    }
   ],
   "source": [
    "N(calculate_p(a_i, b_i))"
   ]
  },
  {
   "cell_type": "code",
   "execution_count": null,
   "id": "d4fa20fa",
   "metadata": {},
   "outputs": [],
   "source": []
  },
  {
   "cell_type": "markdown",
   "id": "a7e87f73",
   "metadata": {},
   "source": [
    "The predicates/attributes associated with the symbolic parameter $p$ ***must*** be as follows ..."
   ]
  },
  {
   "cell_type": "code",
   "execution_count": 1438,
   "id": "dd329fb9",
   "metadata": {},
   "outputs": [],
   "source": [
    "p = Symbol('p', nonnegative=True, imaginary=False, finite=True)"
   ]
  },
  {
   "cell_type": "markdown",
   "id": "7b7e8ea3",
   "metadata": {},
   "source": [
    "The full set of know predicates for a symbol can be accessed using `.assumptions0` ..."
   ]
  },
  {
   "cell_type": "code",
   "execution_count": 1439,
   "id": "15d2a6e4",
   "metadata": {},
   "outputs": [
    {
     "data": {
      "text/plain": [
       "{'nonnegative': True,\n",
       " 'real': True,\n",
       " 'negative': False,\n",
       " 'infinite': False,\n",
       " 'extended_real': True,\n",
       " 'extended_nonnegative': True,\n",
       " 'extended_negative': False,\n",
       " 'complex': True,\n",
       " 'imaginary': False,\n",
       " 'hermitian': True,\n",
       " 'commutative': True,\n",
       " 'finite': True}"
      ]
     },
     "execution_count": 1439,
     "metadata": {},
     "output_type": "execute_result"
    }
   ],
   "source": [
    "p.assumptions0"
   ]
  },
  {
   "cell_type": "markdown",
   "id": "bdeaf887",
   "metadata": {},
   "source": [
    "See [here](https://docs.sympy.org/latest/guides/assumptions.html) for more information!"
   ]
  },
  {
   "cell_type": "code",
   "execution_count": null,
   "id": "14038440",
   "metadata": {},
   "outputs": [],
   "source": []
  },
  {
   "cell_type": "markdown",
   "id": "8c6e9dcb",
   "metadata": {},
   "source": [
    "## 3. Integral-Expression"
   ]
  },
  {
   "cell_type": "markdown",
   "id": "8fa0b0e0",
   "metadata": {},
   "source": [
    "In the previous section we developed a method `calculate_p()` for determining the parameter $p$ in the Integral expression given by the Akar-Bazzi Theorem ...\n",
    "\n",
    "$$\n",
    "    T(n) = n^p + n^p \\int_{1}^{n} {\\frac{u^d}{u^{p+1}}} du\n",
    "$$\n",
    "\n",
    "... such that $p$ satisfies the equation ...\n",
    "\n",
    "$$\\sum_{i=1}^{k} a_i b_i^p = 1$$"
   ]
  },
  {
   "cell_type": "code",
   "execution_count": null,
   "id": "7af1c56d",
   "metadata": {},
   "outputs": [],
   "source": []
  },
  {
   "cell_type": "markdown",
   "id": "4c10b94c",
   "metadata": {},
   "source": [
    "So most of the heavy work has already been done!"
   ]
  },
  {
   "cell_type": "markdown",
   "id": "3499377b",
   "metadata": {},
   "source": [
    "The remainder of our task is to define a procedure using `sympy` which will perform the intergration for us to compute the algorithmic complexity of an any Divide & Conquer recurrence relation of the form ...\n",
    "\n",
    "$$\n",
    "    T(n) = \\sum_{i=1}^{k} {a_i T \\left( \\frac{n}{b_i} \\right)} + O(n^d)\n",
    "$$\n",
    "\n",
    "... given, as input, an array of the parameters $a_i$ and $b_i$"
   ]
  },
  {
   "cell_type": "markdown",
   "id": "0ab0db88",
   "metadata": {},
   "source": [
    "### 3.1 Algorithmic-Complexity"
   ]
  },
  {
   "cell_type": "code",
   "execution_count": null,
   "id": "ad4465f4",
   "metadata": {},
   "outputs": [],
   "source": []
  },
  {
   "cell_type": "markdown",
   "id": "643fdf3b",
   "metadata": {},
   "source": [
    "In this section we define a procedure that solves the integral in symbolic form (if possible) with parameters $u$ and $n$ and finally combine the terms for a result!"
   ]
  },
  {
   "cell_type": "code",
   "execution_count": null,
   "id": "5d80d6bf",
   "metadata": {},
   "outputs": [],
   "source": []
  },
  {
   "cell_type": "markdown",
   "id": "617d111f",
   "metadata": {},
   "source": [
    "Recall that $d$ represents the exponent of the polynomial function outside of the recursive calls $O(n^d)$ ..."
   ]
  },
  {
   "cell_type": "code",
   "execution_count": 1440,
   "id": "e501f6f8",
   "metadata": {},
   "outputs": [],
   "source": [
    "u = Symbol('u', finite=True)\n",
    "n = Symbol('n', finite=True)"
   ]
  },
  {
   "cell_type": "code",
   "execution_count": 1441,
   "id": "723d6d0d",
   "metadata": {},
   "outputs": [],
   "source": [
    "p = Symbol('p', nonzero=False, negative=False, imaginary=False)\n",
    "d = Symbol('d', positiveorzero=True, real=True, finite=True)"
   ]
  },
  {
   "cell_type": "markdown",
   "id": "6cdedba5",
   "metadata": {},
   "source": [
    "Thus we can define integrand ..."
   ]
  },
  {
   "cell_type": "markdown",
   "id": "4c00fa19",
   "metadata": {},
   "source": [
    "$${\\frac{u^d}{u^{p+1}}}$$"
   ]
  },
  {
   "cell_type": "markdown",
   "id": "50372fb9",
   "metadata": {},
   "source": [
    "... in sympy, as follows ..."
   ]
  },
  {
   "cell_type": "code",
   "execution_count": 1442,
   "id": "7126d0b9",
   "metadata": {},
   "outputs": [],
   "source": [
    "integrand = u**d / u**(p+1)"
   ]
  },
  {
   "cell_type": "code",
   "execution_count": 1443,
   "id": "b0df82b0",
   "metadata": {},
   "outputs": [
    {
     "data": {
      "text/latex": [
       "$\\displaystyle u^{d} u^{- p - 1}$"
      ],
      "text/plain": [
       "u**d*u**(-p - 1)"
      ]
     },
     "execution_count": 1443,
     "metadata": {},
     "output_type": "execute_result"
    }
   ],
   "source": [
    "integrand"
   ]
  },
  {
   "cell_type": "markdown",
   "id": "8c6d16fb",
   "metadata": {},
   "source": [
    "Hence, the integral ..."
   ]
  },
  {
   "cell_type": "markdown",
   "id": "45626b41",
   "metadata": {},
   "source": [
    "$$\\int_{1}^{n} {\\frac{u^d}{u^{p+1}}} du$$"
   ]
  },
  {
   "cell_type": "markdown",
   "id": "5711139a",
   "metadata": {},
   "source": [
    "... can be define symbolically as ..."
   ]
  },
  {
   "cell_type": "code",
   "execution_count": 1444,
   "id": "e5bca1ed",
   "metadata": {},
   "outputs": [],
   "source": [
    "integral = integrate(integrand, (u, 1, n))"
   ]
  },
  {
   "cell_type": "code",
   "execution_count": 1445,
   "id": "dc891ba2",
   "metadata": {},
   "outputs": [
    {
     "data": {
      "text/latex": [
       "$\\displaystyle \\begin{cases} - \\frac{n^{d}}{- d n^{p} + n^{p} p} + \\frac{1}{- d + p} & \\text{for}\\: d \\neq p \\\\\\frac{p \\log{\\left(n \\right)}}{p + 1} + \\frac{\\log{\\left(n \\right)}}{p + 1} & \\text{otherwise} \\end{cases}$"
      ],
      "text/plain": [
       "Piecewise((-n**d/(-d*n**p + n**p*p) + 1/(-d + p), Ne(d, p)), (p*log(n)/(p + 1) + log(n)/(p + 1), True))"
      ]
     },
     "execution_count": 1445,
     "metadata": {},
     "output_type": "execute_result"
    }
   ],
   "source": [
    "integral"
   ]
  },
  {
   "cell_type": "code",
   "execution_count": null,
   "id": "5a6f55db",
   "metadata": {},
   "outputs": [],
   "source": []
  },
  {
   "cell_type": "markdown",
   "id": "0f66ecb3",
   "metadata": {},
   "source": [
    "#### 3.1.1 Rudimentary Complexity Calculator"
   ]
  },
  {
   "cell_type": "markdown",
   "id": "afbf6d1b",
   "metadata": {},
   "source": [
    "Below we have a rudimentary implementation of the procedure in development for calculating the complexity of an algorithm using the Akar-Bazzi Theorem"
   ]
  },
  {
   "cell_type": "code",
   "execution_count": 1446,
   "id": "7344f258",
   "metadata": {},
   "outputs": [],
   "source": [
    "def calculate_complexity(array_a_i, array_b_i, d):\n",
    "    \n",
    "    n = Symbol('n', positive=True, finite=True, integer=True)\n",
    "    u = Symbol('u')\n",
    "    \n",
    "    power = calculate_p(array_a_i, array_b_i) # From the previous section\n",
    "\n",
    "    integral = integrate(u**d / u**(power+1), (u, 1, n))\n",
    "\n",
    "    result = expand(n**power + n**power * integral)\n",
    "    \n",
    "    return result"
   ]
  },
  {
   "cell_type": "code",
   "execution_count": null,
   "id": "5a925279",
   "metadata": {},
   "outputs": [],
   "source": []
  },
  {
   "cell_type": "markdown",
   "id": "5bca48c4",
   "metadata": {},
   "source": [
    "#### Example 1"
   ]
  },
  {
   "cell_type": "markdown",
   "id": "4147d947",
   "metadata": {},
   "source": [
    "The recurrence relation ...\n",
    "\n",
    "$$\n",
    "    T(n) = 2T(n/2) + O(1)\n",
    "$$\n",
    "\n",
    "... has parameters corresponding to the values below ..."
   ]
  },
  {
   "cell_type": "code",
   "execution_count": 1447,
   "id": "1c78680b",
   "metadata": {},
   "outputs": [],
   "source": [
    "d = 0\n",
    "a_i = [2]\n",
    "b_i = [2]"
   ]
  },
  {
   "cell_type": "code",
   "execution_count": 1448,
   "id": "5b1aa093",
   "metadata": {},
   "outputs": [
    {
     "data": {
      "text/latex": [
       "$\\displaystyle 1$"
      ],
      "text/plain": [
       "1"
      ]
     },
     "execution_count": 1448,
     "metadata": {},
     "output_type": "execute_result"
    }
   ],
   "source": [
    "calculate_p(a_i, b_i)"
   ]
  },
  {
   "cell_type": "markdown",
   "id": "cc9f7de5",
   "metadata": {},
   "source": [
    "... and the corresponding complexity is obtained by computing the integral ...\n",
    "\n",
    "$$\n",
    "    T(n) = n^1 + n^1 \\int_{1}^{n} {\\frac{u^0}{u^{1+1}}} du\n",
    "$$"
   ]
  },
  {
   "cell_type": "code",
   "execution_count": 1449,
   "id": "435b2b5b",
   "metadata": {},
   "outputs": [
    {
     "data": {
      "text/latex": [
       "$\\displaystyle 2 n - 1$"
      ],
      "text/plain": [
       "2*n - 1"
      ]
     },
     "execution_count": 1449,
     "metadata": {},
     "output_type": "execute_result"
    }
   ],
   "source": [
    "calculate_complexity(a_i, b_i, d)"
   ]
  },
  {
   "cell_type": "markdown",
   "id": "6876e6ff",
   "metadata": {},
   "source": [
    "Which is clearly $O(n)$ Linear Runtime"
   ]
  },
  {
   "cell_type": "markdown",
   "id": "f493a75b",
   "metadata": {},
   "source": [
    "Notice that ..."
   ]
  },
  {
   "cell_type": "code",
   "execution_count": 1453,
   "id": "0e73ff57",
   "metadata": {},
   "outputs": [
    {
     "data": {
      "text/plain": [
       "sympy.core.numbers.One"
      ]
     },
     "execution_count": 1453,
     "metadata": {},
     "output_type": "execute_result"
    }
   ],
   "source": [
    "type(calculate_p(a_i, b_i))"
   ]
  },
  {
   "cell_type": "code",
   "execution_count": null,
   "id": "c40949e7",
   "metadata": {},
   "outputs": [],
   "source": []
  },
  {
   "cell_type": "markdown",
   "id": "9541946e",
   "metadata": {},
   "source": [
    "#### Example 2"
   ]
  },
  {
   "cell_type": "markdown",
   "id": "1fbbc10b",
   "metadata": {},
   "source": [
    "The recurrence relation ...\n",
    "\n",
    "$$\n",
    "    T(n) = 2T(n/2) + O(n)\n",
    "$$\n",
    "\n",
    "... has parameters correspondind to the values below ..."
   ]
  },
  {
   "cell_type": "code",
   "execution_count": 1454,
   "id": "cf09e6be",
   "metadata": {},
   "outputs": [],
   "source": [
    "d = 1\n",
    "a_i = [2]\n",
    "b_i = [2]"
   ]
  },
  {
   "cell_type": "code",
   "execution_count": 1455,
   "id": "45aaca90",
   "metadata": {},
   "outputs": [
    {
     "data": {
      "text/latex": [
       "$\\displaystyle 1$"
      ],
      "text/plain": [
       "1"
      ]
     },
     "execution_count": 1455,
     "metadata": {},
     "output_type": "execute_result"
    }
   ],
   "source": [
    "calculate_p(a_i, b_i)"
   ]
  },
  {
   "cell_type": "markdown",
   "id": "f420ba02",
   "metadata": {},
   "source": [
    "... and the corresponding complexity is obtained by computing the integral ...\n",
    "\n",
    "$$\n",
    "    T(n) = n^1 + n^1 \\int_{1}^{n} {\\frac{u^1}{u^{1+1}}} du\n",
    "$$"
   ]
  },
  {
   "cell_type": "code",
   "execution_count": 1456,
   "id": "7d4b9b25",
   "metadata": {},
   "outputs": [
    {
     "data": {
      "text/latex": [
       "$\\displaystyle n \\log{\\left(n \\right)} + n$"
      ],
      "text/plain": [
       "n*log(n) + n"
      ]
     },
     "execution_count": 1456,
     "metadata": {},
     "output_type": "execute_result"
    }
   ],
   "source": [
    "calculate_complexity(a_i, b_i, d)"
   ]
  },
  {
   "cell_type": "markdown",
   "id": "6a20aa83",
   "metadata": {},
   "source": [
    "Which is clearly $O(n*\\log(n))$ Linearithmic Runtime"
   ]
  },
  {
   "cell_type": "markdown",
   "id": "4d41163d",
   "metadata": {},
   "source": [
    "Notice that ... "
   ]
  },
  {
   "cell_type": "code",
   "execution_count": 1457,
   "id": "1d30c66b",
   "metadata": {},
   "outputs": [
    {
     "data": {
      "text/plain": [
       "sympy.core.numbers.One"
      ]
     },
     "execution_count": 1457,
     "metadata": {},
     "output_type": "execute_result"
    }
   ],
   "source": [
    "type(calculate_p(a_i, b_i))"
   ]
  },
  {
   "cell_type": "markdown",
   "id": "5c540061",
   "metadata": {},
   "source": [
    "... we may need this fact later ..."
   ]
  },
  {
   "cell_type": "code",
   "execution_count": null,
   "id": "fabbe298",
   "metadata": {},
   "outputs": [],
   "source": []
  },
  {
   "cell_type": "markdown",
   "id": "48c1d08b",
   "metadata": {},
   "source": [
    "#### Example 3"
   ]
  },
  {
   "cell_type": "markdown",
   "id": "1dda46a6",
   "metadata": {},
   "source": [
    "The recurrence relation ...\n",
    "\n",
    "$$\n",
    "    T(n) = T(n/2) + O(1)\n",
    "$$\n",
    "\n",
    "... has parameters corresponding to the values below ..."
   ]
  },
  {
   "cell_type": "code",
   "execution_count": 1458,
   "id": "6bb3888c",
   "metadata": {},
   "outputs": [],
   "source": [
    "d = 0\n",
    "a_i = [1]\n",
    "b_i = [2]"
   ]
  },
  {
   "cell_type": "code",
   "execution_count": 1459,
   "id": "4c1f480a",
   "metadata": {},
   "outputs": [
    {
     "data": {
      "text/latex": [
       "$\\displaystyle 0$"
      ],
      "text/plain": [
       "0"
      ]
     },
     "execution_count": 1459,
     "metadata": {},
     "output_type": "execute_result"
    }
   ],
   "source": [
    "calculate_p(a_i, b_i)"
   ]
  },
  {
   "cell_type": "markdown",
   "id": "17cb4974",
   "metadata": {},
   "source": [
    "... and the corresponding complexity is obtained by computing the integral ...\n",
    "\n",
    "$$\n",
    "    T(n) = n^0 + n^0 \\int_{1}^{n} {\\frac{u^0}{u^{0+1}}} du\n",
    "$$"
   ]
  },
  {
   "cell_type": "code",
   "execution_count": 1460,
   "id": "ba4b7742",
   "metadata": {},
   "outputs": [
    {
     "data": {
      "text/latex": [
       "$\\displaystyle \\log{\\left(n \\right)} + 1$"
      ],
      "text/plain": [
       "log(n) + 1"
      ]
     },
     "execution_count": 1460,
     "metadata": {},
     "output_type": "execute_result"
    }
   ],
   "source": [
    "calculate_complexity(a_i, b_i, d)"
   ]
  },
  {
   "cell_type": "markdown",
   "id": "2f4ac4c6",
   "metadata": {},
   "source": [
    "Which is clearly $O(\\log(n))$ Logarithmic Runtime"
   ]
  },
  {
   "cell_type": "markdown",
   "id": "3909ba8f",
   "metadata": {},
   "source": [
    "Notice that ..."
   ]
  },
  {
   "cell_type": "code",
   "execution_count": 1462,
   "id": "af0cfd08",
   "metadata": {},
   "outputs": [
    {
     "data": {
      "text/plain": [
       "sympy.core.numbers.Zero"
      ]
     },
     "execution_count": 1462,
     "metadata": {},
     "output_type": "execute_result"
    }
   ],
   "source": [
    "type(calculate_p(a_i, b_i))"
   ]
  },
  {
   "cell_type": "code",
   "execution_count": null,
   "id": "f5aad719",
   "metadata": {},
   "outputs": [],
   "source": []
  },
  {
   "cell_type": "markdown",
   "id": "d2cd7ad9",
   "metadata": {},
   "source": [
    "#### Example 4"
   ]
  },
  {
   "cell_type": "markdown",
   "id": "136f0e01",
   "metadata": {},
   "source": [
    "The recurrence relation ...\n",
    "\n",
    "$$\n",
    "    T(n) = 2T(n/2) + O(n^2)\n",
    "$$\n",
    "\n",
    "... has parameters corresponding to the values below ..."
   ]
  },
  {
   "cell_type": "code",
   "execution_count": 1463,
   "id": "0fb27a15",
   "metadata": {},
   "outputs": [],
   "source": [
    "d = 2\n",
    "a_i = [2]\n",
    "b_i = [2]"
   ]
  },
  {
   "cell_type": "code",
   "execution_count": 1464,
   "id": "071995e1",
   "metadata": {},
   "outputs": [
    {
     "data": {
      "text/latex": [
       "$\\displaystyle 1$"
      ],
      "text/plain": [
       "1"
      ]
     },
     "execution_count": 1464,
     "metadata": {},
     "output_type": "execute_result"
    }
   ],
   "source": [
    "calculate_p(a_i, b_i)"
   ]
  },
  {
   "cell_type": "markdown",
   "id": "e167e9e0",
   "metadata": {},
   "source": [
    "... and the corresponding complexity is obtained by computing the integral ...\n",
    "\n",
    "$$\n",
    "    T(n) = n^1 + n^1 \\int_{1}^{n} {\\frac{u^2}{u^{1+1}}} du\n",
    "$$"
   ]
  },
  {
   "cell_type": "code",
   "execution_count": 1465,
   "id": "3c767d7c",
   "metadata": {},
   "outputs": [
    {
     "data": {
      "text/latex": [
       "$\\displaystyle n^{2}$"
      ],
      "text/plain": [
       "n**2"
      ]
     },
     "execution_count": 1465,
     "metadata": {},
     "output_type": "execute_result"
    }
   ],
   "source": [
    "calculate_complexity(a_i, b_i, d)"
   ]
  },
  {
   "cell_type": "markdown",
   "id": "8c46fa10",
   "metadata": {},
   "source": [
    "Which is clearly $O(n^2)$ Quadratic Runtime"
   ]
  },
  {
   "cell_type": "markdown",
   "id": "f118838c",
   "metadata": {},
   "source": [
    "Notice that ..."
   ]
  },
  {
   "cell_type": "code",
   "execution_count": 1466,
   "id": "a6938213",
   "metadata": {},
   "outputs": [
    {
     "data": {
      "text/plain": [
       "sympy.core.numbers.One"
      ]
     },
     "execution_count": 1466,
     "metadata": {},
     "output_type": "execute_result"
    }
   ],
   "source": [
    "type(calculate_p(a_i, b_i))"
   ]
  },
  {
   "cell_type": "code",
   "execution_count": null,
   "id": "dfb1727d",
   "metadata": {},
   "outputs": [],
   "source": []
  },
  {
   "cell_type": "markdown",
   "id": "46df7bb6",
   "metadata": {},
   "source": [
    "#### Example 5"
   ]
  },
  {
   "cell_type": "markdown",
   "id": "d41f313d",
   "metadata": {},
   "source": [
    "The recurrence relation ...\n",
    "\n",
    "$$\n",
    "    T(n) = 2T(n/2) + O(\\sqrt{n})\n",
    "$$\n",
    "\n",
    "... has parameters corresponding to the values below ..."
   ]
  },
  {
   "cell_type": "code",
   "execution_count": 1467,
   "id": "6d5f3382",
   "metadata": {},
   "outputs": [],
   "source": [
    "d = Rational(1/2)\n",
    "a_i = [1]\n",
    "b_i = [2]"
   ]
  },
  {
   "cell_type": "code",
   "execution_count": 1468,
   "id": "16409741",
   "metadata": {},
   "outputs": [
    {
     "data": {
      "text/latex": [
       "$\\displaystyle 0$"
      ],
      "text/plain": [
       "0"
      ]
     },
     "execution_count": 1468,
     "metadata": {},
     "output_type": "execute_result"
    }
   ],
   "source": [
    "calculate_p(a_i, b_i)"
   ]
  },
  {
   "cell_type": "markdown",
   "id": "c2c3189e",
   "metadata": {},
   "source": [
    "... and the corresponding complexity is obtained by computing the integral ...\n",
    "\n",
    "$$\n",
    "    T(n) = n^1 + n^1 \\int_{1}^{n} {\\frac{u^{\\frac{1}{2}}}{u^{1+1}}} du\n",
    "$$"
   ]
  },
  {
   "cell_type": "code",
   "execution_count": 1469,
   "id": "aab6068b",
   "metadata": {},
   "outputs": [
    {
     "data": {
      "text/latex": [
       "$\\displaystyle 2 \\sqrt{n} - 1$"
      ],
      "text/plain": [
       "2*sqrt(n) - 1"
      ]
     },
     "execution_count": 1469,
     "metadata": {},
     "output_type": "execute_result"
    }
   ],
   "source": [
    "calculate_complexity(a_i, b_i, d)"
   ]
  },
  {
   "cell_type": "markdown",
   "id": "abf7ca2d",
   "metadata": {},
   "source": [
    "Which is clearly $O(\\sqrt{n})$ Square-Root Runtime"
   ]
  },
  {
   "cell_type": "markdown",
   "id": "b378b3ef",
   "metadata": {},
   "source": [
    "Notice that ..."
   ]
  },
  {
   "cell_type": "code",
   "execution_count": 1470,
   "id": "2eb76641",
   "metadata": {},
   "outputs": [
    {
     "data": {
      "text/plain": [
       "sympy.core.numbers.Zero"
      ]
     },
     "execution_count": 1470,
     "metadata": {},
     "output_type": "execute_result"
    }
   ],
   "source": [
    "type(calculate_p(a_i, b_i))"
   ]
  },
  {
   "cell_type": "code",
   "execution_count": null,
   "id": "5cce72ec",
   "metadata": {},
   "outputs": [],
   "source": []
  },
  {
   "cell_type": "markdown",
   "id": "585c4996",
   "metadata": {},
   "source": [
    "#### Example 6"
   ]
  },
  {
   "cell_type": "code",
   "execution_count": null,
   "id": "ce48ba6e",
   "metadata": {},
   "outputs": [],
   "source": []
  },
  {
   "cell_type": "markdown",
   "id": "45f1c382",
   "metadata": {},
   "source": [
    "The recurrence relation ...\n",
    "\n",
    "$$\n",
    "    T(n)=4T\\left(\\frac{n}{2}\\right)+n\n",
    "$$\n",
    "\n",
    "... has parameters corresponding to the values below ..."
   ]
  },
  {
   "cell_type": "code",
   "execution_count": 1471,
   "id": "1d76cfda",
   "metadata": {},
   "outputs": [],
   "source": [
    "d = 1\n",
    "a_i = [4]\n",
    "b_i = [2]"
   ]
  },
  {
   "cell_type": "code",
   "execution_count": 1472,
   "id": "4c98f0f7",
   "metadata": {},
   "outputs": [
    {
     "data": {
      "text/latex": [
       "$\\displaystyle 2$"
      ],
      "text/plain": [
       "2"
      ]
     },
     "execution_count": 1472,
     "metadata": {},
     "output_type": "execute_result"
    }
   ],
   "source": [
    "calculate_p(a_i, b_i)"
   ]
  },
  {
   "cell_type": "code",
   "execution_count": 1473,
   "id": "5386a45c",
   "metadata": {},
   "outputs": [
    {
     "data": {
      "text/latex": [
       "$\\displaystyle 2 n^{2} - n$"
      ],
      "text/plain": [
       "2*n**2 - n"
      ]
     },
     "execution_count": 1473,
     "metadata": {},
     "output_type": "execute_result"
    }
   ],
   "source": [
    "calculate_complexity(a_i, b_i, d)"
   ]
  },
  {
   "cell_type": "markdown",
   "id": "1a7f1f77",
   "metadata": {},
   "source": [
    "Which is clearly $O(n^2)$ Quadratic Runtime"
   ]
  },
  {
   "cell_type": "markdown",
   "id": "c227b224",
   "metadata": {},
   "source": [
    "Notice that ..."
   ]
  },
  {
   "cell_type": "code",
   "execution_count": 1474,
   "id": "f8625b66",
   "metadata": {},
   "outputs": [
    {
     "data": {
      "text/plain": [
       "sympy.core.numbers.Integer"
      ]
     },
     "execution_count": 1474,
     "metadata": {},
     "output_type": "execute_result"
    }
   ],
   "source": [
    "type(calculate_p(a_i, b_i))"
   ]
  },
  {
   "cell_type": "code",
   "execution_count": null,
   "id": "f3b8e742",
   "metadata": {},
   "outputs": [],
   "source": []
  },
  {
   "cell_type": "markdown",
   "id": "bddae79b",
   "metadata": {},
   "source": [
    "Example 7"
   ]
  },
  {
   "cell_type": "code",
   "execution_count": 1475,
   "id": "5d9e5779",
   "metadata": {},
   "outputs": [],
   "source": [
    "d = 0\n",
    "a_i = [2]\n",
    "b_i = [4]"
   ]
  },
  {
   "cell_type": "code",
   "execution_count": 1476,
   "id": "7457d1fd",
   "metadata": {},
   "outputs": [
    {
     "data": {
      "text/latex": [
       "$\\displaystyle \\frac{1}{2}$"
      ],
      "text/plain": [
       "1/2"
      ]
     },
     "execution_count": 1476,
     "metadata": {},
     "output_type": "execute_result"
    }
   ],
   "source": [
    "calculate_p(a_i, b_i)"
   ]
  },
  {
   "cell_type": "code",
   "execution_count": 1477,
   "id": "4382c04d",
   "metadata": {},
   "outputs": [
    {
     "data": {
      "text/latex": [
       "$\\displaystyle 3 \\sqrt{n} - 2$"
      ],
      "text/plain": [
       "3*sqrt(n) - 2"
      ]
     },
     "execution_count": 1477,
     "metadata": {},
     "output_type": "execute_result"
    }
   ],
   "source": [
    "calculate_complexity(a_i, b_i, d)"
   ]
  },
  {
   "cell_type": "markdown",
   "id": "83bb9420",
   "metadata": {},
   "source": [
    "Which is clearly $O(\\sqrt{n})$ Square-Root Runtime"
   ]
  },
  {
   "cell_type": "code",
   "execution_count": 1479,
   "id": "1ab4286a",
   "metadata": {},
   "outputs": [
    {
     "data": {
      "text/plain": [
       "sympy.core.numbers.Half"
      ]
     },
     "execution_count": 1479,
     "metadata": {},
     "output_type": "execute_result"
    }
   ],
   "source": [
    "type(calculate_p(a_i, b_i))"
   ]
  },
  {
   "cell_type": "code",
   "execution_count": null,
   "id": "7f669421",
   "metadata": {},
   "outputs": [],
   "source": []
  },
  {
   "cell_type": "markdown",
   "id": "f2259db6",
   "metadata": {},
   "source": [
    "Unfortunately, not all recurrence relations are so simple as the preceding 4 examples.\n",
    "\n",
    "The not-so-simple recurrence relations have very strange results, as we shall explore next ..."
   ]
  },
  {
   "cell_type": "code",
   "execution_count": null,
   "id": "0fd3c0d0",
   "metadata": {},
   "outputs": [],
   "source": []
  },
  {
   "cell_type": "markdown",
   "id": "7200f53b",
   "metadata": {},
   "source": [
    "#### 3.1.2 The Effects of $p$ and $d$"
   ]
  },
  {
   "cell_type": "markdown",
   "id": "cb2c8ff0",
   "metadata": {},
   "source": [
    "There are, as we shall see, two contributing factors, that determine whether an integral expression appears *\"inelegant\"*"
   ]
  },
  {
   "cell_type": "markdown",
   "id": "a132055e",
   "metadata": {},
   "source": [
    "#### Horrible Example 1"
   ]
  },
  {
   "cell_type": "markdown",
   "id": "183df8a3",
   "metadata": {},
   "source": [
    "Certain values of $p$ although calculated analytically, may render the integral difficult to read, depending on its type ..."
   ]
  },
  {
   "cell_type": "code",
   "execution_count": 1494,
   "id": "27859efc",
   "metadata": {},
   "outputs": [],
   "source": [
    "d = 1\n",
    "a_i = [1, 1]\n",
    "b_i = [2, 4]"
   ]
  },
  {
   "cell_type": "code",
   "execution_count": 1495,
   "id": "28385539",
   "metadata": {},
   "outputs": [
    {
     "data": {
      "text/latex": [
       "$\\displaystyle -1 + \\frac{\\log{\\left(1 + \\sqrt{5} \\right)}}{\\log{\\left(2 \\right)}}$"
      ],
      "text/plain": [
       "-1 + log(1 + sqrt(5))/log(2)"
      ]
     },
     "execution_count": 1495,
     "metadata": {},
     "output_type": "execute_result"
    }
   ],
   "source": [
    "calculate_p(a_i, b_i)"
   ]
  },
  {
   "cell_type": "code",
   "execution_count": 1496,
   "id": "498a08b9",
   "metadata": {},
   "outputs": [
    {
     "data": {
      "text/latex": [
       "$\\displaystyle -1 + \\frac{\\log{\\left(1 + \\sqrt{5} \\right)}}{\\log{\\left(2 \\right)}}$"
      ],
      "text/plain": [
       "-1 + log(1 + sqrt(5))/log(2)"
      ]
     },
     "execution_count": 1496,
     "metadata": {},
     "output_type": "execute_result"
    }
   ],
   "source": [
    "# Not much of an effect ...\n",
    "simplify(calculate_p(a_i, b_i))"
   ]
  },
  {
   "cell_type": "code",
   "execution_count": 1497,
   "id": "b5fa3ea8",
   "metadata": {},
   "outputs": [
    {
     "data": {
      "text/latex": [
       "$\\displaystyle \\frac{n^{\\frac{\\log{\\left(1 + \\sqrt{5} \\right)}}{\\log{\\left(2 \\right)}}} \\int\\limits_{1}^{n} \\begin{cases} - \\frac{u \\log{\\left(1 + \\sqrt{5} \\right)} \\Gamma\\left(- \\frac{\\log{\\left(1 + \\sqrt{5} \\right)}}{\\log{\\left(2 \\right)}} + 2\\right)}{u^{\\frac{\\log{\\left(1 + \\sqrt{5} \\right)}}{\\log{\\left(2 \\right)}}} \\log{\\left(2 \\right)} \\Gamma\\left(- \\frac{\\log{\\left(1 + \\sqrt{5} \\right)}}{\\log{\\left(2 \\right)}} + 3\\right)} + \\frac{2 u \\Gamma\\left(- \\frac{\\log{\\left(1 + \\sqrt{5} \\right)}}{\\log{\\left(2 \\right)}} + 2\\right)}{u^{\\frac{\\log{\\left(1 + \\sqrt{5} \\right)}}{\\log{\\left(2 \\right)}}} \\Gamma\\left(- \\frac{\\log{\\left(1 + \\sqrt{5} \\right)}}{\\log{\\left(2 \\right)}} + 3\\right)} & \\text{for}\\: \\frac{1}{u} < 1 \\vee u < 1 \\\\\\frac{{G_{2, 2}^{1, 1}\\left(\\begin{matrix} 0 & - \\frac{\\log{\\left(1 + \\sqrt{5} \\right)}}{\\log{\\left(2 \\right)}} + 3 \\\\- \\frac{\\log{\\left(1 + \\sqrt{5} \\right)}}{\\log{\\left(2 \\right)}} + 2 & 0 \\end{matrix} \\middle| {u} \\right)}}{u} + \\frac{{G_{2, 2}^{0, 2}\\left(\\begin{matrix} - \\frac{\\log{\\left(1 + \\sqrt{5} \\right)}}{\\log{\\left(2 \\right)}} + 2, 1 &  \\\\ & - \\frac{\\log{\\left(1 + \\sqrt{5} \\right)}}{\\log{\\left(2 \\right)}} + 2, 0 \\end{matrix} \\middle| {u} \\right)}}{u} - \\frac{{G_{2, 2}^{0, 2}\\left(\\begin{matrix} - \\frac{\\log{\\left(1 + \\sqrt{5} \\right)}}{\\log{\\left(2 \\right)}} + 3, 1 &  \\\\ & - \\frac{\\log{\\left(1 + \\sqrt{5} \\right)}}{\\log{\\left(2 \\right)}} + 2, 0 \\end{matrix} \\middle| {u} \\right)} \\log{\\left(1 + \\sqrt{5} \\right)}}{u \\log{\\left(2 \\right)}} + \\frac{2 {G_{2, 2}^{0, 2}\\left(\\begin{matrix} - \\frac{\\log{\\left(1 + \\sqrt{5} \\right)}}{\\log{\\left(2 \\right)}} + 3, 1 &  \\\\ & - \\frac{\\log{\\left(1 + \\sqrt{5} \\right)}}{\\log{\\left(2 \\right)}} + 2, 0 \\end{matrix} \\middle| {u} \\right)}}{u} & \\text{otherwise} \\end{cases}\\, du}{n} + \\frac{n^{\\frac{\\log{\\left(1 + \\sqrt{5} \\right)}}{\\log{\\left(2 \\right)}}}}{n}$"
      ],
      "text/plain": [
       "n**(log(1 + sqrt(5))/log(2))*Integral(Piecewise((-u*log(1 + sqrt(5))*gamma(-log(1 + sqrt(5))/log(2) + 2)/(u**(log(1 + sqrt(5))/log(2))*log(2)*gamma(-log(1 + sqrt(5))/log(2) + 3)) + 2*u*gamma(-log(1 + sqrt(5))/log(2) + 2)/(u**(log(1 + sqrt(5))/log(2))*gamma(-log(1 + sqrt(5))/log(2) + 3)), (u < 1) | (1/u < 1)), (meijerg(((0,), (-log(1 + sqrt(5))/log(2) + 3,)), ((-log(1 + sqrt(5))/log(2) + 2,), (0,)), u)/u + meijerg(((-log(1 + sqrt(5))/log(2) + 2, 1), ()), ((), (-log(1 + sqrt(5))/log(2) + 2, 0)), u)/u - meijerg(((-log(1 + sqrt(5))/log(2) + 3, 1), ()), ((), (-log(1 + sqrt(5))/log(2) + 2, 0)), u)*log(1 + sqrt(5))/(u*log(2)) + 2*meijerg(((-log(1 + sqrt(5))/log(2) + 3, 1), ()), ((), (-log(1 + sqrt(5))/log(2) + 2, 0)), u)/u, True)), (u, 1, n))/n + n**(log(1 + sqrt(5))/log(2))/n"
      ]
     },
     "execution_count": 1497,
     "metadata": {},
     "output_type": "execute_result"
    }
   ],
   "source": [
    "calculate_complexity(a_i, b_i, d)"
   ]
  },
  {
   "cell_type": "markdown",
   "id": "c695a56c",
   "metadata": {},
   "source": [
    "There is still an easy work-around for this problem, because we can obtain a numerical value for $p$ much in the same way as we have done before ..."
   ]
  },
  {
   "cell_type": "code",
   "execution_count": 1498,
   "id": "5c9c30f6",
   "metadata": {},
   "outputs": [
    {
     "data": {
      "text/latex": [
       "$\\displaystyle - 2.27055945395966 n^{0.694241913630617} + 3.27055945395966 n^{1.0}$"
      ],
      "text/plain": [
       "-2.27055945395966*n**0.694241913630617 + 3.27055945395966*n**1.0"
      ]
     },
     "execution_count": 1498,
     "metadata": {},
     "output_type": "execute_result"
    }
   ],
   "source": [
    "integral = integrate(u**d / u**(power+1), (u, 1, n))\n",
    "\n",
    "result = expand(n**power + n**power * integral)\n",
    "\n",
    "result"
   ]
  },
  {
   "cell_type": "markdown",
   "id": "ab773d58",
   "metadata": {},
   "source": [
    "We take it that anyone would agree - the above expression is much easier on the eye for deciding that the recurrence relation models a Linear $O(n)$ algorithmic runtime!"
   ]
  },
  {
   "cell_type": "markdown",
   "id": "10d6f4ca",
   "metadata": {},
   "source": [
    "Notice that ..."
   ]
  },
  {
   "cell_type": "code",
   "execution_count": 1488,
   "id": "5f9bb725",
   "metadata": {},
   "outputs": [
    {
     "data": {
      "text/plain": [
       "sympy.core.add.Add"
      ]
     },
     "execution_count": 1488,
     "metadata": {},
     "output_type": "execute_result"
    }
   ],
   "source": [
    "type(calculate_p(a_i, b_i))"
   ]
  },
  {
   "cell_type": "code",
   "execution_count": null,
   "id": "948e52c2",
   "metadata": {},
   "outputs": [],
   "source": []
  },
  {
   "cell_type": "markdown",
   "id": "a7270c96",
   "metadata": {},
   "source": [
    "#### Horrible Example 2"
   ]
  },
  {
   "cell_type": "markdown",
   "id": "5d088091",
   "metadata": {},
   "source": [
    "Certain values of $d$ may render the integral difficult to read, depending on its type ..."
   ]
  },
  {
   "cell_type": "code",
   "execution_count": 1518,
   "id": "3094c17f",
   "metadata": {},
   "outputs": [],
   "source": [
    "d = log(3)/log(2)\n",
    "a_i = [2]\n",
    "b_i = [2]"
   ]
  },
  {
   "cell_type": "markdown",
   "id": "85202584",
   "metadata": {},
   "source": [
    "Notice that ..."
   ]
  },
  {
   "cell_type": "code",
   "execution_count": 1519,
   "id": "92b17763",
   "metadata": {},
   "outputs": [
    {
     "data": {
      "text/plain": [
       "sympy.core.mul.Mul"
      ]
     },
     "execution_count": 1519,
     "metadata": {},
     "output_type": "execute_result"
    }
   ],
   "source": [
    "type(d)"
   ]
  },
  {
   "cell_type": "code",
   "execution_count": 1520,
   "id": "4e064c6a",
   "metadata": {},
   "outputs": [
    {
     "data": {
      "text/latex": [
       "$\\displaystyle 1$"
      ],
      "text/plain": [
       "1"
      ]
     },
     "execution_count": 1520,
     "metadata": {},
     "output_type": "execute_result"
    }
   ],
   "source": [
    "calculate_p(a_i, b_i)"
   ]
  },
  {
   "cell_type": "markdown",
   "id": "8cc007b4",
   "metadata": {},
   "source": [
    "Notice that ..."
   ]
  },
  {
   "cell_type": "code",
   "execution_count": 1521,
   "id": "8f3ce8d2",
   "metadata": {},
   "outputs": [
    {
     "data": {
      "text/plain": [
       "sympy.core.numbers.One"
      ]
     },
     "execution_count": 1521,
     "metadata": {},
     "output_type": "execute_result"
    }
   ],
   "source": [
    "type(calculate_p(a_i, b_i))"
   ]
  },
  {
   "cell_type": "code",
   "execution_count": 1522,
   "id": "5179de89",
   "metadata": {},
   "outputs": [
    {
     "data": {
      "text/latex": [
       "$\\displaystyle \\frac{\\log{\\left(3 \\right)}}{\\log{\\left(2 \\right)}}$"
      ],
      "text/plain": [
       "log(3)/log(2)"
      ]
     },
     "execution_count": 1522,
     "metadata": {},
     "output_type": "execute_result"
    }
   ],
   "source": [
    "# Not much of an effect ...\n",
    "simplify(d)"
   ]
  },
  {
   "cell_type": "markdown",
   "id": "d7338d72",
   "metadata": {},
   "source": [
    "Notice that ..."
   ]
  },
  {
   "cell_type": "code",
   "execution_count": 1523,
   "id": "95491318",
   "metadata": {},
   "outputs": [
    {
     "data": {
      "text/plain": [
       "sympy.core.mul.Mul"
      ]
     },
     "execution_count": 1523,
     "metadata": {},
     "output_type": "execute_result"
    }
   ],
   "source": [
    "type(d)"
   ]
  },
  {
   "cell_type": "code",
   "execution_count": 1524,
   "id": "5352c6b6",
   "metadata": {
    "scrolled": false
   },
   "outputs": [
    {
     "data": {
      "text/latex": [
       "$\\displaystyle n \\int\\limits_{1}^{n} \\begin{cases} - \\frac{u^{\\frac{\\log{\\left(3 \\right)}}{\\log{\\left(2 \\right)}}} \\Gamma\\left(-1 + \\frac{\\log{\\left(3 \\right)}}{\\log{\\left(2 \\right)}}\\right)}{u^{2} \\Gamma\\left(\\frac{\\log{\\left(3 \\right)}}{\\log{\\left(2 \\right)}}\\right)} + \\frac{u^{\\frac{\\log{\\left(3 \\right)}}{\\log{\\left(2 \\right)}}} \\log{\\left(3 \\right)} \\Gamma\\left(-1 + \\frac{\\log{\\left(3 \\right)}}{\\log{\\left(2 \\right)}}\\right)}{u^{2} \\log{\\left(2 \\right)} \\Gamma\\left(\\frac{\\log{\\left(3 \\right)}}{\\log{\\left(2 \\right)}}\\right)} & \\text{for}\\: \\frac{1}{u} < 1 \\vee u < 1 \\\\\\frac{{G_{2, 2}^{1, 1}\\left(\\begin{matrix} 0 & \\frac{\\log{\\left(3 \\right)}}{\\log{\\left(2 \\right)}} \\\\-1 + \\frac{\\log{\\left(3 \\right)}}{\\log{\\left(2 \\right)}} & 0 \\end{matrix} \\middle| {u} \\right)}}{u} - \\frac{{G_{2, 2}^{0, 2}\\left(\\begin{matrix} \\frac{\\log{\\left(3 \\right)}}{\\log{\\left(2 \\right)}}, 1 &  \\\\ & -1 + \\frac{\\log{\\left(3 \\right)}}{\\log{\\left(2 \\right)}}, 0 \\end{matrix} \\middle| {u} \\right)}}{u} + \\frac{{G_{2, 2}^{0, 2}\\left(\\begin{matrix} \\frac{\\log{\\left(3 \\right)}}{\\log{\\left(2 \\right)}}, 1 &  \\\\ & -1 + \\frac{\\log{\\left(3 \\right)}}{\\log{\\left(2 \\right)}}, 0 \\end{matrix} \\middle| {u} \\right)} \\log{\\left(3 \\right)}}{u \\log{\\left(2 \\right)}} + \\frac{{G_{2, 2}^{0, 2}\\left(\\begin{matrix} -1 + \\frac{\\log{\\left(3 \\right)}}{\\log{\\left(2 \\right)}}, 1 &  \\\\ & -1 + \\frac{\\log{\\left(3 \\right)}}{\\log{\\left(2 \\right)}}, 0 \\end{matrix} \\middle| {u} \\right)}}{u} & \\text{otherwise} \\end{cases}\\, du + n$"
      ],
      "text/plain": [
       "n*Integral(Piecewise((-u**(log(3)/log(2))*gamma(-1 + log(3)/log(2))/(u**2*gamma(log(3)/log(2))) + u**(log(3)/log(2))*log(3)*gamma(-1 + log(3)/log(2))/(u**2*log(2)*gamma(log(3)/log(2))), (u < 1) | (1/u < 1)), (meijerg(((0,), (log(3)/log(2),)), ((-1 + log(3)/log(2),), (0,)), u)/u - meijerg(((log(3)/log(2), 1), ()), ((), (-1 + log(3)/log(2), 0)), u)/u + meijerg(((log(3)/log(2), 1), ()), ((), (-1 + log(3)/log(2), 0)), u)*log(3)/(u*log(2)) + meijerg(((-1 + log(3)/log(2), 1), ()), ((), (-1 + log(3)/log(2), 0)), u)/u, True)), (u, 1, n)) + n"
      ]
     },
     "execution_count": 1524,
     "metadata": {},
     "output_type": "execute_result"
    }
   ],
   "source": [
    "calculate_complexity(a_i, b_i, d)"
   ]
  },
  {
   "cell_type": "markdown",
   "id": "dffd1af6",
   "metadata": {},
   "source": [
    "Again, a numerical approach will work ..."
   ]
  },
  {
   "cell_type": "code",
   "execution_count": 1525,
   "id": "2b0f4a65",
   "metadata": {},
   "outputs": [
    {
     "data": {
      "text/latex": [
       "$\\displaystyle 1.58496250072116$"
      ],
      "text/plain": [
       "1.58496250072116"
      ]
     },
     "execution_count": 1525,
     "metadata": {},
     "output_type": "execute_result"
    }
   ],
   "source": [
    "d = N(d)\n",
    "d"
   ]
  },
  {
   "cell_type": "code",
   "execution_count": 1526,
   "id": "4a2a870c",
   "metadata": {},
   "outputs": [
    {
     "data": {
      "text/latex": [
       "$\\displaystyle - 0.122686524251576 n^{0.694241913630617} + 1.12268652425158 n^{1.58496250072116}$"
      ],
      "text/plain": [
       "-0.122686524251576*n**0.694241913630617 + 1.12268652425158*n**1.58496250072116"
      ]
     },
     "execution_count": 1526,
     "metadata": {},
     "output_type": "execute_result"
    }
   ],
   "source": [
    "integral = integrate(u**d / u**(power+1), (u, 1, n))\n",
    "\n",
    "result = expand(n**power + n**power * integral)\n",
    "\n",
    "result"
   ]
  },
  {
   "cell_type": "markdown",
   "id": "41026197",
   "metadata": {},
   "source": [
    "The above result is much easier on the eye as the previous integral!"
   ]
  },
  {
   "cell_type": "markdown",
   "id": "69338b09",
   "metadata": {},
   "source": [
    "Notice that ..."
   ]
  },
  {
   "cell_type": "code",
   "execution_count": 1527,
   "id": "f5e49868",
   "metadata": {},
   "outputs": [
    {
     "data": {
      "text/plain": [
       "sympy.core.numbers.Float"
      ]
     },
     "execution_count": 1527,
     "metadata": {},
     "output_type": "execute_result"
    }
   ],
   "source": [
    "type(d)"
   ]
  },
  {
   "cell_type": "markdown",
   "id": "e2c0fe35",
   "metadata": {},
   "source": [
    "The type `sympy.core.mul.Mul` and `sympy.core.add.Add` is clearly different from `sympy.core.numbers.Integer` or `sympy.core.numbers.Half` or `sympy.core.numbers.Zero` or `sympy.core.numbers.One`"
   ]
  },
  {
   "cell_type": "markdown",
   "id": "3c88d333",
   "metadata": {},
   "source": [
    "we will use this distinction of types as a criteria for deciding how the integral should be computed, i.e. numerically or symbolically!"
   ]
  },
  {
   "cell_type": "code",
   "execution_count": null,
   "id": "6a27af2e",
   "metadata": {},
   "outputs": [],
   "source": []
  },
  {
   "cell_type": "markdown",
   "id": "58fe40da",
   "metadata": {},
   "source": [
    "#### Horrible Example 3"
   ]
  },
  {
   "cell_type": "markdown",
   "id": "c4c7cf9b",
   "metadata": {},
   "source": [
    "Any combination of values of $p$ or $d$, may render the integral hard to read, depending on their type ..."
   ]
  },
  {
   "cell_type": "code",
   "execution_count": 1552,
   "id": "f336cf01",
   "metadata": {},
   "outputs": [],
   "source": [
    "d = log(3)/log(2)\n",
    "a_i = [1, 1]\n",
    "b_i = [2, 4]"
   ]
  },
  {
   "cell_type": "code",
   "execution_count": 1553,
   "id": "b074e8c8",
   "metadata": {},
   "outputs": [
    {
     "data": {
      "text/latex": [
       "$\\displaystyle \\frac{\\log{\\left(3 \\right)}}{\\log{\\left(2 \\right)}}$"
      ],
      "text/plain": [
       "log(3)/log(2)"
      ]
     },
     "execution_count": 1553,
     "metadata": {},
     "output_type": "execute_result"
    }
   ],
   "source": [
    "d"
   ]
  },
  {
   "cell_type": "markdown",
   "id": "2ff20193",
   "metadata": {},
   "source": [
    "Notice that ..."
   ]
  },
  {
   "cell_type": "code",
   "execution_count": 1554,
   "id": "435f1207",
   "metadata": {},
   "outputs": [
    {
     "data": {
      "text/plain": [
       "sympy.core.mul.Mul"
      ]
     },
     "execution_count": 1554,
     "metadata": {},
     "output_type": "execute_result"
    }
   ],
   "source": [
    "type(d)"
   ]
  },
  {
   "cell_type": "code",
   "execution_count": 1555,
   "id": "83bfa563",
   "metadata": {},
   "outputs": [
    {
     "data": {
      "text/latex": [
       "$\\displaystyle \\frac{\\log{\\left(3 \\right)}}{\\log{\\left(2 \\right)}}$"
      ],
      "text/plain": [
       "log(3)/log(2)"
      ]
     },
     "execution_count": 1555,
     "metadata": {},
     "output_type": "execute_result"
    }
   ],
   "source": [
    "simplify(d)"
   ]
  },
  {
   "cell_type": "code",
   "execution_count": 1534,
   "id": "52c4caf4",
   "metadata": {},
   "outputs": [
    {
     "data": {
      "text/plain": [
       "sympy.core.mul.Mul"
      ]
     },
     "execution_count": 1534,
     "metadata": {},
     "output_type": "execute_result"
    }
   ],
   "source": [
    "type(simplify(d))"
   ]
  },
  {
   "cell_type": "code",
   "execution_count": 1535,
   "id": "1c411761",
   "metadata": {},
   "outputs": [
    {
     "data": {
      "text/latex": [
       "$\\displaystyle -1 + \\frac{\\log{\\left(1 + \\sqrt{5} \\right)}}{\\log{\\left(2 \\right)}}$"
      ],
      "text/plain": [
       "-1 + log(1 + sqrt(5))/log(2)"
      ]
     },
     "execution_count": 1535,
     "metadata": {},
     "output_type": "execute_result"
    }
   ],
   "source": [
    "calculate_p(a_i, b_i)"
   ]
  },
  {
   "cell_type": "code",
   "execution_count": 1536,
   "id": "3f18b8f2",
   "metadata": {},
   "outputs": [
    {
     "data": {
      "text/plain": [
       "sympy.core.add.Add"
      ]
     },
     "execution_count": 1536,
     "metadata": {},
     "output_type": "execute_result"
    }
   ],
   "source": [
    "type(calculate_p(a_i, b_i))"
   ]
  },
  {
   "cell_type": "code",
   "execution_count": 1537,
   "id": "086dcbb8",
   "metadata": {
    "scrolled": true
   },
   "outputs": [
    {
     "data": {
      "text/latex": [
       "$\\displaystyle \\frac{n^{\\frac{\\log{\\left(1 + \\sqrt{5} \\right)}}{\\log{\\left(2 \\right)}}} \\int\\limits_{1}^{n} \\begin{cases} - \\frac{u^{\\frac{\\log{\\left(6 \\right)}}{\\log{\\left(2 \\right)}}} \\log{\\left(1 + \\sqrt{5} \\right)} \\Gamma\\left(- \\frac{\\log{\\left(1 + \\sqrt{5} \\right)}}{\\log{\\left(2 \\right)}} + 1 + \\frac{\\log{\\left(3 \\right)}}{\\log{\\left(2 \\right)}}\\right)}{u u^{\\frac{\\log{\\left(1 + \\sqrt{5} \\right)}}{\\log{\\left(2 \\right)}}} \\log{\\left(2 \\right)} \\Gamma\\left(- \\frac{\\log{\\left(1 + \\sqrt{5} \\right)}}{\\log{\\left(2 \\right)}} + \\frac{\\log{\\left(3 \\right)}}{\\log{\\left(2 \\right)}} + 2\\right)} + \\frac{u^{\\frac{\\log{\\left(6 \\right)}}{\\log{\\left(2 \\right)}}} \\log{\\left(6 \\right)} \\Gamma\\left(- \\frac{\\log{\\left(1 + \\sqrt{5} \\right)}}{\\log{\\left(2 \\right)}} + 1 + \\frac{\\log{\\left(3 \\right)}}{\\log{\\left(2 \\right)}}\\right)}{u u^{\\frac{\\log{\\left(1 + \\sqrt{5} \\right)}}{\\log{\\left(2 \\right)}}} \\log{\\left(2 \\right)} \\Gamma\\left(- \\frac{\\log{\\left(1 + \\sqrt{5} \\right)}}{\\log{\\left(2 \\right)}} + \\frac{\\log{\\left(3 \\right)}}{\\log{\\left(2 \\right)}} + 2\\right)} & \\text{for}\\: \\frac{1}{u} < 1 \\vee u < 1 \\\\\\frac{{G_{2, 2}^{1, 1}\\left(\\begin{matrix} 0 & - \\frac{\\log{\\left(1 + \\sqrt{5} \\right)}}{\\log{\\left(2 \\right)}} + \\frac{\\log{\\left(3 \\right)}}{\\log{\\left(2 \\right)}} + 2 \\\\- \\frac{\\log{\\left(1 + \\sqrt{5} \\right)}}{\\log{\\left(2 \\right)}} + 1 + \\frac{\\log{\\left(3 \\right)}}{\\log{\\left(2 \\right)}} & 0 \\end{matrix} \\middle| {u} \\right)}}{u} + \\frac{{G_{2, 2}^{0, 2}\\left(\\begin{matrix} - \\frac{\\log{\\left(1 + \\sqrt{5} \\right)}}{\\log{\\left(2 \\right)}} + 1 + \\frac{\\log{\\left(3 \\right)}}{\\log{\\left(2 \\right)}}, 1 &  \\\\ & - \\frac{\\log{\\left(1 + \\sqrt{5} \\right)}}{\\log{\\left(2 \\right)}} + 1 + \\frac{\\log{\\left(3 \\right)}}{\\log{\\left(2 \\right)}}, 0 \\end{matrix} \\middle| {u} \\right)}}{u} - \\frac{{G_{2, 2}^{0, 2}\\left(\\begin{matrix} - \\frac{\\log{\\left(1 + \\sqrt{5} \\right)}}{\\log{\\left(2 \\right)}} + \\frac{\\log{\\left(3 \\right)}}{\\log{\\left(2 \\right)}} + 2, 1 &  \\\\ & - \\frac{\\log{\\left(1 + \\sqrt{5} \\right)}}{\\log{\\left(2 \\right)}} + 1 + \\frac{\\log{\\left(3 \\right)}}{\\log{\\left(2 \\right)}}, 0 \\end{matrix} \\middle| {u} \\right)} \\log{\\left(1 + \\sqrt{5} \\right)}}{u \\log{\\left(2 \\right)}} + \\frac{{G_{2, 2}^{0, 2}\\left(\\begin{matrix} - \\frac{\\log{\\left(1 + \\sqrt{5} \\right)}}{\\log{\\left(2 \\right)}} + \\frac{\\log{\\left(3 \\right)}}{\\log{\\left(2 \\right)}} + 2, 1 &  \\\\ & - \\frac{\\log{\\left(1 + \\sqrt{5} \\right)}}{\\log{\\left(2 \\right)}} + 1 + \\frac{\\log{\\left(3 \\right)}}{\\log{\\left(2 \\right)}}, 0 \\end{matrix} \\middle| {u} \\right)}}{u} + \\frac{{G_{2, 2}^{0, 2}\\left(\\begin{matrix} - \\frac{\\log{\\left(1 + \\sqrt{5} \\right)}}{\\log{\\left(2 \\right)}} + \\frac{\\log{\\left(3 \\right)}}{\\log{\\left(2 \\right)}} + 2, 1 &  \\\\ & - \\frac{\\log{\\left(1 + \\sqrt{5} \\right)}}{\\log{\\left(2 \\right)}} + 1 + \\frac{\\log{\\left(3 \\right)}}{\\log{\\left(2 \\right)}}, 0 \\end{matrix} \\middle| {u} \\right)} \\log{\\left(3 \\right)}}{u \\log{\\left(2 \\right)}} & \\text{otherwise} \\end{cases}\\, du}{n} + \\frac{n^{\\frac{\\log{\\left(1 + \\sqrt{5} \\right)}}{\\log{\\left(2 \\right)}}}}{n}$"
      ],
      "text/plain": [
       "n**(log(1 + sqrt(5))/log(2))*Integral(Piecewise((-u**(log(6)/log(2))*log(1 + sqrt(5))*gamma(-log(1 + sqrt(5))/log(2) + 1 + log(3)/log(2))/(u*u**(log(1 + sqrt(5))/log(2))*log(2)*gamma(-log(1 + sqrt(5))/log(2) + log(3)/log(2) + 2)) + u**(log(6)/log(2))*log(6)*gamma(-log(1 + sqrt(5))/log(2) + 1 + log(3)/log(2))/(u*u**(log(1 + sqrt(5))/log(2))*log(2)*gamma(-log(1 + sqrt(5))/log(2) + log(3)/log(2) + 2)), (u < 1) | (1/u < 1)), (meijerg(((0,), (-log(1 + sqrt(5))/log(2) + log(3)/log(2) + 2,)), ((-log(1 + sqrt(5))/log(2) + 1 + log(3)/log(2),), (0,)), u)/u + meijerg(((-log(1 + sqrt(5))/log(2) + 1 + log(3)/log(2), 1), ()), ((), (-log(1 + sqrt(5))/log(2) + 1 + log(3)/log(2), 0)), u)/u - meijerg(((-log(1 + sqrt(5))/log(2) + log(3)/log(2) + 2, 1), ()), ((), (-log(1 + sqrt(5))/log(2) + 1 + log(3)/log(2), 0)), u)*log(1 + sqrt(5))/(u*log(2)) + meijerg(((-log(1 + sqrt(5))/log(2) + log(3)/log(2) + 2, 1), ()), ((), (-log(1 + sqrt(5))/log(2) + 1 + log(3)/log(2), 0)), u)/u + meijerg(((-log(1 + sqrt(5))/log(2) + log(3)/log(2) + 2, 1), ()), ((), (-log(1 + sqrt(5))/log(2) + 1 + log(3)/log(2), 0)), u)*log(3)/(u*log(2)), True)), (u, 1, n))/n + n**(log(1 + sqrt(5))/log(2))/n"
      ]
     },
     "execution_count": 1537,
     "metadata": {},
     "output_type": "execute_result"
    }
   ],
   "source": [
    "calculate_complexity(a_i, b_i, d)"
   ]
  },
  {
   "cell_type": "markdown",
   "id": "d848dad8",
   "metadata": {},
   "source": [
    "Both $d$ and $p$ are the reason that the above integral is difficult to read!"
   ]
  },
  {
   "cell_type": "code",
   "execution_count": 1538,
   "id": "0e65614c",
   "metadata": {},
   "outputs": [
    {
     "data": {
      "text/latex": [
       "$\\displaystyle 1.58496250072116$"
      ],
      "text/plain": [
       "1.58496250072116"
      ]
     },
     "execution_count": 1538,
     "metadata": {},
     "output_type": "execute_result"
    }
   ],
   "source": [
    "d = N(d)\n",
    "d"
   ]
  },
  {
   "cell_type": "code",
   "execution_count": 1540,
   "id": "ab80b274",
   "metadata": {},
   "outputs": [
    {
     "data": {
      "text/plain": [
       "sympy.core.numbers.Float"
      ]
     },
     "execution_count": 1540,
     "metadata": {},
     "output_type": "execute_result"
    }
   ],
   "source": [
    "type(d)"
   ]
  },
  {
   "cell_type": "code",
   "execution_count": 1541,
   "id": "118aab59",
   "metadata": {},
   "outputs": [
    {
     "data": {
      "text/latex": [
       "$\\displaystyle 0.694241913630617$"
      ],
      "text/plain": [
       "0.694241913630617"
      ]
     },
     "execution_count": 1541,
     "metadata": {},
     "output_type": "execute_result"
    }
   ],
   "source": [
    "power = N(calculate_p(a_i, b_i))\n",
    "power"
   ]
  },
  {
   "cell_type": "code",
   "execution_count": 1542,
   "id": "621694fc",
   "metadata": {},
   "outputs": [
    {
     "data": {
      "text/plain": [
       "sympy.core.numbers.Float"
      ]
     },
     "execution_count": 1542,
     "metadata": {},
     "output_type": "execute_result"
    }
   ],
   "source": [
    "type(power)"
   ]
  },
  {
   "cell_type": "code",
   "execution_count": 1543,
   "id": "42309254",
   "metadata": {},
   "outputs": [
    {
     "data": {
      "text/latex": [
       "$\\displaystyle - 0.122686524251576 n^{0.694241913630617} + 1.12268652425158 n^{1.58496250072116}$"
      ],
      "text/plain": [
       "-0.122686524251576*n**0.694241913630617 + 1.12268652425158*n**1.58496250072116"
      ]
     },
     "execution_count": 1543,
     "metadata": {},
     "output_type": "execute_result"
    }
   ],
   "source": [
    "integral = integrate(u**d / u**(power+1), (u, 1, n))\n",
    "\n",
    "result = expand(n**power + n**power * integral)\n",
    "\n",
    "result"
   ]
  },
  {
   "cell_type": "code",
   "execution_count": null,
   "id": "85e374aa",
   "metadata": {},
   "outputs": [],
   "source": []
  },
  {
   "cell_type": "markdown",
   "id": "a9d02af1",
   "metadata": {},
   "source": [
    "#### 3.1.3 Refining the Akar-Bazzi Calculator for $p$ and $d$"
   ]
  },
  {
   "cell_type": "markdown",
   "id": "1ca649ed",
   "metadata": {},
   "source": [
    "What we would like to achieve is to avoid obtaining complex and unreadable integral expressions as seen in the previous examples ..."
   ]
  },
  {
   "cell_type": "markdown",
   "id": "2bb0b9cb",
   "metadata": {},
   "source": [
    "In the previous subsection we observed that:"
   ]
  },
  {
   "cell_type": "markdown",
   "id": "36a8c721",
   "metadata": {},
   "source": [
    "The integral result will be *elegant* if the type of $p$ and $d$ are not any of ...\n",
    "\n",
    "1. `sympy.core.mul.Mul`\n",
    "\n",
    "or\n",
    "\n",
    "2. `sympy.core.add.Add`"
   ]
  },
  {
   "cell_type": "code",
   "execution_count": null,
   "id": "b9b403b1",
   "metadata": {},
   "outputs": [],
   "source": []
  },
  {
   "cell_type": "markdown",
   "id": "e4e5eed4",
   "metadata": {},
   "source": [
    "So we do a test/check based on the *type* of the expression for $p$ using `==` and cast the result to a numerical value if necessary ..."
   ]
  },
  {
   "cell_type": "code",
   "execution_count": 1545,
   "id": "1e053cfc",
   "metadata": {},
   "outputs": [
    {
     "data": {
      "text/plain": [
       "int"
      ]
     },
     "execution_count": 1545,
     "metadata": {},
     "output_type": "execute_result"
    }
   ],
   "source": [
    "type(1)"
   ]
  },
  {
   "cell_type": "code",
   "execution_count": 1546,
   "id": "4908a4de",
   "metadata": {},
   "outputs": [
    {
     "data": {
      "text/plain": [
       "log"
      ]
     },
     "execution_count": 1546,
     "metadata": {},
     "output_type": "execute_result"
    }
   ],
   "source": [
    "type(log(2))"
   ]
  },
  {
   "cell_type": "code",
   "execution_count": 1547,
   "id": "2382cb5b",
   "metadata": {},
   "outputs": [
    {
     "data": {
      "text/plain": [
       "sympy.core.mul.Mul"
      ]
     },
     "execution_count": 1547,
     "metadata": {},
     "output_type": "execute_result"
    }
   ],
   "source": [
    "type(2*log(2))"
   ]
  },
  {
   "cell_type": "code",
   "execution_count": 1548,
   "id": "bd3fabc3",
   "metadata": {},
   "outputs": [
    {
     "data": {
      "text/plain": [
       "sympy.core.mul.Mul"
      ]
     },
     "execution_count": 1548,
     "metadata": {},
     "output_type": "execute_result"
    }
   ],
   "source": [
    "type(log(2)/log(3))"
   ]
  },
  {
   "cell_type": "code",
   "execution_count": 1551,
   "id": "506c0c75",
   "metadata": {},
   "outputs": [
    {
     "data": {
      "text/plain": [
       "float"
      ]
     },
     "execution_count": 1551,
     "metadata": {},
     "output_type": "execute_result"
    }
   ],
   "source": [
    "type(3/2)"
   ]
  },
  {
   "cell_type": "code",
   "execution_count": 570,
   "id": "86708b30",
   "metadata": {},
   "outputs": [
    {
     "data": {
      "text/plain": [
       "sympy.core.numbers.RationalConstant"
      ]
     },
     "execution_count": 570,
     "metadata": {},
     "output_type": "execute_result"
    }
   ],
   "source": [
    "type(Rational(1/2))"
   ]
  },
  {
   "cell_type": "code",
   "execution_count": 1558,
   "id": "3e937d5a",
   "metadata": {},
   "outputs": [
    {
     "data": {
      "text/plain": [
       "sympy.core.add.Add"
      ]
     },
     "execution_count": 1558,
     "metadata": {},
     "output_type": "execute_result"
    }
   ],
   "source": [
    "type(-1 + log(1+sqrt(5))/log(2))"
   ]
  },
  {
   "cell_type": "code",
   "execution_count": 1563,
   "id": "b0d9412a",
   "metadata": {},
   "outputs": [
    {
     "data": {
      "text/plain": [
       "sympy.core.add.Add"
      ]
     },
     "execution_count": 1563,
     "metadata": {},
     "output_type": "execute_result"
    }
   ],
   "source": [
    "type(1+log(2))"
   ]
  },
  {
   "cell_type": "code",
   "execution_count": null,
   "id": "02478bb2",
   "metadata": {},
   "outputs": [],
   "source": []
  },
  {
   "cell_type": "code",
   "execution_count": 1564,
   "id": "b7bd675a",
   "metadata": {},
   "outputs": [],
   "source": [
    "def calculate_complexity(array_a_i, array_b_i, d):\n",
    "    \n",
    "    n = Symbol('n', positive=True, finite=True, integer=True)\n",
    "    u = Symbol('u')\n",
    "    \n",
    "    power = calculate_p(array_a_i, array_b_i)\n",
    "    \n",
    "    # test for base type of p\n",
    "    if (\n",
    "            type(power) == type(log(2)/log(3))\n",
    "            or\n",
    "            type(power) == type(1+log(2))\n",
    "       ):\n",
    "        \n",
    "        ##`sympy.core.numbers.RationalConstant`\n",
    "        print(\"Symbolic Integral Unsatisfactory - convert p to numerical value\")\n",
    "        power = N(power) # cast p to numerical value\n",
    "\n",
    "    integral = integrate(u**d / u**(power+1), (u, 1, n))\n",
    "\n",
    "    result = expand(n**power + n**power * integral)\n",
    "    \n",
    "    return result"
   ]
  },
  {
   "cell_type": "code",
   "execution_count": null,
   "id": "2466462c",
   "metadata": {},
   "outputs": [],
   "source": []
  },
  {
   "cell_type": "markdown",
   "id": "09cf2f01",
   "metadata": {},
   "source": [
    "#### Example 1"
   ]
  },
  {
   "cell_type": "code",
   "execution_count": 1565,
   "id": "bef372bf",
   "metadata": {},
   "outputs": [],
   "source": [
    "d = 1\n",
    "a_i = [4]\n",
    "b_i = [2]"
   ]
  },
  {
   "cell_type": "code",
   "execution_count": 1566,
   "id": "00c2544f",
   "metadata": {},
   "outputs": [
    {
     "data": {
      "text/latex": [
       "$\\displaystyle 2$"
      ],
      "text/plain": [
       "2"
      ]
     },
     "execution_count": 1566,
     "metadata": {},
     "output_type": "execute_result"
    }
   ],
   "source": [
    "power = calculate_p(a_i, b_i)\n",
    "power"
   ]
  },
  {
   "cell_type": "code",
   "execution_count": 1568,
   "id": "3eb84921",
   "metadata": {},
   "outputs": [
    {
     "data": {
      "text/plain": [
       "sympy.core.numbers.Integer"
      ]
     },
     "execution_count": 1568,
     "metadata": {},
     "output_type": "execute_result"
    }
   ],
   "source": [
    "type(calculate_p(a_i, b_i))"
   ]
  },
  {
   "cell_type": "code",
   "execution_count": 1569,
   "id": "a87de9f5",
   "metadata": {},
   "outputs": [
    {
     "data": {
      "text/plain": [
       "int"
      ]
     },
     "execution_count": 1569,
     "metadata": {},
     "output_type": "execute_result"
    }
   ],
   "source": [
    "type(d)"
   ]
  },
  {
   "cell_type": "code",
   "execution_count": 1570,
   "id": "d3f716d2",
   "metadata": {},
   "outputs": [
    {
     "data": {
      "text/latex": [
       "$\\displaystyle 2 n^{2} - n$"
      ],
      "text/plain": [
       "2*n**2 - n"
      ]
     },
     "execution_count": 1570,
     "metadata": {},
     "output_type": "execute_result"
    }
   ],
   "source": [
    "calculate_complexity(a_i, b_i, d)"
   ]
  },
  {
   "cell_type": "code",
   "execution_count": 1571,
   "id": "4746f2be",
   "metadata": {},
   "outputs": [
    {
     "data": {
      "text/plain": [
       "False"
      ]
     },
     "execution_count": 1571,
     "metadata": {},
     "output_type": "execute_result"
    }
   ],
   "source": [
    "type(1+log(2))"
   ]
  },
  {
   "cell_type": "code",
   "execution_count": 1572,
   "id": "396a7a6b",
   "metadata": {},
   "outputs": [
    {
     "data": {
      "text/plain": [
       "False"
      ]
     },
     "execution_count": 1572,
     "metadata": {},
     "output_type": "execute_result"
    }
   ],
   "source": [
    "type(power) == type(log(2)/log(3)) or type(power) == type(1+log(2))"
   ]
  },
  {
   "cell_type": "markdown",
   "id": "4471c745",
   "metadata": {},
   "source": [
    "#### Example 2"
   ]
  },
  {
   "cell_type": "code",
   "execution_count": 1573,
   "id": "becc6469",
   "metadata": {},
   "outputs": [],
   "source": [
    "d = 1\n",
    "a_i = [2]\n",
    "b_i = [2]"
   ]
  },
  {
   "cell_type": "code",
   "execution_count": 1574,
   "id": "fd649333",
   "metadata": {},
   "outputs": [
    {
     "data": {
      "text/latex": [
       "$\\displaystyle 1$"
      ],
      "text/plain": [
       "1"
      ]
     },
     "execution_count": 1574,
     "metadata": {},
     "output_type": "execute_result"
    }
   ],
   "source": [
    "power = calculate_p(a_i,b_i)\n",
    "power"
   ]
  },
  {
   "cell_type": "code",
   "execution_count": 1575,
   "id": "aa84918c",
   "metadata": {},
   "outputs": [
    {
     "data": {
      "text/plain": [
       "sympy.core.numbers.One"
      ]
     },
     "execution_count": 1575,
     "metadata": {},
     "output_type": "execute_result"
    }
   ],
   "source": [
    "type(calculate_p(a_i, b_i))"
   ]
  },
  {
   "cell_type": "code",
   "execution_count": 1576,
   "id": "30cfcba2",
   "metadata": {},
   "outputs": [
    {
     "data": {
      "text/plain": [
       "int"
      ]
     },
     "execution_count": 1576,
     "metadata": {},
     "output_type": "execute_result"
    }
   ],
   "source": [
    "type(d)"
   ]
  },
  {
   "cell_type": "code",
   "execution_count": 1577,
   "id": "314336a7",
   "metadata": {},
   "outputs": [
    {
     "data": {
      "text/latex": [
       "$\\displaystyle n \\log{\\left(n \\right)} + n$"
      ],
      "text/plain": [
       "n*log(n) + n"
      ]
     },
     "execution_count": 1577,
     "metadata": {},
     "output_type": "execute_result"
    }
   ],
   "source": [
    "calculate_complexity(a_i, b_i, d)"
   ]
  },
  {
   "cell_type": "code",
   "execution_count": 1578,
   "id": "8552cb0e",
   "metadata": {},
   "outputs": [
    {
     "data": {
      "text/plain": [
       "False"
      ]
     },
     "execution_count": 1578,
     "metadata": {},
     "output_type": "execute_result"
    }
   ],
   "source": [
    "type(power) == type(log(2)/log(3)) or type(power) == type(1+log(2))"
   ]
  },
  {
   "cell_type": "code",
   "execution_count": null,
   "id": "0da8e3fc",
   "metadata": {},
   "outputs": [],
   "source": []
  },
  {
   "cell_type": "markdown",
   "id": "baff3e8f",
   "metadata": {},
   "source": [
    "#### Example 3"
   ]
  },
  {
   "cell_type": "code",
   "execution_count": 1579,
   "id": "198b3d82",
   "metadata": {},
   "outputs": [],
   "source": [
    "d = 1\n",
    "a_i = [1]\n",
    "b_i = [2]"
   ]
  },
  {
   "cell_type": "code",
   "execution_count": 1580,
   "id": "2f04fb37",
   "metadata": {},
   "outputs": [
    {
     "data": {
      "text/latex": [
       "$\\displaystyle 0$"
      ],
      "text/plain": [
       "0"
      ]
     },
     "execution_count": 1580,
     "metadata": {},
     "output_type": "execute_result"
    }
   ],
   "source": [
    "power = calculate_p(a_i, b_i)\n",
    "power"
   ]
  },
  {
   "cell_type": "code",
   "execution_count": 1582,
   "id": "908be8fd",
   "metadata": {},
   "outputs": [
    {
     "data": {
      "text/plain": [
       "sympy.core.numbers.Zero"
      ]
     },
     "execution_count": 1582,
     "metadata": {},
     "output_type": "execute_result"
    }
   ],
   "source": [
    "type(calculate_p(a_i, b_i))"
   ]
  },
  {
   "cell_type": "code",
   "execution_count": 1584,
   "id": "64515b8f",
   "metadata": {},
   "outputs": [
    {
     "data": {
      "text/plain": [
       "int"
      ]
     },
     "execution_count": 1584,
     "metadata": {},
     "output_type": "execute_result"
    }
   ],
   "source": [
    "type(d)"
   ]
  },
  {
   "cell_type": "code",
   "execution_count": 1585,
   "id": "6718d991",
   "metadata": {},
   "outputs": [
    {
     "data": {
      "text/latex": [
       "$\\displaystyle n$"
      ],
      "text/plain": [
       "n"
      ]
     },
     "execution_count": 1585,
     "metadata": {},
     "output_type": "execute_result"
    }
   ],
   "source": [
    "calculate_complexity(a_i, b_i, d)"
   ]
  },
  {
   "cell_type": "code",
   "execution_count": 1586,
   "id": "8b80bfd5",
   "metadata": {},
   "outputs": [
    {
     "data": {
      "text/plain": [
       "False"
      ]
     },
     "execution_count": 1586,
     "metadata": {},
     "output_type": "execute_result"
    }
   ],
   "source": [
    "type(power) == type(log(2)/log(3)) or type(power) == type(1+log(2))"
   ]
  },
  {
   "cell_type": "code",
   "execution_count": null,
   "id": "7a832c59",
   "metadata": {},
   "outputs": [],
   "source": []
  },
  {
   "cell_type": "markdown",
   "id": "d4883f52",
   "metadata": {},
   "source": [
    "#### Example 4"
   ]
  },
  {
   "cell_type": "code",
   "execution_count": 1587,
   "id": "8780221f",
   "metadata": {},
   "outputs": [],
   "source": [
    "d = 1\n",
    "a_i = [2]\n",
    "b_i = [4]"
   ]
  },
  {
   "cell_type": "code",
   "execution_count": 1588,
   "id": "f824eacc",
   "metadata": {},
   "outputs": [
    {
     "data": {
      "text/latex": [
       "$\\displaystyle \\frac{1}{2}$"
      ],
      "text/plain": [
       "1/2"
      ]
     },
     "execution_count": 1588,
     "metadata": {},
     "output_type": "execute_result"
    }
   ],
   "source": [
    "power = calculate_p(a_i, b_i)\n",
    "power"
   ]
  },
  {
   "cell_type": "code",
   "execution_count": 1589,
   "id": "154cee3f",
   "metadata": {},
   "outputs": [
    {
     "data": {
      "text/plain": [
       "sympy.core.numbers.Half"
      ]
     },
     "execution_count": 1589,
     "metadata": {},
     "output_type": "execute_result"
    }
   ],
   "source": [
    "type(calculate_p(a_i, b_i))"
   ]
  },
  {
   "cell_type": "code",
   "execution_count": 1590,
   "id": "3b42f745",
   "metadata": {},
   "outputs": [
    {
     "data": {
      "text/plain": [
       "int"
      ]
     },
     "execution_count": 1590,
     "metadata": {},
     "output_type": "execute_result"
    }
   ],
   "source": [
    "type(d)"
   ]
  },
  {
   "cell_type": "code",
   "execution_count": 1591,
   "id": "1b1051ea",
   "metadata": {},
   "outputs": [
    {
     "data": {
      "text/latex": [
       "$\\displaystyle - \\sqrt{n} + 2 n$"
      ],
      "text/plain": [
       "-sqrt(n) + 2*n"
      ]
     },
     "execution_count": 1591,
     "metadata": {},
     "output_type": "execute_result"
    }
   ],
   "source": [
    "calculate_complexity(a_i, b_i, d)"
   ]
  },
  {
   "cell_type": "code",
   "execution_count": 1592,
   "id": "7412c601",
   "metadata": {},
   "outputs": [
    {
     "data": {
      "text/plain": [
       "False"
      ]
     },
     "execution_count": 1592,
     "metadata": {},
     "output_type": "execute_result"
    }
   ],
   "source": [
    "type(power) == type(log(2)/log(3)) or type(power) == type(1+log(2))"
   ]
  },
  {
   "cell_type": "code",
   "execution_count": null,
   "id": "590e4021",
   "metadata": {},
   "outputs": [],
   "source": []
  },
  {
   "cell_type": "markdown",
   "id": "d5c14ac6",
   "metadata": {},
   "source": [
    "#### Example 5"
   ]
  },
  {
   "cell_type": "code",
   "execution_count": 1593,
   "id": "e1233b23",
   "metadata": {},
   "outputs": [],
   "source": [
    "d = 1\n",
    "a_i = [1, 1]\n",
    "b_i = [2, 4]"
   ]
  },
  {
   "cell_type": "code",
   "execution_count": 1594,
   "id": "9f97a573",
   "metadata": {
    "scrolled": true
   },
   "outputs": [
    {
     "data": {
      "text/latex": [
       "$\\displaystyle -1 + \\frac{\\log{\\left(1 + \\sqrt{5} \\right)}}{\\log{\\left(2 \\right)}}$"
      ],
      "text/plain": [
       "-1 + log(1 + sqrt(5))/log(2)"
      ]
     },
     "execution_count": 1594,
     "metadata": {},
     "output_type": "execute_result"
    }
   ],
   "source": [
    "power = calculate_p(a_i, b_i)\n",
    "power"
   ]
  },
  {
   "cell_type": "code",
   "execution_count": 1596,
   "id": "7cfea60c",
   "metadata": {},
   "outputs": [
    {
     "data": {
      "text/plain": [
       "sympy.core.add.Add"
      ]
     },
     "execution_count": 1596,
     "metadata": {},
     "output_type": "execute_result"
    }
   ],
   "source": [
    "type(calculate_p(a_i, b_i))"
   ]
  },
  {
   "cell_type": "code",
   "execution_count": 1597,
   "id": "fd0c46b7",
   "metadata": {},
   "outputs": [
    {
     "data": {
      "text/plain": [
       "int"
      ]
     },
     "execution_count": 1597,
     "metadata": {},
     "output_type": "execute_result"
    }
   ],
   "source": [
    "type(d)"
   ]
  },
  {
   "cell_type": "code",
   "execution_count": 1598,
   "id": "1518ae0b",
   "metadata": {},
   "outputs": [
    {
     "name": "stdout",
     "output_type": "stream",
     "text": [
      "Symbolic Integral Unsatisfactory - convert p to numerical value\n"
     ]
    },
    {
     "data": {
      "text/latex": [
       "$\\displaystyle - 2.27055945395966 n^{0.694241913630617} + 3.27055945395966 n^{1.0}$"
      ],
      "text/plain": [
       "-2.27055945395966*n**0.694241913630617 + 3.27055945395966*n**1.0"
      ]
     },
     "execution_count": 1598,
     "metadata": {},
     "output_type": "execute_result"
    }
   ],
   "source": [
    "calculate_complexity(a_i, b_i, d)"
   ]
  },
  {
   "cell_type": "code",
   "execution_count": 1599,
   "id": "c518a769",
   "metadata": {},
   "outputs": [
    {
     "data": {
      "text/plain": [
       "True"
      ]
     },
     "execution_count": 1599,
     "metadata": {},
     "output_type": "execute_result"
    }
   ],
   "source": [
    "type(power) == type(log(2)/log(3)) or type(power) == type(1+log(2))"
   ]
  },
  {
   "cell_type": "code",
   "execution_count": null,
   "id": "6fedcd29",
   "metadata": {},
   "outputs": [],
   "source": []
  },
  {
   "cell_type": "markdown",
   "id": "a8545bee",
   "metadata": {},
   "source": [
    "#### Example 6"
   ]
  },
  {
   "cell_type": "code",
   "execution_count": 1600,
   "id": "9eac26a8",
   "metadata": {},
   "outputs": [],
   "source": [
    "d = 1\n",
    "a_i = [2, 1]\n",
    "b_i = [2, 3]"
   ]
  },
  {
   "cell_type": "code",
   "execution_count": 1601,
   "id": "f624aaac",
   "metadata": {
    "scrolled": true
   },
   "outputs": [
    {
     "name": "stdout",
     "output_type": "stream",
     "text": [
      "multiple generators [2**p, 3**p, 6**p]\n",
      "No algorithms are implemented to solve equation -1 + 3**(-p) + 2/2**p\n",
      "Guess: \n",
      "1\n"
     ]
    },
    {
     "data": {
      "text/plain": [
       "1.3646005630226317"
      ]
     },
     "execution_count": 1601,
     "metadata": {},
     "output_type": "execute_result"
    }
   ],
   "source": [
    "power = calculate_p(a_i, b_i)\n",
    "power"
   ]
  },
  {
   "cell_type": "code",
   "execution_count": 1602,
   "id": "84382825",
   "metadata": {
    "scrolled": false
   },
   "outputs": [
    {
     "name": "stdout",
     "output_type": "stream",
     "text": [
      "multiple generators [2**p, 3**p, 6**p]\n",
      "No algorithms are implemented to solve equation -1 + 3**(-p) + 2/2**p\n",
      "Guess: \n",
      "1\n"
     ]
    },
    {
     "data": {
      "text/plain": [
       "numpy.float64"
      ]
     },
     "execution_count": 1602,
     "metadata": {},
     "output_type": "execute_result"
    }
   ],
   "source": [
    "type(calculate_p(a_i, b_i))"
   ]
  },
  {
   "cell_type": "code",
   "execution_count": 1603,
   "id": "b7cd4cc3",
   "metadata": {},
   "outputs": [
    {
     "data": {
      "text/plain": [
       "int"
      ]
     },
     "execution_count": 1603,
     "metadata": {},
     "output_type": "execute_result"
    }
   ],
   "source": [
    "type(d)"
   ]
  },
  {
   "cell_type": "code",
   "execution_count": 1604,
   "id": "3cb3cbf3",
   "metadata": {
    "scrolled": true
   },
   "outputs": [
    {
     "name": "stdout",
     "output_type": "stream",
     "text": [
      "multiple generators [2**p, 3**p, 6**p]\n",
      "No algorithms are implemented to solve equation -1 + 3**(-p) + 2/2**p\n",
      "Guess: \n",
      "1\n"
     ]
    },
    {
     "data": {
      "text/latex": [
       "$\\displaystyle - 2.74272752545894 n^{1.0} + 3.74272752545894 n^{1.36460056302263}$"
      ],
      "text/plain": [
       "-2.74272752545894*n**1.0 + 3.74272752545894*n**1.36460056302263"
      ]
     },
     "execution_count": 1604,
     "metadata": {},
     "output_type": "execute_result"
    }
   ],
   "source": [
    "calculate_complexity(a_i, b_i, d)"
   ]
  },
  {
   "cell_type": "code",
   "execution_count": 1605,
   "id": "18ea6e76",
   "metadata": {},
   "outputs": [
    {
     "data": {
      "text/plain": [
       "False"
      ]
     },
     "execution_count": 1605,
     "metadata": {},
     "output_type": "execute_result"
    }
   ],
   "source": [
    "type(power) == type(log(2)/log(3)) or type(power) == type(1+log(2))"
   ]
  },
  {
   "cell_type": "markdown",
   "id": "fda20e45",
   "metadata": {},
   "source": [
    "Notice that for the given parameters of this problem, it does not matter whether we obtain `true` or `false` for the above boolean expression, since the `calculate_p()` method takes precedence over the \"check\" and therefore, if a numerical value for $p$ was returned by the `calculate_p()` method, then the integral will automatically be computed in a \"numerical\" form!"
   ]
  },
  {
   "cell_type": "code",
   "execution_count": null,
   "id": "5482581f",
   "metadata": {},
   "outputs": [],
   "source": []
  },
  {
   "cell_type": "markdown",
   "id": "b65a4b5a",
   "metadata": {},
   "source": [
    "#### Example 7"
   ]
  },
  {
   "cell_type": "code",
   "execution_count": 1614,
   "id": "1d3106d3",
   "metadata": {},
   "outputs": [],
   "source": [
    "d = 1\n",
    "a_i = [1, 2, 3]\n",
    "b_i = [2, 3, 4]"
   ]
  },
  {
   "cell_type": "code",
   "execution_count": 1615,
   "id": "c7ee290f",
   "metadata": {
    "scrolled": true
   },
   "outputs": [
    {
     "name": "stdout",
     "output_type": "stream",
     "text": [
      "multiple generators [12**p, 24**p, 6**p, 8**p]\n",
      "No algorithms are implemented to solve equation -1 + 3/4**p + 2/3**p + 2**(-p)\n",
      "Guess: \n",
      "2\n"
     ]
    },
    {
     "data": {
      "text/plain": [
       "1.6011213861678517"
      ]
     },
     "execution_count": 1615,
     "metadata": {},
     "output_type": "execute_result"
    }
   ],
   "source": [
    "power = calculate_p(a_i, b_i)\n",
    "power"
   ]
  },
  {
   "cell_type": "code",
   "execution_count": 1616,
   "id": "9c902654",
   "metadata": {},
   "outputs": [
    {
     "name": "stdout",
     "output_type": "stream",
     "text": [
      "multiple generators [12**p, 24**p, 6**p, 8**p]\n",
      "No algorithms are implemented to solve equation -1 + 3/4**p + 2/3**p + 2**(-p)\n",
      "Guess: \n",
      "2\n"
     ]
    },
    {
     "data": {
      "text/plain": [
       "numpy.float64"
      ]
     },
     "execution_count": 1616,
     "metadata": {},
     "output_type": "execute_result"
    }
   ],
   "source": [
    "type(calculate_p(a_i, b_i))"
   ]
  },
  {
   "cell_type": "code",
   "execution_count": 1617,
   "id": "d1e62098",
   "metadata": {},
   "outputs": [
    {
     "data": {
      "text/plain": [
       "int"
      ]
     },
     "execution_count": 1617,
     "metadata": {},
     "output_type": "execute_result"
    }
   ],
   "source": [
    "type(d)"
   ]
  },
  {
   "cell_type": "code",
   "execution_count": 1618,
   "id": "8b7fee3e",
   "metadata": {},
   "outputs": [
    {
     "name": "stdout",
     "output_type": "stream",
     "text": [
      "multiple generators [12**p, 24**p, 6**p, 8**p]\n",
      "No algorithms are implemented to solve equation -1 + 3/4**p + 2/3**p + 2**(-p)\n",
      "Guess: \n",
      "2\n"
     ]
    },
    {
     "data": {
      "text/latex": [
       "$\\displaystyle - 1.66355751602018 n^{1.0} + 2.66355751602018 n^{1.60112138616785}$"
      ],
      "text/plain": [
       "-1.66355751602018*n**1.0 + 2.66355751602018*n**1.60112138616785"
      ]
     },
     "execution_count": 1618,
     "metadata": {},
     "output_type": "execute_result"
    }
   ],
   "source": [
    "calculate_complexity(a_i, b_i, d)"
   ]
  },
  {
   "cell_type": "code",
   "execution_count": 1619,
   "id": "4337d85b",
   "metadata": {},
   "outputs": [
    {
     "data": {
      "text/plain": [
       "False"
      ]
     },
     "execution_count": 1619,
     "metadata": {},
     "output_type": "execute_result"
    }
   ],
   "source": [
    "type(power) == type(log(2)/log(3)) or type(power) == type(1+log(2))"
   ]
  },
  {
   "cell_type": "code",
   "execution_count": null,
   "id": "01e7fc03",
   "metadata": {},
   "outputs": [],
   "source": []
  },
  {
   "cell_type": "code",
   "execution_count": null,
   "id": "f71a0d7c",
   "metadata": {},
   "outputs": [],
   "source": []
  },
  {
   "cell_type": "markdown",
   "id": "f1455e62",
   "metadata": {},
   "source": [
    "#### Example 8 (Horrible effect of $d$)"
   ]
  },
  {
   "cell_type": "code",
   "execution_count": 1620,
   "id": "73f1a6e3",
   "metadata": {},
   "outputs": [],
   "source": [
    "d = log(3)/log(2)\n",
    "a_i = [2]\n",
    "b_i = [2]"
   ]
  },
  {
   "cell_type": "code",
   "execution_count": 1621,
   "id": "873d5a41",
   "metadata": {
    "scrolled": true
   },
   "outputs": [
    {
     "data": {
      "text/latex": [
       "$\\displaystyle \\frac{\\log{\\left(3 \\right)}}{\\log{\\left(2 \\right)}}$"
      ],
      "text/plain": [
       "log(3)/log(2)"
      ]
     },
     "execution_count": 1621,
     "metadata": {},
     "output_type": "execute_result"
    }
   ],
   "source": [
    "d"
   ]
  },
  {
   "cell_type": "code",
   "execution_count": 1622,
   "id": "5dadc528",
   "metadata": {},
   "outputs": [
    {
     "data": {
      "text/latex": [
       "$\\displaystyle 1$"
      ],
      "text/plain": [
       "1"
      ]
     },
     "execution_count": 1622,
     "metadata": {},
     "output_type": "execute_result"
    }
   ],
   "source": [
    "power = calculate_p(a_i, b_i)\n",
    "power"
   ]
  },
  {
   "cell_type": "code",
   "execution_count": 1623,
   "id": "784c0c36",
   "metadata": {},
   "outputs": [
    {
     "data": {
      "text/plain": [
       "sympy.core.numbers.One"
      ]
     },
     "execution_count": 1623,
     "metadata": {},
     "output_type": "execute_result"
    }
   ],
   "source": [
    "type(power)"
   ]
  },
  {
   "cell_type": "code",
   "execution_count": 1624,
   "id": "12f99511",
   "metadata": {
    "scrolled": true
   },
   "outputs": [
    {
     "data": {
      "text/plain": [
       "sympy.core.mul.Mul"
      ]
     },
     "execution_count": 1624,
     "metadata": {},
     "output_type": "execute_result"
    }
   ],
   "source": [
    "type(d)"
   ]
  },
  {
   "cell_type": "code",
   "execution_count": 1625,
   "id": "0ccb00f9",
   "metadata": {},
   "outputs": [
    {
     "data": {
      "text/latex": [
       "$\\displaystyle 1$"
      ],
      "text/plain": [
       "1"
      ]
     },
     "execution_count": 1625,
     "metadata": {},
     "output_type": "execute_result"
    }
   ],
   "source": [
    "power = calculate_p(a_i, b_i)\n",
    "power"
   ]
  },
  {
   "cell_type": "code",
   "execution_count": 1626,
   "id": "74efa698",
   "metadata": {
    "scrolled": true
   },
   "outputs": [
    {
     "data": {
      "text/latex": [
       "$\\displaystyle n \\int\\limits_{1}^{n} \\begin{cases} - \\frac{u^{\\frac{\\log{\\left(3 \\right)}}{\\log{\\left(2 \\right)}}} \\Gamma\\left(-1 + \\frac{\\log{\\left(3 \\right)}}{\\log{\\left(2 \\right)}}\\right)}{u^{2} \\Gamma\\left(\\frac{\\log{\\left(3 \\right)}}{\\log{\\left(2 \\right)}}\\right)} + \\frac{u^{\\frac{\\log{\\left(3 \\right)}}{\\log{\\left(2 \\right)}}} \\log{\\left(3 \\right)} \\Gamma\\left(-1 + \\frac{\\log{\\left(3 \\right)}}{\\log{\\left(2 \\right)}}\\right)}{u^{2} \\log{\\left(2 \\right)} \\Gamma\\left(\\frac{\\log{\\left(3 \\right)}}{\\log{\\left(2 \\right)}}\\right)} & \\text{for}\\: \\frac{1}{u} < 1 \\vee u < 1 \\\\\\frac{{G_{2, 2}^{1, 1}\\left(\\begin{matrix} 0 & \\frac{\\log{\\left(3 \\right)}}{\\log{\\left(2 \\right)}} \\\\-1 + \\frac{\\log{\\left(3 \\right)}}{\\log{\\left(2 \\right)}} & 0 \\end{matrix} \\middle| {u} \\right)}}{u} - \\frac{{G_{2, 2}^{0, 2}\\left(\\begin{matrix} \\frac{\\log{\\left(3 \\right)}}{\\log{\\left(2 \\right)}}, 1 &  \\\\ & -1 + \\frac{\\log{\\left(3 \\right)}}{\\log{\\left(2 \\right)}}, 0 \\end{matrix} \\middle| {u} \\right)}}{u} + \\frac{{G_{2, 2}^{0, 2}\\left(\\begin{matrix} \\frac{\\log{\\left(3 \\right)}}{\\log{\\left(2 \\right)}}, 1 &  \\\\ & -1 + \\frac{\\log{\\left(3 \\right)}}{\\log{\\left(2 \\right)}}, 0 \\end{matrix} \\middle| {u} \\right)} \\log{\\left(3 \\right)}}{u \\log{\\left(2 \\right)}} + \\frac{{G_{2, 2}^{0, 2}\\left(\\begin{matrix} -1 + \\frac{\\log{\\left(3 \\right)}}{\\log{\\left(2 \\right)}}, 1 &  \\\\ & -1 + \\frac{\\log{\\left(3 \\right)}}{\\log{\\left(2 \\right)}}, 0 \\end{matrix} \\middle| {u} \\right)}}{u} & \\text{otherwise} \\end{cases}\\, du + n$"
      ],
      "text/plain": [
       "n*Integral(Piecewise((-u**(log(3)/log(2))*gamma(-1 + log(3)/log(2))/(u**2*gamma(log(3)/log(2))) + u**(log(3)/log(2))*log(3)*gamma(-1 + log(3)/log(2))/(u**2*log(2)*gamma(log(3)/log(2))), (u < 1) | (1/u < 1)), (meijerg(((0,), (log(3)/log(2),)), ((-1 + log(3)/log(2),), (0,)), u)/u - meijerg(((log(3)/log(2), 1), ()), ((), (-1 + log(3)/log(2), 0)), u)/u + meijerg(((log(3)/log(2), 1), ()), ((), (-1 + log(3)/log(2), 0)), u)*log(3)/(u*log(2)) + meijerg(((-1 + log(3)/log(2), 1), ()), ((), (-1 + log(3)/log(2), 0)), u)/u, True)), (u, 1, n)) + n"
      ]
     },
     "execution_count": 1626,
     "metadata": {},
     "output_type": "execute_result"
    }
   ],
   "source": [
    "calculate_complexity(a_i, b_i, d)"
   ]
  },
  {
   "cell_type": "code",
   "execution_count": null,
   "id": "37e8d7e4",
   "metadata": {},
   "outputs": [],
   "source": []
  },
  {
   "cell_type": "markdown",
   "id": "464e1715",
   "metadata": {},
   "source": [
    "Up to now, we have only taken care of half the problem, i.e. the effect of $p$ on the final integral expression.\n",
    "\n",
    "From the last example we observe that we still need refine the code of the `calculate_complexity()` method to take into account the effect of $d$ on the final integral expression as well!"
   ]
  },
  {
   "cell_type": "markdown",
   "id": "e2e506d0",
   "metadata": {},
   "source": [
    "As with $p$, here we also use `==` to test for the types on the expression for $d$"
   ]
  },
  {
   "cell_type": "code",
   "execution_count": null,
   "id": "49c1c94b",
   "metadata": {},
   "outputs": [],
   "source": []
  },
  {
   "cell_type": "code",
   "execution_count": null,
   "id": "e143950c",
   "metadata": {},
   "outputs": [],
   "source": []
  },
  {
   "cell_type": "code",
   "execution_count": 1627,
   "id": "8fba69fc",
   "metadata": {},
   "outputs": [],
   "source": [
    "def calculate_complexity(array_a_i, array_b_i, d):\n",
    "    \n",
    "    n = Symbol('n', positive=True, finite=True, integer=True)\n",
    "    u = Symbol('u')\n",
    "    \n",
    "    power = calculate_p(array_a_i, array_b_i)\n",
    "    \n",
    "    # test for base type of p or d\n",
    "    if (\n",
    "            (\n",
    "                type(power) == type(log(2)/log(3))\n",
    "                or\n",
    "                type(power) == type(1+log(2))\n",
    "            )\n",
    "        \n",
    "            or\n",
    "        \n",
    "            (\n",
    "                type(d) == type(log(2)/log(3))\n",
    "                or\n",
    "                type(d) == type(1+log(2))\n",
    "            )\n",
    "       ):\n",
    "        \n",
    "        ##`sympy.core.numbers.RationalConstant`\n",
    "        print(\"Symbolic Integral Unsatisfactory - convert p to numerical value\")\n",
    "        power = N(power) # cast p to numerical value\n",
    "        \n",
    "        # convert d to numeric type\n",
    "        d = N(d)\n",
    "\n",
    "    integral = integrate(u**d / u**(power+1), (u, 1, n))\n",
    "\n",
    "    result = expand(n**power + n**power * integral)\n",
    "    \n",
    "    return result"
   ]
  },
  {
   "cell_type": "code",
   "execution_count": null,
   "id": "99c70890",
   "metadata": {},
   "outputs": [],
   "source": []
  },
  {
   "cell_type": "markdown",
   "id": "f1df063d",
   "metadata": {},
   "source": [
    "#### Example 1"
   ]
  },
  {
   "cell_type": "code",
   "execution_count": 1628,
   "id": "4fddf4c2",
   "metadata": {},
   "outputs": [],
   "source": [
    "d = 1\n",
    "a_i = [2]\n",
    "b_i = [2]"
   ]
  },
  {
   "cell_type": "code",
   "execution_count": 1629,
   "id": "bcd321a4",
   "metadata": {},
   "outputs": [
    {
     "data": {
      "text/latex": [
       "$\\displaystyle n \\log{\\left(n \\right)} + n$"
      ],
      "text/plain": [
       "n*log(n) + n"
      ]
     },
     "execution_count": 1629,
     "metadata": {},
     "output_type": "execute_result"
    }
   ],
   "source": [
    "calculate_complexity(a_i, b_i, d)"
   ]
  },
  {
   "cell_type": "code",
   "execution_count": 1630,
   "id": "1308dfdc",
   "metadata": {},
   "outputs": [
    {
     "data": {
      "text/plain": [
       "sympy.core.numbers.One"
      ]
     },
     "execution_count": 1630,
     "metadata": {},
     "output_type": "execute_result"
    }
   ],
   "source": [
    "power = calculate_p(a_i, b_i)\n",
    "power\n",
    "type(power)"
   ]
  },
  {
   "cell_type": "markdown",
   "id": "f4967dc4",
   "metadata": {},
   "source": [
    "#### Example 2"
   ]
  },
  {
   "cell_type": "code",
   "execution_count": 1631,
   "id": "0e6b14b2",
   "metadata": {},
   "outputs": [],
   "source": [
    "d = log(3)/log(2)\n",
    "a_i = [2]\n",
    "b_i = [2]"
   ]
  },
  {
   "cell_type": "code",
   "execution_count": 1632,
   "id": "93b4bda9",
   "metadata": {
    "scrolled": true
   },
   "outputs": [
    {
     "name": "stdout",
     "output_type": "stream",
     "text": [
      "Symbolic Integral Unsatisfactory - convert p to numerical value\n"
     ]
    },
    {
     "data": {
      "text/latex": [
       "$\\displaystyle - 0.709511291351455 n^{1.0} + 1.70951129135146 n^{1.58496250072116}$"
      ],
      "text/plain": [
       "-0.709511291351455*n**1.0 + 1.70951129135146*n**1.58496250072116"
      ]
     },
     "execution_count": 1632,
     "metadata": {},
     "output_type": "execute_result"
    }
   ],
   "source": [
    "calculate_complexity(a_i, b_i, d)"
   ]
  },
  {
   "cell_type": "code",
   "execution_count": 1633,
   "id": "44296c9d",
   "metadata": {},
   "outputs": [
    {
     "data": {
      "text/plain": [
       "sympy.core.numbers.One"
      ]
     },
     "execution_count": 1633,
     "metadata": {},
     "output_type": "execute_result"
    }
   ],
   "source": [
    "power = calculate_p(a_i, b_i)\n",
    "power\n",
    "type(power)"
   ]
  },
  {
   "cell_type": "markdown",
   "id": "c2209fc0",
   "metadata": {},
   "source": [
    "#### Example 3"
   ]
  },
  {
   "cell_type": "code",
   "execution_count": 1634,
   "id": "1c69338c",
   "metadata": {},
   "outputs": [],
   "source": [
    "d = Rational(1/2)\n",
    "a_i = [1]\n",
    "b_i = [2]"
   ]
  },
  {
   "cell_type": "code",
   "execution_count": 1635,
   "id": "5ea6df3f",
   "metadata": {},
   "outputs": [
    {
     "data": {
      "text/latex": [
       "$\\displaystyle 2 \\sqrt{n} - 1$"
      ],
      "text/plain": [
       "2*sqrt(n) - 1"
      ]
     },
     "execution_count": 1635,
     "metadata": {},
     "output_type": "execute_result"
    }
   ],
   "source": [
    "calculate_complexity(a_i, b_i, d)"
   ]
  },
  {
   "cell_type": "code",
   "execution_count": 1636,
   "id": "674e7b40",
   "metadata": {},
   "outputs": [
    {
     "data": {
      "text/plain": [
       "sympy.core.numbers.Zero"
      ]
     },
     "execution_count": 1636,
     "metadata": {},
     "output_type": "execute_result"
    }
   ],
   "source": [
    "power = calculate_p(a_i, b_i)\n",
    "power\n",
    "type(power)"
   ]
  },
  {
   "cell_type": "markdown",
   "id": "de2b9551",
   "metadata": {},
   "source": [
    "#### Example 4"
   ]
  },
  {
   "cell_type": "code",
   "execution_count": 1637,
   "id": "65e7170f",
   "metadata": {},
   "outputs": [],
   "source": [
    "d = 2\n",
    "a_i = [2]\n",
    "b_i = [2]"
   ]
  },
  {
   "cell_type": "code",
   "execution_count": 1638,
   "id": "58b8177e",
   "metadata": {},
   "outputs": [
    {
     "data": {
      "text/latex": [
       "$\\displaystyle n^{2}$"
      ],
      "text/plain": [
       "n**2"
      ]
     },
     "execution_count": 1638,
     "metadata": {},
     "output_type": "execute_result"
    }
   ],
   "source": [
    "calculate_complexity(a_i, b_i, d)"
   ]
  },
  {
   "cell_type": "code",
   "execution_count": 1639,
   "id": "aeb95562",
   "metadata": {},
   "outputs": [
    {
     "data": {
      "text/latex": [
       "$\\displaystyle 1$"
      ],
      "text/plain": [
       "1"
      ]
     },
     "execution_count": 1639,
     "metadata": {},
     "output_type": "execute_result"
    }
   ],
   "source": [
    "power = calculate_p(a_i, b_i)\n",
    "power"
   ]
  },
  {
   "cell_type": "code",
   "execution_count": 1640,
   "id": "a1113769",
   "metadata": {},
   "outputs": [
    {
     "data": {
      "text/plain": [
       "sympy.core.numbers.One"
      ]
     },
     "execution_count": 1640,
     "metadata": {},
     "output_type": "execute_result"
    }
   ],
   "source": [
    "power = calculate_p(a_i, b_i)\n",
    "power\n",
    "type(power)"
   ]
  },
  {
   "cell_type": "markdown",
   "id": "33d8621c",
   "metadata": {},
   "source": [
    "#### Example 5"
   ]
  },
  {
   "cell_type": "code",
   "execution_count": 1641,
   "id": "9aa8f100",
   "metadata": {},
   "outputs": [],
   "source": [
    "d = 1\n",
    "a_i = [1, 1]\n",
    "b_i = [2, 4]"
   ]
  },
  {
   "cell_type": "code",
   "execution_count": 1642,
   "id": "217151cd",
   "metadata": {},
   "outputs": [
    {
     "name": "stdout",
     "output_type": "stream",
     "text": [
      "Symbolic Integral Unsatisfactory - convert p to numerical value\n"
     ]
    },
    {
     "data": {
      "text/latex": [
       "$\\displaystyle - 2.27055945395966 n^{0.694241913630617} + 3.27055945395966 n^{1.0}$"
      ],
      "text/plain": [
       "-2.27055945395966*n**0.694241913630617 + 3.27055945395966*n**1.0"
      ]
     },
     "execution_count": 1642,
     "metadata": {},
     "output_type": "execute_result"
    }
   ],
   "source": [
    "calculate_complexity(a_i, b_i, d)"
   ]
  },
  {
   "cell_type": "code",
   "execution_count": null,
   "id": "a565b0b4",
   "metadata": {},
   "outputs": [],
   "source": []
  },
  {
   "cell_type": "markdown",
   "id": "63122d68",
   "metadata": {},
   "source": [
    "#### Example 6"
   ]
  },
  {
   "cell_type": "code",
   "execution_count": 1643,
   "id": "0231c005",
   "metadata": {},
   "outputs": [],
   "source": [
    "d = 1\n",
    "a_i = [1, 2]\n",
    "b_i = [2, 3]"
   ]
  },
  {
   "cell_type": "code",
   "execution_count": 1644,
   "id": "c7a7ecbb",
   "metadata": {},
   "outputs": [
    {
     "name": "stdout",
     "output_type": "stream",
     "text": [
      "multiple generators [2**p, 3**p, 6**p]\n",
      "No algorithms are implemented to solve equation -1 + 2/3**p + 2**(-p)\n",
      "Guess: \n",
      "2\n"
     ]
    },
    {
     "data": {
      "text/latex": [
       "$\\displaystyle - 5.97768128075249 n^{1.0} + 6.97768128075249 n^{1.16728894583589}$"
      ],
      "text/plain": [
       "-5.97768128075249*n**1.0 + 6.97768128075249*n**1.16728894583589"
      ]
     },
     "execution_count": 1644,
     "metadata": {},
     "output_type": "execute_result"
    }
   ],
   "source": [
    "calculate_complexity(a_i, b_i, d)"
   ]
  },
  {
   "cell_type": "code",
   "execution_count": null,
   "id": "06fc8ffd",
   "metadata": {},
   "outputs": [],
   "source": []
  },
  {
   "cell_type": "markdown",
   "id": "a9c06738",
   "metadata": {},
   "source": [
    "Example 7"
   ]
  },
  {
   "cell_type": "code",
   "execution_count": 1645,
   "id": "a116cbe9",
   "metadata": {},
   "outputs": [],
   "source": [
    "d = 1\n",
    "a_i = [3]\n",
    "b_i = [2]"
   ]
  },
  {
   "cell_type": "code",
   "execution_count": 1646,
   "id": "9d95f086",
   "metadata": {},
   "outputs": [
    {
     "name": "stdout",
     "output_type": "stream",
     "text": [
      "Symbolic Integral Unsatisfactory - convert p to numerical value\n"
     ]
    },
    {
     "data": {
      "text/latex": [
       "$\\displaystyle - 1.70951129135146 n^{1.0} + 2.70951129135145 n^{1.58496250072116}$"
      ],
      "text/plain": [
       "-1.70951129135146*n**1.0 + 2.70951129135145*n**1.58496250072116"
      ]
     },
     "execution_count": 1646,
     "metadata": {},
     "output_type": "execute_result"
    }
   ],
   "source": [
    "calculate_complexity(a_i, b_i, d)"
   ]
  },
  {
   "cell_type": "code",
   "execution_count": null,
   "id": "eabd883d",
   "metadata": {},
   "outputs": [],
   "source": []
  },
  {
   "cell_type": "markdown",
   "id": "5c6dd184",
   "metadata": {},
   "source": [
    "### 3.2 Refactoring"
   ]
  },
  {
   "cell_type": "markdown",
   "id": "c6732c7d",
   "metadata": {},
   "source": [
    "In this section we will refactor the code a little bit and seperate the functionality for each major component ..."
   ]
  },
  {
   "cell_type": "code",
   "execution_count": 96,
   "id": "a4ccec54",
   "metadata": {},
   "outputs": [],
   "source": [
    "def objective_function(p):\n",
    "    return abs(f(p) - 1.0)"
   ]
  },
  {
   "cell_type": "code",
   "execution_count": 97,
   "id": "241ab619",
   "metadata": {},
   "outputs": [],
   "source": [
    "def calculate_p(array_a_i, array_b_i):\n",
    "    \n",
    "    p = Symbol('p', finite=True, nonnegative=True, imaginary=False) # Set Attribute positive = true\n",
    "    \n",
    "    length = len(array_a_i)\n",
    "    \n",
    "    expression = 0\n",
    "    for x in range(length):\n",
    "        expression += a_i[x] / b_i[x]**p\n",
    "    \n",
    "    try:\n",
    "        solution = solve(Eq(expression, 1), p)\n",
    "   \n",
    "    except NotImplementedError as e:\n",
    "        print(e)\n",
    "        f = lambdify(p, expression)\n",
    "        \n",
    "        print(\"Guess: \")\n",
    "        guess = float(input())\n",
    "        \n",
    "        result = minimize(objective_function(p), [guess])\n",
    "        \n",
    "        solution = result.x\n",
    "        for sol in result.x:\n",
    "            round(sol)\n",
    "    \n",
    "    return solution[0]"
   ]
  },
  {
   "cell_type": "code",
   "execution_count": 98,
   "id": "ac220f21",
   "metadata": {},
   "outputs": [],
   "source": [
    "def base_type(power, d):\n",
    "    # test for base type of p or d\n",
    "    if (\n",
    "            (\n",
    "                type(power) == type(log(2)/log(3))\n",
    "                or\n",
    "                type(power) == type(1+log(2))\n",
    "            )\n",
    "        \n",
    "            or\n",
    "        \n",
    "            (\n",
    "                type(d) == type(log(2)/log(3))\n",
    "                or\n",
    "                type(d) == type(1+log(2))\n",
    "            )\n",
    "       ):\n",
    "        \n",
    "        return true"
   ]
  },
  {
   "cell_type": "code",
   "execution_count": 99,
   "id": "2f674088",
   "metadata": {},
   "outputs": [],
   "source": [
    "def calculate_complexity(array_a_i, array_b_i, d):\n",
    "    \n",
    "    n = Symbol('n', positive=True, finite=True, integer=True)\n",
    "    u = Symbol('u')\n",
    "    \n",
    "    power = calculate_p(array_a_i, array_b_i)\n",
    "    \n",
    "    # test for base type of p or d\n",
    "    if (base_type(power, d)):\n",
    "        \n",
    "        ##`sympy.core.numbers.RationalConstant`\n",
    "        print(\"Symbolic Integral Unsatisfactory - convert p to numerical value\")\n",
    "        power = N(power) # cast p to numerical value\n",
    "        \n",
    "        # convert d to numeric type\n",
    "        d = N(d)\n",
    "\n",
    "    integral = integrate(u**d / u**(power+1), (u, 1, n))\n",
    "\n",
    "    result = expand(n**power + n**power * integral)\n",
    "    \n",
    "    return result"
   ]
  },
  {
   "cell_type": "code",
   "execution_count": null,
   "id": "97d818a9",
   "metadata": {},
   "outputs": [],
   "source": []
  },
  {
   "cell_type": "markdown",
   "id": "873281e4",
   "metadata": {},
   "source": [
    "#### Example 1"
   ]
  },
  {
   "cell_type": "code",
   "execution_count": 100,
   "id": "d9acd953",
   "metadata": {},
   "outputs": [
    {
     "name": "stdout",
     "output_type": "stream",
     "text": [
      "Symbolic Integral Unsatisfactory - convert p to numerical value\n"
     ]
    },
    {
     "data": {
      "text/latex": [
       "$\\displaystyle - 0.709511291351455 n^{1.0} + 1.70951129135146 n^{1.58496250072116}$"
      ],
      "text/plain": [
       "-0.709511291351455*n**1.0 + 1.70951129135146*n**1.58496250072116"
      ]
     },
     "execution_count": 100,
     "metadata": {},
     "output_type": "execute_result"
    }
   ],
   "source": [
    "d = log(3)/log(2)\n",
    "a_i = [2]\n",
    "b_i = [2]\n",
    "\n",
    "calculate_complexity(a_i, b_i, d)"
   ]
  },
  {
   "cell_type": "code",
   "execution_count": 101,
   "id": "dc0c3359",
   "metadata": {},
   "outputs": [
    {
     "data": {
      "text/plain": [
       "sympy.core.numbers.One"
      ]
     },
     "execution_count": 101,
     "metadata": {},
     "output_type": "execute_result"
    }
   ],
   "source": [
    "power = calculate_p(a_i, b_i)\n",
    "power\n",
    "type(power)"
   ]
  },
  {
   "cell_type": "markdown",
   "id": "5b73fdf7",
   "metadata": {},
   "source": [
    "#### Example 2"
   ]
  },
  {
   "cell_type": "code",
   "execution_count": 102,
   "id": "1f5a24a5",
   "metadata": {},
   "outputs": [
    {
     "data": {
      "text/latex": [
       "$\\displaystyle n \\log{\\left(n \\right)} + n$"
      ],
      "text/plain": [
       "n*log(n) + n"
      ]
     },
     "execution_count": 102,
     "metadata": {},
     "output_type": "execute_result"
    }
   ],
   "source": [
    "d = 1\n",
    "a_i = [2]\n",
    "b_i = [2]\n",
    "\n",
    "calculate_complexity(a_i, b_i, d)"
   ]
  },
  {
   "cell_type": "code",
   "execution_count": 103,
   "id": "977ad998",
   "metadata": {},
   "outputs": [
    {
     "data": {
      "text/latex": [
       "$\\displaystyle 1$"
      ],
      "text/plain": [
       "1"
      ]
     },
     "execution_count": 103,
     "metadata": {},
     "output_type": "execute_result"
    }
   ],
   "source": [
    "power = calculate_p(a_i, b_i)\n",
    "power"
   ]
  },
  {
   "cell_type": "code",
   "execution_count": 104,
   "id": "2a79014d",
   "metadata": {},
   "outputs": [
    {
     "data": {
      "text/plain": [
       "sympy.core.numbers.One"
      ]
     },
     "execution_count": 104,
     "metadata": {},
     "output_type": "execute_result"
    }
   ],
   "source": [
    "type(power)"
   ]
  },
  {
   "cell_type": "markdown",
   "id": "8437b400",
   "metadata": {},
   "source": [
    "#### Example 3"
   ]
  },
  {
   "cell_type": "code",
   "execution_count": 105,
   "id": "efb94772",
   "metadata": {},
   "outputs": [
    {
     "data": {
      "text/latex": [
       "$\\displaystyle \\frac{n^{2}}{2} + \\frac{1}{2}$"
      ],
      "text/plain": [
       "n**2/2 + 1/2"
      ]
     },
     "execution_count": 105,
     "metadata": {},
     "output_type": "execute_result"
    }
   ],
   "source": [
    "d = 2\n",
    "a_i = [1]\n",
    "b_i = [2]\n",
    "\n",
    "calculate_complexity(a_i, b_i, d)"
   ]
  },
  {
   "cell_type": "code",
   "execution_count": 106,
   "id": "7dd78adc",
   "metadata": {},
   "outputs": [
    {
     "data": {
      "text/latex": [
       "$\\displaystyle 0$"
      ],
      "text/plain": [
       "0"
      ]
     },
     "execution_count": 106,
     "metadata": {},
     "output_type": "execute_result"
    }
   ],
   "source": [
    "power = calculate_p(a_i, b_i)\n",
    "power"
   ]
  },
  {
   "cell_type": "code",
   "execution_count": 107,
   "id": "6cc5fb68",
   "metadata": {},
   "outputs": [
    {
     "data": {
      "text/plain": [
       "sympy.core.numbers.Zero"
      ]
     },
     "execution_count": 107,
     "metadata": {},
     "output_type": "execute_result"
    }
   ],
   "source": [
    "type(power)"
   ]
  },
  {
   "cell_type": "code",
   "execution_count": null,
   "id": "a5aa8123",
   "metadata": {},
   "outputs": [],
   "source": []
  },
  {
   "cell_type": "markdown",
   "id": "12a1e506",
   "metadata": {},
   "source": [
    "#### Example 4"
   ]
  },
  {
   "cell_type": "code",
   "execution_count": 108,
   "id": "7e02ec08",
   "metadata": {},
   "outputs": [
    {
     "name": "stdout",
     "output_type": "stream",
     "text": [
      "Symbolic Integral Unsatisfactory - convert p to numerical value\n"
     ]
    },
    {
     "data": {
      "text/latex": [
       "$\\displaystyle - 0.0481820492929981 n^{0.630929753571457} + 1.048182049293 n^{1.58496250072116}$"
      ],
      "text/plain": [
       "-0.0481820492929981*n**0.630929753571457 + 1.048182049293*n**1.58496250072116"
      ]
     },
     "execution_count": 108,
     "metadata": {},
     "output_type": "execute_result"
    }
   ],
   "source": [
    "d = log(3)/log(2)\n",
    "a_i = [2]\n",
    "b_i = [3]\n",
    "\n",
    "calculate_complexity(a_i, b_i, d)"
   ]
  },
  {
   "cell_type": "code",
   "execution_count": 109,
   "id": "07383023",
   "metadata": {},
   "outputs": [
    {
     "data": {
      "text/latex": [
       "$\\displaystyle \\frac{\\log{\\left(2 \\right)}}{\\log{\\left(3 \\right)}}$"
      ],
      "text/plain": [
       "log(2)/log(3)"
      ]
     },
     "execution_count": 109,
     "metadata": {},
     "output_type": "execute_result"
    }
   ],
   "source": [
    "power = calculate_p(a_i, b_i)\n",
    "power"
   ]
  },
  {
   "cell_type": "code",
   "execution_count": 110,
   "id": "e1984942",
   "metadata": {},
   "outputs": [
    {
     "data": {
      "text/plain": [
       "sympy.core.mul.Mul"
      ]
     },
     "execution_count": 110,
     "metadata": {},
     "output_type": "execute_result"
    }
   ],
   "source": [
    "type(power)"
   ]
  },
  {
   "cell_type": "code",
   "execution_count": 111,
   "id": "f5c6cc27",
   "metadata": {},
   "outputs": [
    {
     "data": {
      "text/latex": [
       "$\\displaystyle \\frac{\\log{\\left(3 \\right)}}{\\log{\\left(2 \\right)}}$"
      ],
      "text/plain": [
       "log(3)/log(2)"
      ]
     },
     "execution_count": 111,
     "metadata": {},
     "output_type": "execute_result"
    }
   ],
   "source": [
    "d"
   ]
  },
  {
   "cell_type": "code",
   "execution_count": 112,
   "id": "d95a9231",
   "metadata": {},
   "outputs": [
    {
     "data": {
      "text/plain": [
       "sympy.core.mul.Mul"
      ]
     },
     "execution_count": 112,
     "metadata": {},
     "output_type": "execute_result"
    }
   ],
   "source": [
    "type(d)"
   ]
  },
  {
   "cell_type": "code",
   "execution_count": null,
   "id": "1d67e0fc",
   "metadata": {},
   "outputs": [],
   "source": []
  },
  {
   "cell_type": "markdown",
   "id": "02a86db6",
   "metadata": {},
   "source": [
    "#### example 5"
   ]
  },
  {
   "cell_type": "code",
   "execution_count": 113,
   "id": "4d15c3af",
   "metadata": {},
   "outputs": [
    {
     "name": "stdout",
     "output_type": "stream",
     "text": [
      "Symbolic Integral Unsatisfactory - convert p to numerical value\n"
     ]
    },
    {
     "data": {
      "text/latex": [
       "$\\displaystyle - 1.70951129135146 n^{1.0} + 2.70951129135145 n^{1.58496250072116}$"
      ],
      "text/plain": [
       "-1.70951129135146*n**1.0 + 2.70951129135145*n**1.58496250072116"
      ]
     },
     "execution_count": 113,
     "metadata": {},
     "output_type": "execute_result"
    }
   ],
   "source": [
    "d = 1\n",
    "a_i = [3]\n",
    "b_i = [2]\n",
    "\n",
    "calculate_complexity(a_i, b_i, d)"
   ]
  },
  {
   "cell_type": "code",
   "execution_count": 114,
   "id": "78c4923f",
   "metadata": {},
   "outputs": [
    {
     "data": {
      "text/plain": [
       "int"
      ]
     },
     "execution_count": 114,
     "metadata": {},
     "output_type": "execute_result"
    }
   ],
   "source": [
    "type(d)"
   ]
  },
  {
   "cell_type": "code",
   "execution_count": 115,
   "id": "f254a4ab",
   "metadata": {},
   "outputs": [
    {
     "data": {
      "text/plain": [
       "sympy.core.mul.Mul"
      ]
     },
     "execution_count": 115,
     "metadata": {},
     "output_type": "execute_result"
    }
   ],
   "source": [
    "type(power)"
   ]
  },
  {
   "cell_type": "code",
   "execution_count": 116,
   "id": "82bd78fb",
   "metadata": {},
   "outputs": [
    {
     "data": {
      "text/latex": [
       "$\\displaystyle \\frac{\\log{\\left(3 \\right)}}{\\log{\\left(2 \\right)}}$"
      ],
      "text/plain": [
       "log(3)/log(2)"
      ]
     },
     "execution_count": 116,
     "metadata": {},
     "output_type": "execute_result"
    }
   ],
   "source": [
    "power = calculate_p(a_i, b_i)\n",
    "power"
   ]
  },
  {
   "cell_type": "code",
   "execution_count": 117,
   "id": "dcef4c48",
   "metadata": {},
   "outputs": [
    {
     "data": {
      "text/plain": [
       "sympy.core.mul.Mul"
      ]
     },
     "execution_count": 117,
     "metadata": {},
     "output_type": "execute_result"
    }
   ],
   "source": [
    "power = calculate_p(a_i, b_i)\n",
    "power\n",
    "type(power)"
   ]
  },
  {
   "cell_type": "code",
   "execution_count": null,
   "id": "41709051",
   "metadata": {},
   "outputs": [],
   "source": []
  },
  {
   "cell_type": "markdown",
   "id": "40ed768b",
   "metadata": {},
   "source": [
    "### Some Exotic Examples ..."
   ]
  },
  {
   "cell_type": "markdown",
   "id": "2b81be6f",
   "metadata": {},
   "source": [
    "#### Example"
   ]
  },
  {
   "cell_type": "code",
   "execution_count": 118,
   "id": "fb936e54",
   "metadata": {},
   "outputs": [],
   "source": [
    "d = 0.2\n",
    "a_i = [3]\n",
    "b_i = [2]"
   ]
  },
  {
   "cell_type": "code",
   "execution_count": 119,
   "id": "5f2be8c6",
   "metadata": {},
   "outputs": [
    {
     "data": {
      "text/plain": [
       "sympy.core.mul.Mul"
      ]
     },
     "execution_count": 119,
     "metadata": {},
     "output_type": "execute_result"
    }
   ],
   "source": [
    "power = calculate_p(a_i, b_i)\n",
    "power\n",
    "type(power)"
   ]
  },
  {
   "cell_type": "code",
   "execution_count": 120,
   "id": "2b7b5c30",
   "metadata": {},
   "outputs": [
    {
     "name": "stdout",
     "output_type": "stream",
     "text": [
      "Symbolic Integral Unsatisfactory - convert p to numerical value\n"
     ]
    },
    {
     "data": {
      "text/latex": [
       "$\\displaystyle - 0.722041210126119 n^{0.2} + 1.72204121012612 n^{1.58496250072116}$"
      ],
      "text/plain": [
       "-0.722041210126119*n**0.2 + 1.72204121012612*n**1.58496250072116"
      ]
     },
     "execution_count": 120,
     "metadata": {},
     "output_type": "execute_result"
    }
   ],
   "source": [
    "calculate_complexity(a_i, b_i, d)"
   ]
  },
  {
   "cell_type": "code",
   "execution_count": null,
   "id": "ca6560ca",
   "metadata": {},
   "outputs": [],
   "source": []
  },
  {
   "cell_type": "markdown",
   "id": "9870fb25",
   "metadata": {},
   "source": [
    "#### Example"
   ]
  },
  {
   "cell_type": "code",
   "execution_count": 121,
   "id": "e0c866b5",
   "metadata": {},
   "outputs": [],
   "source": [
    "d = log(log(2))\n",
    "a_i = [3]\n",
    "b_i = [2]"
   ]
  },
  {
   "cell_type": "code",
   "execution_count": 122,
   "id": "29ee6a96",
   "metadata": {},
   "outputs": [
    {
     "data": {
      "text/plain": [
       "sympy.core.mul.Mul"
      ]
     },
     "execution_count": 122,
     "metadata": {},
     "output_type": "execute_result"
    }
   ],
   "source": [
    "power = calculate_p(a_i, b_i)\n",
    "power\n",
    "type(power)"
   ]
  },
  {
   "cell_type": "code",
   "execution_count": 123,
   "id": "d5438498",
   "metadata": {},
   "outputs": [
    {
     "name": "stdout",
     "output_type": "stream",
     "text": [
      "Symbolic Integral Unsatisfactory - convert p to numerical value\n"
     ]
    },
    {
     "data": {
      "text/latex": [
       "$\\displaystyle - \\frac{0.5124327926879}{n^{0.366512920581664}} + 1.5124327926879 n^{1.58496250072116}$"
      ],
      "text/plain": [
       "-0.5124327926879/n**0.366512920581664 + 1.5124327926879*n**1.58496250072116"
      ]
     },
     "execution_count": 123,
     "metadata": {},
     "output_type": "execute_result"
    }
   ],
   "source": [
    "calculate_complexity(a_i, b_i, d)"
   ]
  },
  {
   "cell_type": "code",
   "execution_count": null,
   "id": "4dbe36a2",
   "metadata": {},
   "outputs": [],
   "source": []
  },
  {
   "cell_type": "markdown",
   "id": "b590d6c5",
   "metadata": {},
   "source": [
    "## 4. Future Directions"
   ]
  },
  {
   "cell_type": "code",
   "execution_count": null,
   "id": "4ee1ccda",
   "metadata": {},
   "outputs": [],
   "source": []
  },
  {
   "cell_type": "markdown",
   "id": "c0b25852",
   "metadata": {},
   "source": [
    "### 4.1 Additional Features"
   ]
  },
  {
   "cell_type": "code",
   "execution_count": null,
   "id": "77a462eb",
   "metadata": {},
   "outputs": [],
   "source": []
  },
  {
   "cell_type": "markdown",
   "id": "3459c6a1",
   "metadata": {},
   "source": [
    "This research will continue to expand in terms of ..."
   ]
  },
  {
   "cell_type": "markdown",
   "id": "68dd6c3f",
   "metadata": {},
   "source": [
    "1) Unification\n",
    "2) Visualization\n",
    "3) Generalization"
   ]
  },
  {
   "cell_type": "code",
   "execution_count": null,
   "id": "f5b6fc80",
   "metadata": {},
   "outputs": [],
   "source": []
  },
  {
   "cell_type": "markdown",
   "id": "5602c16e",
   "metadata": {},
   "source": [
    "#### 1. Unification"
   ]
  },
  {
   "cell_type": "markdown",
   "id": "0d795864",
   "metadata": {},
   "source": [
    "A similar concept, but alternative approach has already been investigated and imlemented by the [big-O Python Library](https://github.com/pberkes/big_O) ..."
   ]
  },
  {
   "cell_type": "markdown",
   "id": "70416d7b",
   "metadata": {},
   "source": [
    "The big-O python library has couple of benefits & drawbacks which this project aims to supplement/borrow ..."
   ]
  },
  {
   "cell_type": "markdown",
   "id": "a8cbf72d",
   "metadata": {},
   "source": [
    "The big-O python library is based on an emirical approach to compute the runtime complexity for any given code-block/script by repeatedly running a given script and then infers the complexity based on the collected results. This approach is convenient if it is not known whether the implemented algorithm can be modelled by a Decrease/Divide & Conquer type recurrence relation. But it may be slow (potentially hang) due to repeatedly running the script for a multiple number of times, if the program is guaranteed to terminate in the first place. In a follow-up project for the above formalism, we would like to develop a software that would test a provided script for a recurrence relation (if it exists), in which case, the formalism in this document should be employed, otherwize, the software should default to the empirical implementation for estimating the runtime. In short, a future implementation of this project will aim at merging the solutions here with the Big-O Python Library"
   ]
  },
  {
   "cell_type": "code",
   "execution_count": null,
   "id": "1877a0c7",
   "metadata": {},
   "outputs": [],
   "source": []
  },
  {
   "cell_type": "markdown",
   "id": "1c201836",
   "metadata": {},
   "source": [
    "#### 2. Visualization"
   ]
  },
  {
   "cell_type": "markdown",
   "id": "58f8a3c1",
   "metadata": {},
   "source": [
    "A future update based on this project should contain the functionality to graph the results of the analysis for a given recurrence relation for visual representation of the runtime complexity, giving developers an \"intuitive tool\" to work with. This implementation may potentially be based on [`manim`](https://www.manim.community/) or [`matplotlib`](https://matplotlib.org/) the decision for which is not yet finalized ..."
   ]
  },
  {
   "cell_type": "code",
   "execution_count": null,
   "id": "031882a4",
   "metadata": {},
   "outputs": [],
   "source": []
  },
  {
   "cell_type": "markdown",
   "id": "8ef38243",
   "metadata": {},
   "source": [
    "#### 3 Generalization"
   ]
  },
  {
   "cell_type": "markdown",
   "id": "17774fef",
   "metadata": {},
   "source": [
    "There are many more aspects regarding the Akar-Bazzi Theorem which were not taken into account while developing this complexity calculator, due to these factors potentially convoluting the experiment, making it much more difficult to build for practical use. However, in a future release of this project, many additional features will be included to enable clients to \"tweak\" results as needed."
   ]
  },
  {
   "cell_type": "code",
   "execution_count": null,
   "id": "de65c9a8",
   "metadata": {},
   "outputs": [],
   "source": []
  },
  {
   "cell_type": "markdown",
   "id": "131156ee",
   "metadata": {},
   "source": [
    "### 4.2 Possible Generalization"
   ]
  },
  {
   "cell_type": "code",
   "execution_count": null,
   "id": "ccf895a7",
   "metadata": {},
   "outputs": [],
   "source": []
  },
  {
   "cell_type": "markdown",
   "id": "bb3e8059",
   "metadata": {},
   "source": [
    "Besides the additional features that needs to be taken into consideration, a platora of potential research problems lies ahead to improve much of the features promised in the coming updates. For one, the close relationship of the Akar-Bazzi Integral ...\n",
    "\n",
    "$$\n",
    "    T(n) = n^p + n^p \\int_{1}^{n} {\\frac{u^d}{u^{p+1}}} du\n",
    "$$\n",
    "\n",
    "... to the [generalized powersum](https://en.wikipedia.org/wiki/Sums_of_powers) ...\n",
    "\n",
    "$$\n",
    "    \\sum_{i=1}^{k} = i^1 + i^2 + i^3 \\cdots + i^k\n",
    "$$\n",
    "\n",
    "... is a promising start for future research, considering that the integral term ...\n",
    "\n",
    "$$\n",
    "    \\int_{1}^{n} {\\frac{u^d}{u^{p+1}}} du = \\int_{1}^{n} {u^{d - (p + 1)}} du = \\int_{0}^{n} {u^{d - (p + 1)}} du - \\int_{0}^{1} {u^{d - (p + 1)}} du\n",
    "$$\n",
    "\n",
    "... with ... \n",
    "\n",
    "$$\\int_{0}^{n} {u^{d - (p + 1)}} du = \\lim_{n \\rightarrow \\infty} \\sum_{i=1}^{n} i^{d-(p+1)}$$\n",
    "\n",
    "... and ...\n",
    "\n",
    "$$\\int_{0}^{1} {u^{d - (p + 1)}} du = \\lim_{n \\rightarrow \\infty} \\sum_{i=1}^{n} \\left(\\frac{i}{n}\\right)^{d-(p+1)} \\left( \\frac{1}{n} \\right) \\approx \\lim_{n \\rightarrow \\infty} \\sum_{i=1}^{n} \\left(\\frac{i}{n}\\right)^{d-(p+1)} $$\n",
    "\n",
    "... where the expression ...\n",
    "\n",
    "$$\\int_{0}^{n} {u^{d - (p + 1)}} du = \\lim_{n \\rightarrow \\infty} \\sum_{i=1}^{n} i^{d-(p+1)}$$\n",
    "\n",
    "... is a generalized power sum and a lot more can be said with regards to the convergence of these series ..."
   ]
  },
  {
   "cell_type": "code",
   "execution_count": null,
   "id": "4bde931c",
   "metadata": {},
   "outputs": [],
   "source": []
  },
  {
   "cell_type": "markdown",
   "id": "7146ec1e",
   "metadata": {},
   "source": [
    "The point is to reconcile the Akar-Bazzi Theorem with the Master Theorem, which has a much more intuitive proof ..."
   ]
  },
  {
   "cell_type": "markdown",
   "id": "8a896253",
   "metadata": {},
   "source": [
    "At the very least, this leads us to an alternative approach for proving the Akar-Bazzi Theorem without reliance on [mathematical induction](https://en.wikipedia.org/wiki/Mathematical_induction), which is currently the most widely accepted form of proof."
   ]
  },
  {
   "cell_type": "code",
   "execution_count": null,
   "id": "bcb90c87",
   "metadata": {},
   "outputs": [],
   "source": []
  },
  {
   "cell_type": "code",
   "execution_count": null,
   "id": "0459e7a9",
   "metadata": {},
   "outputs": [],
   "source": []
  },
  {
   "cell_type": "markdown",
   "id": "64679980",
   "metadata": {},
   "source": [
    "## 5. Bibliography"
   ]
  },
  {
   "cell_type": "code",
   "execution_count": null,
   "id": "cc95eff2",
   "metadata": {},
   "outputs": [],
   "source": []
  },
  {
   "cell_type": "markdown",
   "id": "40f459e4",
   "metadata": {},
   "source": [
    "1) [Wikipedia, Akra-Bazzi Theorem](https://en.wikipedia.org/wiki/Akra%E2%80%93Bazzi_method)"
   ]
  },
  {
   "cell_type": "markdown",
   "id": "d4013104",
   "metadata": {},
   "source": [
    "2) [Notes on a Better Master Theorem, Massachusetts Institute of Technology](https://courses.csail.mit.edu/6.046/fall02/handouts/akrabazzi.pdf)"
   ]
  },
  {
   "cell_type": "markdown",
   "id": "1358b2d6",
   "metadata": {},
   "source": [
    "3) [Libre Texts, Engineering - Divide-and-Conquer Recurrences](https://eng.libretexts.org/Bookshelves/Computer_Science/Programming_and_Computation_Fundamentals/Mathematics_for_Computer_Science_(Lehman_Leighton_and_Meyer)/05%3A_Recurrences/21%3A_Recurrences/21.04%3A_Divide-and-Conquer_Recurrences)"
   ]
  },
  {
   "cell_type": "markdown",
   "id": "6db0c09a",
   "metadata": {},
   "source": [
    "4) [big-O Python Library](https://github.com/pberkes/big_O)"
   ]
  },
  {
   "cell_type": "markdown",
   "id": "82d1f64f",
   "metadata": {},
   "source": [
    "5) [Wikipedia, Halting Problem](https://en.wikipedia.org/wiki/Halting_problem)"
   ]
  },
  {
   "cell_type": "code",
   "execution_count": null,
   "id": "e13b50f0",
   "metadata": {},
   "outputs": [],
   "source": []
  }
 ],
 "metadata": {
  "kernelspec": {
   "display_name": "Python 3 (ipykernel)",
   "language": "python",
   "name": "python3"
  },
  "language_info": {
   "codemirror_mode": {
    "name": "ipython",
    "version": 3
   },
   "file_extension": ".py",
   "mimetype": "text/x-python",
   "name": "python",
   "nbconvert_exporter": "python",
   "pygments_lexer": "ipython3",
   "version": "3.11.2"
  }
 },
 "nbformat": 4,
 "nbformat_minor": 5
}
